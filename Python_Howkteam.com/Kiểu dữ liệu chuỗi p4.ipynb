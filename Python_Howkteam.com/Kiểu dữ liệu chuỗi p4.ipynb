{
 "cells": [
  {
   "cell_type": "markdown",
   "id": "3c1bc02d",
   "metadata": {},
   "source": [
    "# Nội Dung:\n",
    "- Giới thiệu về phương thức của kiểu dữ liệu chuỗi trong Python\n",
    "- Các phương thức biến đổi\n",
    "    - Phương thức capitalize\n",
    "    - Phương thức upper\n",
    "    - Phương thức lower\n",
    "    - Phương thức swapcase\n",
    "    - Phương thức title\n",
    "- Các phương thức định dạng\n",
    "    - Phương thức center\n",
    "    - Phương thức rjust\n",
    "    - Phương thức ljust\n",
    "- Các phương thức xử lí\n",
    "    - Phương thức encode\n",
    "    - Phương thức join\n",
    "    - Phương thức replace\n",
    "    - Phương thức strip\n",
    "    - Phương thức rstrip\n",
    "    - Phương thức lstrip"
   ]
  },
  {
   "cell_type": "markdown",
   "id": "bd2d1b25",
   "metadata": {},
   "source": [
    "## Giới thiệu về phương thức của kiểu dữ liệu chuỗi trong Python\n",
    "\n",
    "- kiểu dữ liệu của Python có nhiều phương thức chuẩn (chưa tính đến các thư viện) để xử lí chuỗi.\n",
    "- String Methods:\n",
    "\n",
    "![](https://codehs.gitbooks.io/apjava/content/static/methods/string-methods-table.png)\n",
    "\n",
    "- Các phương thức này đều có giá trị trả về và không ảnh hưởng gì tới giá trị ban đầu. Tương tự như một số hàm cơ bản: int,float, str"
   ]
  },
  {
   "cell_type": "markdown",
   "id": "fcf8df28",
   "metadata": {},
   "source": [
    "## Các phương thức biến đổi\n",
    "\n",
    "### Phương thức capitalize\n",
    "- Cú pháp:\n",
    "        <chuỗi>.capitalize()\n",
    "- Công dụng: Trả về một chuỗi với kí tự đầu tiên được viết hoa và viết thường tất cả những kí tự còn lại."
   ]
  },
  {
   "cell_type": "code",
   "execution_count": 3,
   "id": "cf9aac04",
   "metadata": {},
   "outputs": [
    {
     "data": {
      "text/plain": [
       "'Khánh'"
      ]
     },
     "execution_count": 3,
     "metadata": {},
     "output_type": "execute_result"
    }
   ],
   "source": [
    "# in hoa chữ cái đầu tiên\n",
    "'khánh'.capitalize()"
   ]
  },
  {
   "cell_type": "code",
   "execution_count": 10,
   "id": "5e408338",
   "metadata": {},
   "outputs": [
    {
     "data": {
      "text/plain": [
       "'Hello!, my name is khánh'"
      ]
     },
     "execution_count": 10,
     "metadata": {},
     "output_type": "execute_result"
    }
   ],
   "source": [
    "# tất cả chữ còn lại viết thường\n",
    "'hello!, My Name IS khánh' .capitalize()"
   ]
  },
  {
   "cell_type": "code",
   "execution_count": 11,
   "id": "15dbd75c",
   "metadata": {},
   "outputs": [
    {
     "data": {
      "text/plain": [
       "' hello'"
      ]
     },
     "execution_count": 11,
     "metadata": {},
     "output_type": "execute_result"
    }
   ],
   "source": [
    "# chữ cái đầu là một khoảng trắng\n",
    "' hello' .capitalize()"
   ]
  },
  {
   "cell_type": "markdown",
   "id": "73e4a90a",
   "metadata": {},
   "source": [
    "### Phương thức upper\n",
    "- Cú pháp:\n",
    "        <chuỗi>.upper()\n",
    "- Công dụng: trả về một chuỗi với tất cả kí tự được chuyển thành các kí tự viết hoa"
   ]
  },
  {
   "cell_type": "code",
   "execution_count": 12,
   "id": "5841d8a7",
   "metadata": {},
   "outputs": [
    {
     "data": {
      "text/plain": [
       "'NGUYEN MINH KHANH'"
      ]
     },
     "execution_count": 12,
     "metadata": {},
     "output_type": "execute_result"
    }
   ],
   "source": [
    "# viết hoa tất cả kí tự\n",
    "'nguyen minh khanh'.upper()"
   ]
  },
  {
   "cell_type": "code",
   "execution_count": 13,
   "id": "99affe4f",
   "metadata": {},
   "outputs": [
    {
     "data": {
      "text/plain": [
       "'HELLO!, MY NAME IS KHÁNH'"
      ]
     },
     "execution_count": 13,
     "metadata": {},
     "output_type": "execute_result"
    }
   ],
   "source": [
    "'Hello!, My name IS khánh'.upper()"
   ]
  },
  {
   "cell_type": "code",
   "execution_count": 14,
   "id": "c32da398",
   "metadata": {},
   "outputs": [
    {
     "data": {
      "text/plain": [
       "'PYTHON'"
      ]
     },
     "execution_count": 14,
     "metadata": {},
     "output_type": "execute_result"
    }
   ],
   "source": [
    "'python' .upper()"
   ]
  },
  {
   "cell_type": "markdown",
   "id": "fa54088e",
   "metadata": {},
   "source": [
    "### Phương thức lower\n",
    "- Cú Pháp:\n",
    "        <chuỗi>.lower()\n",
    "- Công dụng: trả về một chuỗi với tất cả kí tự được chuyển thành kí tự thường"
   ]
  },
  {
   "cell_type": "code",
   "execution_count": 15,
   "id": "b4fabd4b",
   "metadata": {},
   "outputs": [
    {
     "data": {
      "text/plain": [
       "'hello!, my name is khánh'"
      ]
     },
     "execution_count": 15,
     "metadata": {},
     "output_type": "execute_result"
    }
   ],
   "source": [
    "# viết thường tất cả kí tự\n",
    "'HELLO!, MY NAME IS KHÁNH'.lower()"
   ]
  },
  {
   "cell_type": "code",
   "execution_count": 16,
   "id": "ba0bcdd2",
   "metadata": {},
   "outputs": [
    {
     "data": {
      "text/plain": [
       "'hôm nay trời đẹp!'"
      ]
     },
     "execution_count": 16,
     "metadata": {},
     "output_type": "execute_result"
    }
   ],
   "source": [
    "'hôm NAY Trời đẸp!' .lower()"
   ]
  },
  {
   "cell_type": "markdown",
   "id": "6134a3d8",
   "metadata": {},
   "source": [
    "### Phương thức swapcase\n",
    "- Cú pháp:\n",
    "        <chuỗi>.swapcase()\n",
    "- Công dụng: trả về một chuỗi với các kí tự viết hoa được chuyển thành viết thường, các kí tự viết thường được chuyển thành viết hoa."
   ]
  },
  {
   "cell_type": "code",
   "execution_count": 17,
   "id": "4ed9d84f",
   "metadata": {},
   "outputs": [
    {
     "data": {
      "text/plain": [
       "'hÔM, nay TRỜI MưA'"
      ]
     },
     "execution_count": 17,
     "metadata": {},
     "output_type": "execute_result"
    }
   ],
   "source": [
    "# viết hoa chữ thường, viết thường chữ hoa\n",
    "'Hôm, NAY trời mƯa'.swapcase()"
   ]
  },
  {
   "cell_type": "code",
   "execution_count": 20,
   "id": "9a2cf49d",
   "metadata": {},
   "outputs": [
    {
     "data": {
      "text/plain": [
       "'PYTHON beginner'"
      ]
     },
     "execution_count": 20,
     "metadata": {},
     "output_type": "execute_result"
    }
   ],
   "source": [
    "'python BEGINNER'.swapcase()"
   ]
  },
  {
   "cell_type": "markdown",
   "id": "76eefa7e",
   "metadata": {},
   "source": [
    "### Phương thức title\n",
    "- Cú pháp:\n",
    "        <chuỗi>.title()\n",
    "- Công dụng: trả về một chuỗi với định dạng tiêu đề, có nghĩa là  các từ sẽ được viết hoa chữ cái đầu tiên, còn lại viết thường."
   ]
  },
  {
   "cell_type": "code",
   "execution_count": 21,
   "id": "8f64f7cc",
   "metadata": {},
   "outputs": [
    {
     "data": {
      "text/plain": [
       "'Hello!, My Name Is Khánh'"
      ]
     },
     "execution_count": 21,
     "metadata": {},
     "output_type": "execute_result"
    }
   ],
   "source": [
    "# viết hoa kí tự đầu tiên của mỗi từ\n",
    "'hello!, my name is khánh'.title()"
   ]
  },
  {
   "cell_type": "code",
   "execution_count": 22,
   "id": "cddbacb0",
   "metadata": {},
   "outputs": [
    {
     "data": {
      "text/plain": [
       "'Python Is A Programing Language'"
      ]
     },
     "execution_count": 22,
     "metadata": {},
     "output_type": "execute_result"
    }
   ],
   "source": [
    "'PYTHON IS A PROGRAMING LANGUAGE'.title()"
   ]
  },
  {
   "cell_type": "markdown",
   "id": "1df53085",
   "metadata": {},
   "source": [
    "## Các phương thức định dạng\n",
    "\n",
    "### Phương thức Center\n",
    "- Cú pháp:\n",
    "        <chuỗi>.center(width, [fillchar])\n",
    "- Công dụng: trả về một chuỗi được căn giữa với chiều rộng width.\n",
    "    - Nếu fillchar là None (không được nhập vào) thì sẽ dùng kí tự khoảng trắng để căn, không thì sẽ căn bằng kí tự fillchar.\n",
    "    - Kí tự fillchar là một chuỗi có độ dài là 1."
   ]
  },
  {
   "cell_type": "code",
   "execution_count": 24,
   "id": "43b7c97a",
   "metadata": {},
   "outputs": [
    {
     "data": {
      "text/plain": [
       "'    abc     '"
      ]
     },
     "execution_count": 24,
     "metadata": {},
     "output_type": "execute_result"
    }
   ],
   "source": [
    "# fillchar = None\n",
    "'abc'.center(12)"
   ]
  },
  {
   "cell_type": "code",
   "execution_count": 25,
   "id": "6845b26e",
   "metadata": {},
   "outputs": [
    {
     "data": {
      "text/plain": [
       "'****abc*****'"
      ]
     },
     "execution_count": 25,
     "metadata": {},
     "output_type": "execute_result"
    }
   ],
   "source": [
    "# fillchar = *\n",
    "'abc'.center(12,'*')"
   ]
  },
  {
   "cell_type": "code",
   "execution_count": 27,
   "id": "2534cedd",
   "metadata": {},
   "outputs": [
    {
     "ename": "TypeError",
     "evalue": "The fill character must be exactly one character long",
     "output_type": "error",
     "traceback": [
      "\u001b[1;31m---------------------------------------------------------------------------\u001b[0m",
      "\u001b[1;31mTypeError\u001b[0m                                 Traceback (most recent call last)",
      "\u001b[1;32m<ipython-input-27-e0525c759cfd>\u001b[0m in \u001b[0;36m<module>\u001b[1;34m\u001b[0m\n\u001b[0;32m      1\u001b[0m \u001b[1;31m# fillchar chỉ điền được 1 kí tự\u001b[0m\u001b[1;33m\u001b[0m\u001b[1;33m\u001b[0m\u001b[1;33m\u001b[0m\u001b[0m\n\u001b[1;32m----> 2\u001b[1;33m \u001b[1;34m'abc'\u001b[0m\u001b[1;33m.\u001b[0m\u001b[0mcenter\u001b[0m\u001b[1;33m(\u001b[0m\u001b[1;36m12\u001b[0m\u001b[1;33m,\u001b[0m\u001b[1;34m'*a'\u001b[0m\u001b[1;33m)\u001b[0m\u001b[1;33m\u001b[0m\u001b[1;33m\u001b[0m\u001b[0m\n\u001b[0m",
      "\u001b[1;31mTypeError\u001b[0m: The fill character must be exactly one character long"
     ]
    }
   ],
   "source": [
    "# fillchar chỉ điền được 1 kí tự\n",
    "'abc'.center(12,'*a')"
   ]
  },
  {
   "cell_type": "code",
   "execution_count": 30,
   "id": "c2dce0ae",
   "metadata": {},
   "outputs": [
    {
     "ename": "TypeError",
     "evalue": "The fill character must be exactly one character long",
     "output_type": "error",
     "traceback": [
      "\u001b[1;31m---------------------------------------------------------------------------\u001b[0m",
      "\u001b[1;31mTypeError\u001b[0m                                 Traceback (most recent call last)",
      "\u001b[1;32m<ipython-input-30-732a3a54ffc9>\u001b[0m in \u001b[0;36m<module>\u001b[1;34m\u001b[0m\n\u001b[0;32m      1\u001b[0m \u001b[1;31m# fillchar không được bỏ trống\u001b[0m\u001b[1;33m\u001b[0m\u001b[1;33m\u001b[0m\u001b[1;33m\u001b[0m\u001b[0m\n\u001b[1;32m----> 2\u001b[1;33m \u001b[1;34m'abc'\u001b[0m\u001b[1;33m.\u001b[0m\u001b[0mcenter\u001b[0m\u001b[1;33m(\u001b[0m\u001b[1;36m12\u001b[0m\u001b[1;33m,\u001b[0m\u001b[1;34m''\u001b[0m\u001b[1;33m)\u001b[0m\u001b[1;33m\u001b[0m\u001b[1;33m\u001b[0m\u001b[0m\n\u001b[0m",
      "\u001b[1;31mTypeError\u001b[0m: The fill character must be exactly one character long"
     ]
    }
   ],
   "source": [
    "# fillchar không được bỏ trống\n",
    "'abc'.center(12,'')"
   ]
  },
  {
   "cell_type": "code",
   "execution_count": 31,
   "id": "c9c27753",
   "metadata": {},
   "outputs": [
    {
     "data": {
      "text/plain": [
       "'    abc     '"
      ]
     },
     "execution_count": 31,
     "metadata": {},
     "output_type": "execute_result"
    }
   ],
   "source": [
    "# khoảng trắng là một kí tự\n",
    "'abc'.center(12,' ')"
   ]
  },
  {
   "cell_type": "markdown",
   "id": "27c23a05",
   "metadata": {},
   "source": [
    "### Phương thức rjust\n",
    "- Cú pháp:\n",
    "        <chuỗi>.rjust(width,[fillchar])\n",
    "- Công dụng: Cách hoạt động tương tự như phương thức center, có điều là căn lề phải."
   ]
  },
  {
   "cell_type": "code",
   "execution_count": 32,
   "id": "a803b8d3",
   "metadata": {},
   "outputs": [
    {
     "data": {
      "text/plain": [
       "'         abc'"
      ]
     },
     "execution_count": 32,
     "metadata": {},
     "output_type": "execute_result"
    }
   ],
   "source": [
    "'abc'.rjust(12)"
   ]
  },
  {
   "cell_type": "code",
   "execution_count": 33,
   "id": "98812c01",
   "metadata": {},
   "outputs": [
    {
     "data": {
      "text/plain": [
       "'*********abc'"
      ]
     },
     "execution_count": 33,
     "metadata": {},
     "output_type": "execute_result"
    }
   ],
   "source": [
    "'abc'.rjust(12,'*')"
   ]
  },
  {
   "cell_type": "code",
   "execution_count": 34,
   "id": "75f07a35",
   "metadata": {},
   "outputs": [
    {
     "data": {
      "text/plain": [
       "'         abc'"
      ]
     },
     "execution_count": 34,
     "metadata": {},
     "output_type": "execute_result"
    }
   ],
   "source": [
    "'abc'.rjust(12,' ')"
   ]
  },
  {
   "cell_type": "code",
   "execution_count": 37,
   "id": "83066622",
   "metadata": {},
   "outputs": [
    {
     "ename": "TypeError",
     "evalue": "The fill character must be exactly one character long",
     "output_type": "error",
     "traceback": [
      "\u001b[1;31m---------------------------------------------------------------------------\u001b[0m",
      "\u001b[1;31mTypeError\u001b[0m                                 Traceback (most recent call last)",
      "\u001b[1;32m<ipython-input-37-e8de6cbceeb2>\u001b[0m in \u001b[0;36m<module>\u001b[1;34m\u001b[0m\n\u001b[1;32m----> 1\u001b[1;33m \u001b[1;34m'abc'\u001b[0m\u001b[1;33m.\u001b[0m\u001b[0mrjust\u001b[0m\u001b[1;33m(\u001b[0m\u001b[1;36m12\u001b[0m\u001b[1;33m,\u001b[0m\u001b[1;34m''\u001b[0m\u001b[1;33m)\u001b[0m\u001b[1;33m\u001b[0m\u001b[1;33m\u001b[0m\u001b[0m\n\u001b[0m",
      "\u001b[1;31mTypeError\u001b[0m: The fill character must be exactly one character long"
     ]
    }
   ],
   "source": [
    "'abc'.rjust(12,'')"
   ]
  },
  {
   "cell_type": "markdown",
   "id": "517d39f5",
   "metadata": {},
   "source": [
    "### Phương thức ljust\n",
    "- Cú pháp: \n",
    "        <chuỗi>.ljust(width,[fillchar])\\\n",
    "- Công dụng: Cách hoạt động tương tự phương thức center, nhưng căn lề trái."
   ]
  },
  {
   "cell_type": "code",
   "execution_count": 38,
   "id": "99d65dbc",
   "metadata": {},
   "outputs": [
    {
     "data": {
      "text/plain": [
       "'abc         '"
      ]
     },
     "execution_count": 38,
     "metadata": {},
     "output_type": "execute_result"
    }
   ],
   "source": [
    "'abc'.ljust(12)"
   ]
  },
  {
   "cell_type": "code",
   "execution_count": 39,
   "id": "a73ba201",
   "metadata": {},
   "outputs": [
    {
     "data": {
      "text/plain": [
       "'abc*********'"
      ]
     },
     "execution_count": 39,
     "metadata": {},
     "output_type": "execute_result"
    }
   ],
   "source": [
    "'abc'.ljust(12,'*')"
   ]
  },
  {
   "cell_type": "code",
   "execution_count": 40,
   "id": "fbd9bf28",
   "metadata": {},
   "outputs": [
    {
     "data": {
      "text/plain": [
       "'abc         '"
      ]
     },
     "execution_count": 40,
     "metadata": {},
     "output_type": "execute_result"
    }
   ],
   "source": [
    "'abc'.ljust(12,' ')"
   ]
  },
  {
   "cell_type": "code",
   "execution_count": 41,
   "id": "43f111ce",
   "metadata": {},
   "outputs": [
    {
     "ename": "TypeError",
     "evalue": "The fill character must be exactly one character long",
     "output_type": "error",
     "traceback": [
      "\u001b[1;31m---------------------------------------------------------------------------\u001b[0m",
      "\u001b[1;31mTypeError\u001b[0m                                 Traceback (most recent call last)",
      "\u001b[1;32m<ipython-input-41-23ed85b61fde>\u001b[0m in \u001b[0;36m<module>\u001b[1;34m\u001b[0m\n\u001b[1;32m----> 1\u001b[1;33m \u001b[1;34m'abc'\u001b[0m\u001b[1;33m.\u001b[0m\u001b[0mljust\u001b[0m\u001b[1;33m(\u001b[0m\u001b[1;36m12\u001b[0m\u001b[1;33m,\u001b[0m\u001b[1;34m''\u001b[0m\u001b[1;33m)\u001b[0m\u001b[1;33m\u001b[0m\u001b[1;33m\u001b[0m\u001b[0m\n\u001b[0m",
      "\u001b[1;31mTypeError\u001b[0m: The fill character must be exactly one character long"
     ]
    }
   ],
   "source": [
    "'abc'.ljust(12,'')"
   ]
  },
  {
   "cell_type": "markdown",
   "id": "fb07d216",
   "metadata": {},
   "source": [
    "## Các phương thức xử lí\n",
    "\n",
    "### Phương thức encode\n",
    "- Cú pháp:\n",
    "        <chuỗi>.encode(encoding='utf-8',errors='strict')\n",
    "- Công dụng: Đây là phương thức dùng để encode một chuỗi với phương thức mã hóa mặc định là utf-8. Còn về errors mặc định sẽ là strict có nghĩa là sẽ có thông báo lỗi hiện lên nếu có vấn đề xuất hiện trong quá trình encode chuỗi. Một số giá trị ngoài strict là ignore, replace, xmlcharrefreplace. (Đây là phần nâng cao)"
   ]
  },
  {
   "cell_type": "code",
   "execution_count": 42,
   "id": "23f2740d",
   "metadata": {},
   "outputs": [
    {
     "data": {
      "text/plain": [
       "'1 2 3'"
      ]
     },
     "execution_count": 42,
     "metadata": {},
     "output_type": "execute_result"
    }
   ],
   "source": [
    "# iterable ở đây là list['1','2','3']\n",
    "' '.join(['1','2','3'])"
   ]
  },
  {
   "cell_type": "code",
   "execution_count": 43,
   "id": "fb6bc37c",
   "metadata": {},
   "outputs": [
    {
     "data": {
      "text/plain": [
       "'1 2 3'"
      ]
     },
     "execution_count": 43,
     "metadata": {},
     "output_type": "execute_result"
    }
   ],
   "source": [
    "# iterable ở đây là tupple('1','2','3')\n",
    "' '.join(('1','2','3'))"
   ]
  },
  {
   "cell_type": "code",
   "execution_count": 44,
   "id": "29b4c878",
   "metadata": {},
   "outputs": [
    {
     "ename": "TypeError",
     "evalue": "'builtin_function_or_method' object is not subscriptable",
     "output_type": "error",
     "traceback": [
      "\u001b[1;31m---------------------------------------------------------------------------\u001b[0m",
      "\u001b[1;31mTypeError\u001b[0m                                 Traceback (most recent call last)",
      "\u001b[1;32m<ipython-input-44-ca7fcd6bf8d5>\u001b[0m in \u001b[0;36m<module>\u001b[1;34m\u001b[0m\n\u001b[0;32m      1\u001b[0m \u001b[1;31m# phần tử trong list không phải là chuỗi\u001b[0m\u001b[1;33m\u001b[0m\u001b[1;33m\u001b[0m\u001b[1;33m\u001b[0m\u001b[0m\n\u001b[1;32m----> 2\u001b[1;33m \u001b[1;34m' '\u001b[0m\u001b[1;33m.\u001b[0m\u001b[0mjoin\u001b[0m\u001b[1;33m[\u001b[0m\u001b[1;36m1\u001b[0m\u001b[1;33m,\u001b[0m \u001b[1;36m2\u001b[0m\u001b[1;33m,\u001b[0m \u001b[1;36m3\u001b[0m\u001b[1;33m]\u001b[0m\u001b[1;33m\u001b[0m\u001b[1;33m\u001b[0m\u001b[0m\n\u001b[0m",
      "\u001b[1;31mTypeError\u001b[0m: 'builtin_function_or_method' object is not subscriptable"
     ]
    }
   ],
   "source": [
    "# phần tử trong list không phải là chuỗi\n",
    "' '.join[1, 2, 3]"
   ]
  },
  {
   "cell_type": "markdown",
   "id": "3bd2d398",
   "metadata": {},
   "source": [
    "### Phương thức replace\n",
    "- Cú pháp: \n",
    "        <chuỗi>.replace(old,new,[count])\n",
    "- Công dụng: Trả về một chuỗi với các chuỗi old nằm trong chuỗi ban đầu được thay thế bằng chuỗi new. Nếu count khác None (có nghĩa là ta cho thêm count) thì ta sẽ thay thế old bằng new với số lượng count từ trái qua phải.\n",
    "    - Nếu chuỗi old không nằm trong chuỗi ban đầu hoặc count là 0 thì sẽ trả về một chuỗi giống với chuỗi ban đầu."
   ]
  },
  {
   "cell_type": "code",
   "execution_count": 62,
   "id": "2317df7c",
   "metadata": {},
   "outputs": [
    {
     "data": {
      "text/plain": [
       "'qwe how qwe xyz'"
      ]
     },
     "execution_count": 62,
     "metadata": {},
     "output_type": "execute_result"
    }
   ],
   "source": [
    "# count = None\n",
    "# 'qwe' sẽ thay thế cho 'abc'\n",
    "'abc how abc xyz' .replace('abc','qwe')"
   ]
  },
  {
   "cell_type": "code",
   "execution_count": 63,
   "id": "34556ba9",
   "metadata": {},
   "outputs": [
    {
     "data": {
      "text/plain": [
       "'QQQbc how QQQbc xyz'"
      ]
     },
     "execution_count": 63,
     "metadata": {},
     "output_type": "execute_result"
    }
   ],
   "source": [
    "# 'QQQ' sẽ thay thế cho 'abc'\n",
    "'abc how abc xyz' .replace('a','QQQ')"
   ]
  },
  {
   "cell_type": "code",
   "execution_count": 58,
   "id": "417acba8",
   "metadata": {},
   "outputs": [
    {
     "data": {
      "text/plain": [
       "'abc how abc xyz'"
      ]
     },
     "execution_count": 58,
     "metadata": {},
     "output_type": "execute_result"
    }
   ],
   "source": [
    "# 'abcd' old không nằm trong chuỗi ban đầu\n",
    "# in ra một chuỗi giống chuỗi ban đầu\n",
    "'abc how abc xyz' .replace('abcd','QQQ')"
   ]
  },
  {
   "cell_type": "code",
   "execution_count": 59,
   "id": "a29f6bf6",
   "metadata": {},
   "outputs": [
    {
     "data": {
      "text/plain": [
       "'abc how abc xyz'"
      ]
     },
     "execution_count": 59,
     "metadata": {},
     "output_type": "execute_result"
    }
   ],
   "source": [
    "# 'abcd' không phải old\n",
    "'abc how abc xyz' .replace('abcd','QQQ', 4)"
   ]
  },
  {
   "cell_type": "code",
   "execution_count": 60,
   "id": "39986dc4",
   "metadata": {},
   "outputs": [
    {
     "data": {
      "text/plain": [
       "'QQQ how abc xyz'"
      ]
     },
     "execution_count": 60,
     "metadata": {},
     "output_type": "execute_result"
    }
   ],
   "source": [
    "# count = 1\n",
    "'abc how abc xyz' .replace('abc','QQQ', 1)"
   ]
  },
  {
   "cell_type": "code",
   "execution_count": 67,
   "id": "96c0206c",
   "metadata": {},
   "outputs": [
    {
     "data": {
      "text/plain": [
       "'QQQ how QQQ xyz abc'"
      ]
     },
     "execution_count": 67,
     "metadata": {},
     "output_type": "execute_result"
    }
   ],
   "source": [
    "# count = 2\n",
    "# 'abc' được thay thế = 'QQQ' 2 lần từ trái qua phải\n",
    "'abc how abc xyz abc' .replace('abc','QQQ', 2)"
   ]
  },
  {
   "cell_type": "code",
   "execution_count": 68,
   "id": "f4e71a0f",
   "metadata": {},
   "outputs": [
    {
     "data": {
      "text/plain": [
       "'abc how abc xyz abc'"
      ]
     },
     "execution_count": 68,
     "metadata": {},
     "output_type": "execute_result"
    }
   ],
   "source": [
    "# count = 0 \n",
    "# in ra chuỗi ban đầu\n",
    "'abc how abc xyz abc' .replace('abc','QQQ', 0)"
   ]
  },
  {
   "cell_type": "markdown",
   "id": "2284de94",
   "metadata": {},
   "source": [
    "### Phương thức strip\n",
    "\n",
    "- Phương thức này hơi rắc rối nếu ta chưa hiểu rõ cách hoạt động.\n",
    "- Cú pháp:\n",
    "        <chuỗi>.strip([chars])\n",
    "- Công dụng: trả về một chuỗi với phần đầu và phần đuôi của chuỗi được bỏ đi các kí tự chars. Nếu chars bị bỏ trống thì mặc định các kí tự bị bỏ là dấu khoảng trắng và escape sequence ngoại lệ như \\a sẽ được encode utf-8. Tuy vậy, không có ảnh hưởng gì tới nội dung."
   ]
  },
  {
   "cell_type": "code",
   "execution_count": 70,
   "id": "48455bce",
   "metadata": {},
   "outputs": [
    {
     "data": {
      "text/plain": [
       "'kter'"
      ]
     },
     "execution_count": 70,
     "metadata": {},
     "output_type": "execute_result"
    }
   ],
   "source": [
    "# chars bỏ trống\n",
    "# bỏ dấu khoảng trắng\n",
    "'       kter         '.strip()"
   ]
  },
  {
   "cell_type": "code",
   "execution_count": 72,
   "id": "646df128",
   "metadata": {},
   "outputs": [
    {
     "data": {
      "text/plain": [
       "'Hello, My name is Khánh'"
      ]
     },
     "execution_count": 72,
     "metadata": {},
     "output_type": "execute_result"
    }
   ],
   "source": [
    "# bỏ đi khoảng trắng ở phần đầu và phần đuôi\n",
    "'   Hello, My name is Khánh    '.strip()"
   ]
  },
  {
   "cell_type": "code",
   "execution_count": 74,
   "id": "209ab306",
   "metadata": {},
   "outputs": [
    {
     "data": {
      "text/plain": [
       "'kter'"
      ]
     },
     "execution_count": 74,
     "metadata": {},
     "output_type": "execute_result"
    }
   ],
   "source": [
    "# chars: '%'\n",
    "'%%%%%%kter%%%%%'.strip('%')"
   ]
  },
  {
   "cell_type": "code",
   "execution_count": 89,
   "id": "f3fde739",
   "metadata": {},
   "outputs": [
    {
     "data": {
      "text/plain": [
       "'kabcter'"
      ]
     },
     "execution_count": 89,
     "metadata": {},
     "output_type": "execute_result"
    }
   ],
   "source": [
    "# char: 'abc'\n",
    "# bỏ đi các kí tự 'a', 'b' và 'c' ở phần đầu và đuôi của chuỗi \n",
    "'cababkabcterabcbcaa'.strip('abc')"
   ]
  },
  {
   "cell_type": "code",
   "execution_count": 77,
   "id": "b195ff03",
   "metadata": {},
   "outputs": [
    {
     "data": {
      "text/plain": [
       "'\\x07kter\\x07\\x07'"
      ]
     },
     "execution_count": 77,
     "metadata": {},
     "output_type": "execute_result"
    }
   ],
   "source": [
    "# các \\a biến thành \\07\n",
    "'\\t\\n\\akter\\a\\a\\n\\v'.strip()"
   ]
  },
  {
   "cell_type": "code",
   "execution_count": 81,
   "id": "bab6bf94",
   "metadata": {},
   "outputs": [
    {
     "name": "stdout",
     "output_type": "stream",
     "text": [
      "\u0007kter\u0007\u0007\n"
     ]
    }
   ],
   "source": [
    "print('\\t\\n\\akter\\a\\a\\n\\v'.strip())"
   ]
  },
  {
   "cell_type": "code",
   "execution_count": 83,
   "id": "454aa3c1",
   "metadata": {},
   "outputs": [
    {
     "name": "stdout",
     "output_type": "stream",
     "text": [
      "\u0007kter\u0007\u0007\n"
     ]
    }
   ],
   "source": [
    "# dùng print('\\x07kter\\x07\\x07') kết quả tương tự\n",
    "print('\\x07kter\\x07\\x07')"
   ]
  },
  {
   "attachments": {
    "strip.jpg": {
     "image/jpeg": "[encoded data removed]"
    }
   },
   "cell_type": "markdown",
   "id": "e40cf572",
   "metadata": {},
   "source": [
    "code trên Sublime Text\n",
    "\n",
    "![strip.jpg](attachment:strip.jpg)"
   ]
  },
  {
   "cell_type": "markdown",
   "id": "b3b6f91f",
   "metadata": {},
   "source": [
    "### Phương thức rstrip\n",
    "- Cú pháp:\n",
    "        <chuỗi>.rstrip()\n",
    "- Công dụng: Cách hoạt động hoàn toàn như phương thức strip, nhưng khác là chỉ bỏ đi ở phần đuôi (từ phải sang trái)"
   ]
  },
  {
   "cell_type": "code",
   "execution_count": 85,
   "id": "7dce49c5",
   "metadata": {},
   "outputs": [
    {
     "data": {
      "text/plain": [
       "'    kter'"
      ]
     },
     "execution_count": 85,
     "metadata": {},
     "output_type": "execute_result"
    }
   ],
   "source": [
    "# chỉ bỏ khoảng trắng phần đuôi\n",
    "'    kter    '.rstrip()"
   ]
  },
  {
   "cell_type": "code",
   "execution_count": 87,
   "id": "957be67d",
   "metadata": {},
   "outputs": [
    {
     "data": {
      "text/plain": [
       "'%%%%%%kter'"
      ]
     },
     "execution_count": 87,
     "metadata": {},
     "output_type": "execute_result"
    }
   ],
   "source": [
    "# chỉ bỏ % phần đuôi\n",
    "'%%%%%%kter%%%%%%'.rstrip('%')"
   ]
  },
  {
   "cell_type": "code",
   "execution_count": 90,
   "id": "d0c4a168",
   "metadata": {},
   "outputs": [
    {
     "data": {
      "text/plain": [
       "'aababcakabcter'"
      ]
     },
     "execution_count": 90,
     "metadata": {},
     "output_type": "execute_result"
    }
   ],
   "source": [
    "# chỉ bỏ các kí tự 'a', 'b', 'c' phần đuôi\n",
    "'aababcakabctercacacbb'.rstrip('abc')"
   ]
  },
  {
   "cell_type": "markdown",
   "id": "a9f7c9d3",
   "metadata": {},
   "source": [
    "### Phương thức lstrip\n",
    "- Cú pháp: \n",
    "        <chuỗi>.lstrip()\n",
    "-  Công dụng: cách hoạt động tương tự phương thức rstrip, khác ở chỗ rstrip lo phần đuôi còn lstrip lo phần đầu (từ trái sang phải)."
   ]
  },
  {
   "cell_type": "code",
   "execution_count": 95,
   "id": "e005e12e",
   "metadata": {},
   "outputs": [
    {
     "data": {
      "text/plain": [
       "'kter    '"
      ]
     },
     "execution_count": 95,
     "metadata": {},
     "output_type": "execute_result"
    }
   ],
   "source": [
    "# chỉ bỏ đi dấu khoảng trắng ở phần đầu\n",
    "'    kter    '.lstrip()"
   ]
  },
  {
   "cell_type": "code",
   "execution_count": 96,
   "id": "9c655f57",
   "metadata": {},
   "outputs": [
    {
     "data": {
      "text/plain": [
       "'kter%%%%%%'"
      ]
     },
     "execution_count": 96,
     "metadata": {},
     "output_type": "execute_result"
    }
   ],
   "source": [
    "# chỉ bỏ đi đấu % ở phần đầu\n",
    "'%%%%%%kter%%%%%%'.lstrip('%')"
   ]
  },
  {
   "cell_type": "code",
   "execution_count": 97,
   "id": "f04c9d5d",
   "metadata": {},
   "outputs": [
    {
     "data": {
      "text/plain": [
       "'kabctercacacbb'"
      ]
     },
     "execution_count": 97,
     "metadata": {},
     "output_type": "execute_result"
    }
   ],
   "source": [
    "# chỉ bỏ các kí tự 'a', 'b', 'c' phần đầu\n",
    "'aababcakabctercacacbb'.lstrip('abc')"
   ]
  }
 ],
 "metadata": {
  "kernelspec": {
   "display_name": "Python 3",
   "language": "python",
   "name": "python3"
  },
  "language_info": {
   "codemirror_mode": {
    "name": "ipython",
    "version": 3
   },
   "file_extension": ".py",
   "mimetype": "text/x-python",
   "name": "python",
   "nbconvert_exporter": "python",
   "pygments_lexer": "ipython3",
   "version": "3.8.8"
  }
 },
 "nbformat": 4,
 "nbformat_minor": 5
}
