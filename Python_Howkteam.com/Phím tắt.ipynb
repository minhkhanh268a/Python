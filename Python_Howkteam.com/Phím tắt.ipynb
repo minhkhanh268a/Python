{
 "cells": [
  {
   "cell_type": "markdown",
   "id": "71cf1a2e",
   "metadata": {},
   "source": [
    "# Phím tắt thông dụng\n",
    "- Shift + Enter : Chạy cell hiện tại và chuyển xuống cell tiếp theo,\n",
    "- Ctrl + Enter : Chạy cell hiện tại và giữ nguyên ở cell hiện tại.\n",
    "- A : Tạo 1 cell ở trên cell hiện tại.\n",
    "- B : Tạo 1 cell ở dưới cell hiện tại.\n",
    "- C : copy cell.\n",
    "- V : paste cell\n",
    "- D x 2 : Xoá cell đang chọn.\n",
    "- Shift + M : Nối các cell được chọn với nhau nếu chỉ có 1 cell thì sẽ nối cell đó với cell bên dưới.\n",
    "- I x 2 : Interrupt Kernel.\n",
    "- 0 x 2 : Restart Kernel\n",
    "- Y : chuyển sang cell mode.\n",
    "- M : chuyển sang markdown mode\n",
    "- ESC : chuyển sang chế độ lệnh\n",
    "- Ctrl + / : Comment code"
   ]
  },
  {
   "cell_type": "code",
   "execution_count": 1,
   "id": "6a09623d",
   "metadata": {},
   "outputs": [
    {
     "name": "stdout",
     "output_type": "stream",
     "text": [
      "Hello world\n"
     ]
    }
   ],
   "source": [
    "print('Hello world')"
   ]
  },
  {
   "cell_type": "code",
   "execution_count": 6,
   "id": "61b69b72",
   "metadata": {},
   "outputs": [
    {
     "data": {
      "text/plain": [
       "15"
      ]
     },
     "execution_count": 6,
     "metadata": {},
     "output_type": "execute_result"
    }
   ],
   "source": [
    "# Phép tính cộng\n",
    "a = 1 + 2 + 3 + 4 + 5\n",
    "a"
   ]
  },
  {
   "cell_type": "markdown",
   "id": "c03be2ed",
   "metadata": {},
   "source": [
    "# Chèn \n",
    "- hình ảnh\n",
    "   - !<[]><(link_ảnh)>\n",
    "- link\n",
    "    - [tên_link](link)"
   ]
  }
 ],
 "metadata": {
  "kernelspec": {
   "display_name": "Python 3",
   "language": "python",
   "name": "python3"
  },
  "language_info": {
   "codemirror_mode": {
    "name": "ipython",
    "version": 3
   },
   "file_extension": ".py",
   "mimetype": "text/x-python",
   "name": "python",
   "nbconvert_exporter": "python",
   "pygments_lexer": "ipython3",
   "version": "3.8.8"
  }
 },
 "nbformat": 4,
 "nbformat_minor": 5
}
