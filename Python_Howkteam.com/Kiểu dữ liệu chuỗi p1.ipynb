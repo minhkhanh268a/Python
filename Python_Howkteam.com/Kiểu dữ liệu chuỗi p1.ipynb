{
 "cells": [
  {
   "cell_type": "markdown",
   "id": "06e771a5",
   "metadata": {},
   "source": [
    "# Nội Dung:\n",
    "- Chuỗi là gì?\n",
    "- Sự khác nhau giữa ‘’ và “”\n",
    "- Chuỗi nhiều dòng với ‘’’ và “””. Khái niệm Docstring\n",
    "    - Chuỗi nhiều dòng với ‘’’ và “””\n",
    "    - Khái niệm Docstring\n",
    "- Escape Sequence là gì?"
   ]
  },
  {
   "cell_type": "markdown",
   "id": "7fe760c0",
   "metadata": {},
   "source": [
    "## Chuỗi là gì ?\n",
    "    \n",
    "- Trong python chuỗi là những thứ đặt trong cặp dấu '', hoặc \"\", có thể cũng là trong cặp ''' ''', \"\"\" \"\"\"\n",
    "- Cơ bản và thường sử dụng nhất là cặp '' hoặc \"\""
   ]
  },
  {
   "cell_type": "code",
   "execution_count": 5,
   "id": "2365de7e",
   "metadata": {},
   "outputs": [
    {
     "data": {
      "text/plain": [
       "'Nguyễn Minh Khánh'"
      ]
     },
     "execution_count": 5,
     "metadata": {},
     "output_type": "execute_result"
    }
   ],
   "source": [
    "'Nguyễn Minh Khánh'"
   ]
  },
  {
   "cell_type": "code",
   "execution_count": 4,
   "id": "c12be6f7",
   "metadata": {},
   "outputs": [
    {
     "data": {
      "text/plain": [
       "'26081998'"
      ]
     },
     "execution_count": 4,
     "metadata": {},
     "output_type": "execute_result"
    }
   ],
   "source": [
    "\"26081998\""
   ]
  },
  {
   "cell_type": "code",
   "execution_count": 7,
   "id": "7f62587a",
   "metadata": {},
   "outputs": [
    {
     "data": {
      "text/plain": [
       "'New string'"
      ]
     },
     "execution_count": 7,
     "metadata": {},
     "output_type": "execute_result"
    }
   ],
   "source": [
    "# gán cho biến s với giá trị là một chuỗi\n",
    "s = 'New string'\n",
    "s"
   ]
  },
  {
   "cell_type": "code",
   "execution_count": 8,
   "id": "5f12b6e8",
   "metadata": {},
   "outputs": [
    {
     "name": "stdout",
     "output_type": "stream",
     "text": [
      "Liên minh huyền thoại\n"
     ]
    }
   ],
   "source": [
    "# gán cho biến lol với một chuỗi có giá trị là 'liên minh huyền thoại\n",
    "lol = 'Liên minh huyền thoại'\n",
    "print(lol)"
   ]
  },
  {
   "cell_type": "code",
   "execution_count": 9,
   "id": "b7a825b6",
   "metadata": {},
   "outputs": [
    {
     "data": {
      "text/plain": [
       "'#đây là một chuỗi. không phải comment'"
      ]
     },
     "execution_count": 9,
     "metadata": {},
     "output_type": "execute_result"
    }
   ],
   "source": [
    "'#đây là một chuỗi. không phải comment'"
   ]
  },
  {
   "cell_type": "code",
   "execution_count": 10,
   "id": "fff1d7d7",
   "metadata": {},
   "outputs": [
    {
     "data": {
      "text/plain": [
       "str"
      ]
     },
     "execution_count": 10,
     "metadata": {},
     "output_type": "execute_result"
    }
   ],
   "source": [
    "# kiểu dữ liệu chuỗi thuộc lớp 'str'\n",
    "type(s)"
   ]
  },
  {
   "cell_type": "markdown",
   "id": "bc67fad2",
   "metadata": {},
   "source": [
    "## Sự khác nhau giữa '' và \"\"\n",
    "    \n",
    "- Nói về công dụng thì hai cặp nháy trên là tương đương. Những thứ nằm bên trong nó là một chuỗi.\n",
    "- Nhưng không có gì sinh ra là để cho có. Chuỗi với nội dung sau đây mà ta muốn Python hiểu đó là một chuỗi\n",
    "   \n",
    "    - I'm Beginner"
   ]
  },
  {
   "cell_type": "code",
   "execution_count": 11,
   "id": "2d0c9a4e",
   "metadata": {},
   "outputs": [
    {
     "ename": "SyntaxError",
     "evalue": "invalid syntax (<ipython-input-11-03782caa996d>, line 2)",
     "output_type": "error",
     "traceback": [
      "\u001b[1;36m  File \u001b[1;32m\"<ipython-input-11-03782caa996d>\"\u001b[1;36m, line \u001b[1;32m2\u001b[0m\n\u001b[1;33m    'I'm Beginner'\u001b[0m\n\u001b[1;37m       ^\u001b[0m\n\u001b[1;31mSyntaxError\u001b[0m\u001b[1;31m:\u001b[0m invalid syntax\n"
     ]
    }
   ],
   "source": [
    "# đăt nội dung trong cặp dấu ''\n",
    "'I'm Beginner'"
   ]
  },
  {
   "cell_type": "markdown",
   "id": "5f6dba2c",
   "metadata": {},
   "source": [
    "- Khi ta gõ 'I'm Beginner'. Python sẽ đọc từ trái qua phải và lấy từng kí tự trong chuỗi và việc này sẽ này sẽ dừng lại khi nó gặp được dấu ' còn lại.\n",
    "\n",
    "- Có nghĩa là nó sẽ đọc được chuỗi 'I' sau đó kết thúc. Nhưng ta lại còn có một đoạn ở phía sau m Beginner'. Thứ này với Pyhthon hoàn toàn vô nghĩa. Nó không hiểu được do đó một SyntaxErro được báo lên.\n",
    "\n",
    "###### Vậy làm cách nào để ta có thể có được chuỗi với nội dung I'm Beginner ?\n",
    "\n",
    "    - Lựa chọn cặp dấu nháy \"\" khi nội dung có những kí tự nháy ' và sẽ chọn cặp dấu '' nếu nội dung chuỗi có những kí tự \"."
   ]
  },
  {
   "cell_type": "code",
   "execution_count": 12,
   "id": "72f8ac49",
   "metadata": {},
   "outputs": [
    {
     "data": {
      "text/plain": [
       "\"I'm Beginner\""
      ]
     },
     "execution_count": 12,
     "metadata": {},
     "output_type": "execute_result"
    }
   ],
   "source": [
    "# nội dung có kí tự ' chọn cặp \"\"\n",
    "\"I'm Beginner\""
   ]
  },
  {
   "cell_type": "code",
   "execution_count": 13,
   "id": "84b65f38",
   "metadata": {},
   "outputs": [
    {
     "data": {
      "text/plain": [
       "\"It's good\""
      ]
     },
     "execution_count": 13,
     "metadata": {},
     "output_type": "execute_result"
    }
   ],
   "source": [
    "s = \"It's good\"\n",
    "s"
   ]
  },
  {
   "cell_type": "code",
   "execution_count": 15,
   "id": "6979dda7",
   "metadata": {},
   "outputs": [
    {
     "data": {
      "text/plain": [
       "'This is \"special\" word'"
      ]
     },
     "execution_count": 15,
     "metadata": {},
     "output_type": "execute_result"
    }
   ],
   "source": [
    "# nội dung có kí tự \" chọn cặp ''\n",
    "s2 = 'This is \"special\" word'\n",
    "s2"
   ]
  },
  {
   "cell_type": "markdown",
   "id": "33b48ec3",
   "metadata": {},
   "source": [
    "    - Nội dung trong chuỗi vừa có kí tự ' lại vừa có kí tự \" thì: \n",
    "        - Có thể thêm Escape Sequence vào trước ' và \" trong nội dung chuỗi\n",
    "        - Có thể dùng cặp ''' hoặc \"\"\" "
   ]
  },
  {
   "cell_type": "code",
   "execution_count": 23,
   "id": "9f0475d0",
   "metadata": {},
   "outputs": [
    {
     "name": "stdout",
     "output_type": "stream",
     "text": [
      "My name's Khánh. \"I'm 23 years old.\n"
     ]
    }
   ],
   "source": [
    "# thêm escape sequence vào trước ' và \" \n",
    "k = 'My name\\'s Khánh. \\\"I\\'m 23 years old.'\n",
    "print(k)"
   ]
  },
  {
   "cell_type": "markdown",
   "id": "a4c248ef",
   "metadata": {},
   "source": [
    "## Chuỗi nhiều dòng với ''' và \"\"\". Khái niệm Docstring\n",
    "\n",
    "### Chuỗi nhiều dòng với ''' và \"\"\"\n",
    "\n",
    "    - Thường khi nhắc đến chuỗi, ta hay nghĩ tới một dòng. Và khi đó, ta sử dụng cặp dấu '' hoặc \"\". Nếu là nhiều dòng chuỗi kết nối với nhau, như những câu chữ, bài thơ, nội dung bài học trong cuốn vở thì đó cũng là một chuỗi, nhưng chuỗi đó sẽ được đặt trong cặp dấu ''' và \"\"\"."
   ]
  },
  {
   "cell_type": "code",
   "execution_count": 17,
   "id": "dd018273",
   "metadata": {},
   "outputs": [
    {
     "data": {
      "text/plain": [
       "'dong 1\\ndong 2\\ndong 3'"
      ]
     },
     "execution_count": 17,
     "metadata": {},
     "output_type": "execute_result"
    }
   ],
   "source": [
    "s = '''dong 1\n",
    "dong 2\n",
    "dong 3'''\n",
    "s"
   ]
  },
  {
   "cell_type": "code",
   "execution_count": 18,
   "id": "b519283b",
   "metadata": {},
   "outputs": [
    {
     "name": "stdout",
     "output_type": "stream",
     "text": [
      "dong 1\n",
      "dong 2\n",
      "dong 3\n"
     ]
    }
   ],
   "source": [
    "#kết quả xuống dòng khi dùng hàm print()\n",
    "print(s)"
   ]
  },
  {
   "cell_type": "markdown",
   "id": "90713c91",
   "metadata": {},
   "source": [
    "    - Những lần ta nhấn phím enter để xuống dòng, nhập tiếp dòng tiếp theo ở đó sẽ nhận vào 2 kí tự \\ và n\n",
    "    - \\n được coi là một kí tự. Và đây chính là một escape sequence.\n",
    "    - Chúng ta muốn có nhiều dòng chuỗi kết hợp với nhau, ta sử dụng cặp dấu ''' hoặc \"\"\" và đương nhiên những thứ đặt trong ''' hoặc \"\"\" cũng là một chuỗi. Do đó, ta cũng có thể tạo ra chuỗi chỉ một dòng và chứa những kí tự ' và \" khác."
   ]
  },
  {
   "cell_type": "code",
   "execution_count": 27,
   "id": "68d85b59",
   "metadata": {},
   "outputs": [
    {
     "data": {
      "text/plain": [
       "'chuỗi vừa có kí tự \\' và kí tự \" , thật vĩ đại'"
      ]
     },
     "execution_count": 27,
     "metadata": {},
     "output_type": "execute_result"
    }
   ],
   "source": [
    "# trong biến a sẽ có \\, đó là Escape Sequence\n",
    "a = '''chuỗi vừa có kí tự ' và kí tự \" , thật vĩ đại'''\n",
    "a"
   ]
  },
  {
   "cell_type": "code",
   "execution_count": 28,
   "id": "2486c1e2",
   "metadata": {},
   "outputs": [
    {
     "name": "stdout",
     "output_type": "stream",
     "text": [
      "chuỗi vừa có kí tự ' và kí tự \" , thật vĩ đại\n"
     ]
    }
   ],
   "source": [
    "# \\ sẽ mất khi dùng hàm print()\n",
    "print(a)"
   ]
  },
  {
   "cell_type": "markdown",
   "id": "c047e20b",
   "metadata": {},
   "source": [
    "## Khái niệm Docstring\n",
    "    - ''' và \"\"\" hai cặp dấu này thường không được sử dụng để tạo ra một chuỗi nhiều dòng, mà dùng để làm DOCSTRING\n",
    "    - Docstring là: \n",
    "        - Một dạng chú thích nhiều dòng.\n",
    "        - Hay xuất hiện ở đầu một file trong Python, sau một dòng định nghĩa lớp hàm.\n",
    "        - Và đây cũng là một trong những chuẩn quy ước về định dạng, trình bày code Python."
   ]
  },
  {
   "cell_type": "code",
   "execution_count": 31,
   "id": "59e1dbf8",
   "metadata": {
    "scrolled": true
   },
   "outputs": [
    {
     "name": "stdout",
     "output_type": "stream",
     "text": [
      "\n",
      "Đây là những chú thích đầu file\n",
      "Về việc import các thư viện, module\n",
      "\n"
     ]
    }
   ],
   "source": [
    "print('''\n",
    "Đây là những chú thích đầu file\n",
    "Về việc import các thư viện, module\n",
    "''')\n"
   ]
  },
  {
   "cell_type": "markdown",
   "id": "2f250142",
   "metadata": {},
   "source": [
    "Ví dụ docstring:"
   ]
  },
  {
   "cell_type": "code",
   "execution_count": 34,
   "id": "c28cbc88",
   "metadata": {},
   "outputs": [],
   "source": [
    "import lungtung\n",
    "import taolao\n",
    "\n",
    "def ham_vo_dung():\n",
    "    '''\n",
    "    Còn đây là docstring\n",
    "    Cho một function\n",
    "     Đó là ham_vo_dung\n",
    "    '''\n",
    "    pass\n",
    "\n",
    "\n",
    "class vo_van:\n",
    "    '''\n",
    "    Class khong co gi dau\n",
    "    That day\n",
    "    '''\n",
    "    pass"
   ]
  },
  {
   "cell_type": "code",
   "execution_count": 37,
   "id": "4abd4fb1",
   "metadata": {
    "scrolled": false
   },
   "outputs": [
    {
     "name": "stdout",
     "output_type": "stream",
     "text": [
      "\n",
      "Tôi muốn tắt nắng đi\n",
      "Cho màu đừng nhạt mất;\n",
      "Tôi muốn buộc gió lại\n",
      "Cho hương đừng bay đi.\n",
      "\n"
     ]
    }
   ],
   "source": [
    "# Dùng cặp \"\"\" để in bài thơ\n",
    "print(\"\"\"\n",
    "Tôi muốn tắt nắng đi\n",
    "Cho màu đừng nhạt mất;\n",
    "Tôi muốn buộc gió lại\n",
    "Cho hương đừng bay đi.\n",
    "\"\"\")"
   ]
  },
  {
   "cell_type": "code",
   "execution_count": 11,
   "id": "363e780b",
   "metadata": {},
   "outputs": [
    {
     "name": "stdout",
     "output_type": "stream",
     "text": [
      "\n",
      "Một cách comment khác\n",
      "Dùng cặp ''' hoặc \"\"\"\n",
      "      \n",
      "\n"
     ]
    }
   ],
   "source": [
    "'''\n",
    "Đây là comment\n",
    "Và nó sẽ không được biên dịch\n",
    "'''\n",
    "print(\"\"\"\n",
    "Một cách comment khác\n",
    "Dùng cặp ''' hoặc \\\"\"\"\n",
    "      \n",
    "\"\"\")"
   ]
  },
  {
   "cell_type": "markdown",
   "id": "05871cfd",
   "metadata": {},
   "source": [
    "## Escape Sequence là gì ?\n",
    "\n",
    "    - Escape Sequence là một chuỗi (chính xác là là kí tự) đặc biệt trong Python. Bắt đầu với một \\. \n",
    "    - Python có rất nhiều các Escape Sequence. \n",
    "    - Một số Escape Sequence thường được sử dụng nhất với mức độ cơ bản.\n",
    "\n",
    "![](https://f.howkteam.vn/Upload/cke/images/2_IMAGE%20TUTORIAL/3_Python/01_Python%20c%C6%A1%20b%E1%BA%A3n/B07_Kdl%20chu%E1%BB%97i%20trong%20Python%20-%20Ph%E1%BA%A7n%201/1_Ki%E1%BB%83u%20d%E1%BB%AF%20li%E1%BB%87u%20chu%E1%BB%97i%20trong%20Python%20-%20Ph%E1%BA%A7n%201_Howkteam_com.png)\n",
    "\n",
    "    - Những Escape Sequence này phải được xuất ra bằng hàm print()"
   ]
  },
  {
   "cell_type": "code",
   "execution_count": 39,
   "id": "d26f827e",
   "metadata": {},
   "outputs": [
    {
     "name": "stdout",
     "output_type": "stream",
     "text": [
      "\u0007\n"
     ]
    }
   ],
   "source": [
    "# \\a phát ra một tiếng bíp\n",
    "print('\\a')"
   ]
  },
  {
   "cell_type": "code",
   "execution_count": 40,
   "id": "14499004",
   "metadata": {},
   "outputs": [
    {
     "name": "stdout",
     "output_type": "stream",
     "text": [
      "abcd\be\n"
     ]
    }
   ],
   "source": [
    "# \\b lùi con trỏ về trước 1 space, đè lên chữ d\n",
    "# xóa chữ d\n",
    "print('abcd\\be')"
   ]
  },
  {
   "cell_type": "code",
   "execution_count": 41,
   "id": "9e2060c0",
   "metadata": {},
   "outputs": [
    {
     "name": "stdout",
     "output_type": "stream",
     "text": [
      "dòng 1\n",
      "dòng 2\n"
     ]
    }
   ],
   "source": [
    "# \\n xuống dòng\n",
    "print('dòng 1\\ndòng 2')"
   ]
  },
  {
   "cell_type": "code",
   "execution_count": 42,
   "id": "3d9fcd8f",
   "metadata": {},
   "outputs": [
    {
     "name": "stdout",
     "output_type": "stream",
     "text": [
      "xuống dòng\n",
      "dòng mới\n",
      "thêm một dòng\n"
     ]
    }
   ],
   "source": [
    "print('xuống dòng\\ndòng mới\\nthêm một dòng')"
   ]
  },
  {
   "cell_type": "code",
   "execution_count": 43,
   "id": "ae6ce39e",
   "metadata": {},
   "outputs": [
    {
     "name": "stdout",
     "output_type": "stream",
     "text": [
      "abc\txyz\n"
     ]
    }
   ],
   "source": [
    "# \\t in ra 1 horizontal tab \n",
    "print('abc\\txyz')"
   ]
  },
  {
   "cell_type": "code",
   "execution_count": 45,
   "id": "088db05c",
   "metadata": {},
   "outputs": [
    {
     "name": "stdout",
     "output_type": "stream",
     "text": [
      "\thello\n"
     ]
    }
   ],
   "source": [
    "print('\\thello')"
   ]
  },
  {
   "cell_type": "code",
   "execution_count": 46,
   "id": "d86b6945",
   "metadata": {},
   "outputs": [
    {
     "name": "stdout",
     "output_type": "stream",
     "text": [
      "I'm Beginner\n"
     ]
    }
   ],
   "source": [
    "# \\' in ra kí tự '\n",
    "print('I\\'m Beginner')"
   ]
  },
  {
   "cell_type": "code",
   "execution_count": 47,
   "id": "ee7ba8d4",
   "metadata": {},
   "outputs": [
    {
     "name": "stdout",
     "output_type": "stream",
     "text": [
      "one thing \"special\", that's it\n"
     ]
    }
   ],
   "source": [
    "# \\\" in ra kí tự \"\n",
    "print(\"one thing \\\"special\\\", that's it\")"
   ]
  },
  {
   "cell_type": "code",
   "execution_count": 48,
   "id": "4c587f6b",
   "metadata": {},
   "outputs": [
    {
     "name": "stdout",
     "output_type": "stream",
     "text": [
      "Muốn in dấu \n",
      "ày\n"
     ]
    }
   ],
   "source": [
    "# cẩn thận khi dùng \\\n",
    "print('Muốn in dấu \\này')"
   ]
  },
  {
   "cell_type": "code",
   "execution_count": 49,
   "id": "6c61faf7",
   "metadata": {},
   "outputs": [
    {
     "name": "stdout",
     "output_type": "stream",
     "text": [
      "Muốn in dấu \\này\n"
     ]
    }
   ],
   "source": [
    "# \\\\ in ra kí tự \\\n",
    "print('Muốn in dấu \\\\này')"
   ]
  }
 ],
 "metadata": {
  "kernelspec": {
   "display_name": "Python 3",
   "language": "python",
   "name": "python3"
  },
  "language_info": {
   "codemirror_mode": {
    "name": "ipython",
    "version": 3
   },
   "file_extension": ".py",
   "mimetype": "text/x-python",
   "name": "python",
   "nbconvert_exporter": "python",
   "pygments_lexer": "ipython3",
   "version": "3.8.8"
  }
 },
 "nbformat": 4,
 "nbformat_minor": 5
}
