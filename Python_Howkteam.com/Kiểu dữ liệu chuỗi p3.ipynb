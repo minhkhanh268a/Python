{
 "cells": [
  {
   "cell_type": "markdown",
   "id": "53fdc82e",
   "metadata": {},
   "source": [
    "# Nội Dung:\n",
    "- Giới thiệu về định dang chuỗi trong Python\n",
    "- Định dạng bằng toán tử %\n",
    "    - Cú pháp:\n",
    "- Định dạng bằng chuỗi f (f-string)\n",
    "    - Một chuỗi f sẽ có cú pháp:\n",
    "- Định dạng bằng phương thức format"
   ]
  },
  {
   "cell_type": "markdown",
   "id": "30b44a04",
   "metadata": {},
   "source": [
    "## Giới thiệu về định dạng chuỗi trong Python\n",
    "- Với Python, có rất nhiều cách định dạng chuỗi, và nó vô cùng tuyệt vời. Và ở phần này sẽ giới thiệu ba kiểu định dạng cơ bản và được sử dụng nhiều nhất trong việc định dạng chuỗi."
   ]
  },
  {
   "cell_type": "markdown",
   "id": "45e8d56d",
   "metadata": {},
   "source": [
    "## Định dạng bằng toán tử %\n",
    "- Kiểu định dạng này sẽ rất quen thuộc nếu từng tiếp xúc với ngôn ngữ lập trình C"
   ]
  },
  {
   "cell_type": "code",
   "execution_count": 1,
   "id": "dd3e16bd",
   "metadata": {},
   "outputs": [
    {
     "data": {
      "text/plain": [
       "'My name is Lucario.'"
      ]
     },
     "execution_count": 1,
     "metadata": {},
     "output_type": "execute_result"
    }
   ],
   "source": [
    "'My name is %s.' %('Lucario')"
   ]
  },
  {
   "cell_type": "code",
   "execution_count": 4,
   "id": "d69d0a1f",
   "metadata": {},
   "outputs": [
    {
     "data": {
      "text/plain": [
       "'1. That is the problem.'"
      ]
     },
     "execution_count": 4,
     "metadata": {},
     "output_type": "execute_result"
    }
   ],
   "source": [
    "'%d. That is %s problem.' %(1, 'the')"
   ]
  },
  {
   "cell_type": "markdown",
   "id": "17e83ce8",
   "metadata": {},
   "source": [
    "### Cú pháp:\n",
    "    <chuỗi>%(giá trị thứ nhất, giá trị thứ 2,... giá trị thứ n"
   ]
  },
  {
   "cell_type": "markdown",
   "id": "fb2a16ff",
   "metadata": {},
   "source": [
    "###### Lưu ý:  khi in ra, không có dấu , tách phần chuỗi và phần giá trị cần định dạng"
   ]
  },
  {
   "cell_type": "markdown",
   "id": "b295c124",
   "metadata": {},
   "source": [
    "- Cách hoạt động của định dạng này: \n",
    "\n",
    "![](https://f.howkteam.vn/Upload/cke/images/2_IMAGE%20TUTORIAL/3_Python/01_Python%20c%C6%A1%20b%E1%BA%A3n/B09_Kdl%20chu%E1%BB%97i%20trong%20Python%20-%20Ph%E1%BA%A7n%203/1_Ki%E1%BB%83u%20d%E1%BB%AF%20li%E1%BB%87u%20chu%E1%BB%97i%20trong%20Python%20-%20Ph%E1%BA%A7n%203_Howkteam_com.png)\n",
    "\n",
    "- Với hình vẽ trên ta có thể dễ dàng biết được cách mà nó hoạt động. Đó là từng phần kí hiệu %s sẽ lần lượt được thay thế lần lượt bởi các giá trị nằm trong cặp dấu ngoặc đơn (Đây là kiểu Tuple)"
   ]
  },
  {
   "cell_type": "code",
   "execution_count": 6,
   "id": "8ea7bb61",
   "metadata": {},
   "outputs": [
    {
     "data": {
      "text/plain": [
       "'one two'"
      ]
     },
     "execution_count": 6,
     "metadata": {},
     "output_type": "execute_result"
    }
   ],
   "source": [
    "s = '%s %s'\n",
    "s %('one', 'two')"
   ]
  },
  {
   "cell_type": "code",
   "execution_count": 7,
   "id": "e2ee3f92",
   "metadata": {},
   "outputs": [
    {
     "data": {
      "text/plain": [
       "'a b'"
      ]
     },
     "execution_count": 7,
     "metadata": {},
     "output_type": "execute_result"
    }
   ],
   "source": [
    "s %('a','b')"
   ]
  },
  {
   "cell_type": "code",
   "execution_count": 9,
   "id": "e361d748",
   "metadata": {},
   "outputs": [
    {
     "data": {
      "text/plain": [
       "'c cc'"
      ]
     },
     "execution_count": 9,
     "metadata": {},
     "output_type": "execute_result"
    }
   ],
   "source": [
    "c = s %('c','cc')\n",
    "c"
   ]
  },
  {
   "cell_type": "code",
   "execution_count": 25,
   "id": "4999265e",
   "metadata": {},
   "outputs": [
    {
     "ename": "TypeError",
     "evalue": "not enough arguments for format string",
     "output_type": "error",
     "traceback": [
      "\u001b[1;31m---------------------------------------------------------------------------\u001b[0m",
      "\u001b[1;31mTypeError\u001b[0m                                 Traceback (most recent call last)",
      "\u001b[1;32m<ipython-input-25-a7dcb394e445>\u001b[0m in \u001b[0;36m<module>\u001b[1;34m\u001b[0m\n\u001b[0;32m      1\u001b[0m \u001b[1;31m# không được, vì trong chuỗi s biến D có dư kí hiệu % để thay thế\u001b[0m\u001b[1;33m\u001b[0m\u001b[1;33m\u001b[0m\u001b[1;33m\u001b[0m\u001b[0m\n\u001b[0;32m      2\u001b[0m \u001b[1;31m# lỗi không đủ đối số cho chuỗi định dạng\u001b[0m\u001b[1;33m\u001b[0m\u001b[1;33m\u001b[0m\u001b[1;33m\u001b[0m\u001b[0m\n\u001b[1;32m----> 3\u001b[1;33m \u001b[0ms\u001b[0m \u001b[1;33m%\u001b[0m\u001b[1;33m(\u001b[0m\u001b[1;34m'D'\u001b[0m\u001b[1;33m)\u001b[0m\u001b[1;33m\u001b[0m\u001b[1;33m\u001b[0m\u001b[0m\n\u001b[0m",
      "\u001b[1;31mTypeError\u001b[0m: not enough arguments for format string"
     ]
    }
   ],
   "source": [
    "# không được, vì trong chuỗi s biến D có dư kí hiệu % để thay thế\n",
    "# lỗi không đủ đối số cho chuỗi định dạng\n",
    "s %('D')"
   ]
  },
  {
   "cell_type": "code",
   "execution_count": 29,
   "id": "c95935e9",
   "metadata": {},
   "outputs": [
    {
     "ename": "TypeError",
     "evalue": "not all arguments converted during string formatting",
     "output_type": "error",
     "traceback": [
      "\u001b[1;31m---------------------------------------------------------------------------\u001b[0m",
      "\u001b[1;31mTypeError\u001b[0m                                 Traceback (most recent call last)",
      "\u001b[1;32m<ipython-input-29-8fcb016ccde4>\u001b[0m in \u001b[0;36m<module>\u001b[1;34m\u001b[0m\n\u001b[0;32m      1\u001b[0m \u001b[1;31m# lỗi không phải tất cả các đối số được chuyển đổi trong quá trình\u001b[0m\u001b[1;33m\u001b[0m\u001b[1;33m\u001b[0m\u001b[1;33m\u001b[0m\u001b[0m\n\u001b[0;32m      2\u001b[0m \u001b[1;31m# định dạng chuỗi\u001b[0m\u001b[1;33m\u001b[0m\u001b[1;33m\u001b[0m\u001b[1;33m\u001b[0m\u001b[0m\n\u001b[1;32m----> 3\u001b[1;33m \u001b[0mc\u001b[0m \u001b[1;33m%\u001b[0m\u001b[1;33m(\u001b[0m\u001b[1;34m'a'\u001b[0m\u001b[1;33m,\u001b[0m\u001b[1;34m'b'\u001b[0m\u001b[1;33m)\u001b[0m\u001b[1;33m\u001b[0m\u001b[1;33m\u001b[0m\u001b[0m\n\u001b[0m",
      "\u001b[1;31mTypeError\u001b[0m: not all arguments converted during string formatting"
     ]
    }
   ],
   "source": [
    "# lỗi không phải tất cả các đối số được chuyển đổi trong quá trình \n",
    "# định dạng chuỗi\n",
    "c %('a','b')"
   ]
  },
  {
   "cell_type": "markdown",
   "id": "e23002a2",
   "metadata": {},
   "source": [
    "## Sự khác nhau giữa %s và %d \n",
    "- Một số các toán tử % cơ bản trong Python\n",
    "\n",
    "![](https://f.howkteam.vn/Upload/cke/images/2_IMAGE%20TUTORIAL/3_Python/01_Python%20c%C6%A1%20b%E1%BA%A3n/B09_Kdl%20chu%E1%BB%97i%20trong%20Python%20-%20Ph%E1%BA%A7n%203/2_Ki%E1%BB%83u%20d%E1%BB%AF%20li%E1%BB%87u%20chu%E1%BB%97i%20trong%20Python%20-%20Ph%E1%BA%A7n%203_Howkteam_com.png)\n",
    "    \n",
    "- Mọi thứ trong Python đề là các đối tượng của một lớp nào đó. Do đó nó đều có các phương thức, thuộc tính riêng, Các đối tượng trong Python luôn luôn có hai phương thức đó là **\\__str__** và **\\__repr__**"
   ]
  },
  {
   "cell_type": "code",
   "execution_count": 30,
   "id": "3e747282",
   "metadata": {},
   "outputs": [],
   "source": [
    "class SomeThing:\n",
    "    def __repr__(self):\n",
    "        return 'Đây là __repr__'\n",
    "    def __str__(self):\n",
    "        return 'Đây là __str__'"
   ]
  },
  {
   "cell_type": "code",
   "execution_count": 31,
   "id": "5db1a206",
   "metadata": {},
   "outputs": [
    {
     "data": {
      "text/plain": [
       "__main__.SomeThing"
      ]
     },
     "execution_count": 31,
     "metadata": {},
     "output_type": "execute_result"
    }
   ],
   "source": [
    "sthing = SomeThing()\n",
    "type(sthing)"
   ]
  },
  {
   "cell_type": "code",
   "execution_count": 32,
   "id": "72a4fed9",
   "metadata": {},
   "outputs": [
    {
     "data": {
      "text/plain": [
       "Đây là __repr__"
      ]
     },
     "execution_count": 32,
     "metadata": {},
     "output_type": "execute_result"
    }
   ],
   "source": [
    "sthing"
   ]
  },
  {
   "cell_type": "code",
   "execution_count": 33,
   "id": "cb65a94f",
   "metadata": {},
   "outputs": [
    {
     "name": "stdout",
     "output_type": "stream",
     "text": [
      "Đây là __str__\n"
     ]
    }
   ],
   "source": [
    "print(sthing)"
   ]
  },
  {
   "cell_type": "markdown",
   "id": "4226b0b4",
   "metadata": {},
   "source": [
    "#### Sự khác biệt giữa %s và %r"
   ]
  },
  {
   "cell_type": "code",
   "execution_count": 34,
   "id": "2087b731",
   "metadata": {},
   "outputs": [
    {
     "data": {
      "text/plain": [
       "'Đây là __repr__'"
      ]
     },
     "execution_count": 34,
     "metadata": {},
     "output_type": "execute_result"
    }
   ],
   "source": [
    "'%r' %(sthing)"
   ]
  },
  {
   "cell_type": "code",
   "execution_count": 35,
   "id": "4da1264e",
   "metadata": {},
   "outputs": [
    {
     "data": {
      "text/plain": [
       "'Đây là __str__'"
      ]
     },
     "execution_count": 35,
     "metadata": {},
     "output_type": "execute_result"
    }
   ],
   "source": [
    "'%s' %(sthing)"
   ]
  },
  {
   "cell_type": "markdown",
   "id": "93d361fd",
   "metadata": {},
   "source": [
    "#### Nếu ta từng học ngôn ngữ C thì ngỡ %s là thay thế cho một chuỗi thì chưa đủ chính xác\n",
    "    - %s thay thế cho giá trị của phương thức __str__ tạo nên đối tượng đó.\n",
    "    - Còn về %r là phương thức __repr__.\n",
    "==> Do đó, ta có thể sử dụng %s hoặc %r với mọi đối tượng trong Python."
   ]
  },
  {
   "cell_type": "code",
   "execution_count": 43,
   "id": "3714835f",
   "metadata": {},
   "outputs": [
    {
     "data": {
      "text/plain": [
       "'1'"
      ]
     },
     "execution_count": 43,
     "metadata": {},
     "output_type": "execute_result"
    }
   ],
   "source": [
    "#số\n",
    "'%s' %(1) "
   ]
  },
  {
   "cell_type": "code",
   "execution_count": 44,
   "id": "34a2b3b8",
   "metadata": {},
   "outputs": [
    {
     "data": {
      "text/plain": [
       "'1'"
      ]
     },
     "execution_count": 44,
     "metadata": {},
     "output_type": "execute_result"
    }
   ],
   "source": [
    "'%r' %(1)"
   ]
  },
  {
   "cell_type": "code",
   "execution_count": 38,
   "id": "766b666b",
   "metadata": {},
   "outputs": [
    {
     "data": {
      "text/plain": [
       "'[1, 2, 3]'"
      ]
     },
     "execution_count": 38,
     "metadata": {},
     "output_type": "execute_result"
    }
   ],
   "source": [
    "# kiểu dữ liệu list\n",
    "'%s' %([1, 2, 3])"
   ]
  },
  {
   "cell_type": "code",
   "execution_count": 39,
   "id": "9ba06576",
   "metadata": {},
   "outputs": [
    {
     "data": {
      "text/plain": [
       "'[1, 2, 3]'"
      ]
     },
     "execution_count": 39,
     "metadata": {},
     "output_type": "execute_result"
    }
   ],
   "source": [
    "'%r' %([1, 2, 3])"
   ]
  },
  {
   "cell_type": "code",
   "execution_count": 53,
   "id": "00b5de34",
   "metadata": {},
   "outputs": [
    {
     "data": {
      "text/plain": [
       "'3'"
      ]
     },
     "execution_count": 53,
     "metadata": {},
     "output_type": "execute_result"
    }
   ],
   "source": [
    "'%d' %(3)"
   ]
  },
  {
   "cell_type": "code",
   "execution_count": 54,
   "id": "2f009e69",
   "metadata": {},
   "outputs": [
    {
     "ename": "TypeError",
     "evalue": "%d format: a number is required, not str",
     "output_type": "error",
     "traceback": [
      "\u001b[1;31m---------------------------------------------------------------------------\u001b[0m",
      "\u001b[1;31mTypeError\u001b[0m                                 Traceback (most recent call last)",
      "\u001b[1;32m<ipython-input-54-0398c8b8eb6e>\u001b[0m in \u001b[0;36m<module>\u001b[1;34m\u001b[0m\n\u001b[1;32m----> 1\u001b[1;33m \u001b[1;34m'%d'\u001b[0m \u001b[1;33m%\u001b[0m\u001b[1;33m(\u001b[0m\u001b[1;34m'3'\u001b[0m\u001b[1;33m)\u001b[0m\u001b[1;33m\u001b[0m\u001b[1;33m\u001b[0m\u001b[0m\n\u001b[0m",
      "\u001b[1;31mTypeError\u001b[0m: %d format: a number is required, not str"
     ]
    }
   ],
   "source": [
    "# lỗi vì '3' không phải 3\n",
    "'%d' %('3')"
   ]
  },
  {
   "cell_type": "code",
   "execution_count": 55,
   "id": "d8f1e612",
   "metadata": {},
   "outputs": [
    {
     "data": {
      "text/plain": [
       "'3'"
      ]
     },
     "execution_count": 55,
     "metadata": {},
     "output_type": "execute_result"
    }
   ],
   "source": [
    "# chia lấy phần nguyên\n",
    "'%d' %(3.9)"
   ]
  },
  {
   "cell_type": "code",
   "execution_count": 56,
   "id": "62d399af",
   "metadata": {},
   "outputs": [
    {
     "data": {
      "text/plain": [
       "'3'"
      ]
     },
     "execution_count": 56,
     "metadata": {},
     "output_type": "execute_result"
    }
   ],
   "source": [
    "'%d' %(10/3)"
   ]
  },
  {
   "cell_type": "markdown",
   "id": "d7071fe7",
   "metadata": {},
   "source": [
    "%d không phù hợp cho số thực, đó là lí do ta có %f"
   ]
  },
  {
   "cell_type": "code",
   "execution_count": 57,
   "id": "5c707a1b",
   "metadata": {},
   "outputs": [
    {
     "data": {
      "text/plain": [
       "'3.900000'"
      ]
     },
     "execution_count": 57,
     "metadata": {},
     "output_type": "execute_result"
    }
   ],
   "source": [
    "'%f' %(3.9) "
   ]
  },
  {
   "cell_type": "code",
   "execution_count": 58,
   "id": "d023d118",
   "metadata": {},
   "outputs": [
    {
     "data": {
      "text/plain": [
       "'3.000000'"
      ]
     },
     "execution_count": 58,
     "metadata": {},
     "output_type": "execute_result"
    }
   ],
   "source": [
    "'%f' %(3)"
   ]
  },
  {
   "cell_type": "code",
   "execution_count": 59,
   "id": "df4778a8",
   "metadata": {},
   "outputs": [
    {
     "ename": "TypeError",
     "evalue": "must be real number, not str",
     "output_type": "error",
     "traceback": [
      "\u001b[1;31m---------------------------------------------------------------------------\u001b[0m",
      "\u001b[1;31mTypeError\u001b[0m                                 Traceback (most recent call last)",
      "\u001b[1;32m<ipython-input-59-9c54b15226b4>\u001b[0m in \u001b[0;36m<module>\u001b[1;34m\u001b[0m\n\u001b[0;32m      1\u001b[0m \u001b[1;31m# lỗi vì %f cũng yêu cầu một số\u001b[0m\u001b[1;33m\u001b[0m\u001b[1;33m\u001b[0m\u001b[1;33m\u001b[0m\u001b[0m\n\u001b[1;32m----> 2\u001b[1;33m \u001b[1;34m'%f'\u001b[0m \u001b[1;33m%\u001b[0m\u001b[1;33m(\u001b[0m\u001b[1;34m'a'\u001b[0m\u001b[1;33m)\u001b[0m\u001b[1;33m\u001b[0m\u001b[1;33m\u001b[0m\u001b[0m\n\u001b[0m",
      "\u001b[1;31mTypeError\u001b[0m: must be real number, not str"
     ]
    }
   ],
   "source": [
    "# lỗi vì %f cũng yêu cầu một số\n",
    "'%f' %('a')"
   ]
  },
  {
   "cell_type": "code",
   "execution_count": 60,
   "id": "7d60ae33",
   "metadata": {},
   "outputs": [
    {
     "data": {
      "text/plain": [
       "'3.56'"
      ]
     },
     "execution_count": 60,
     "metadata": {},
     "output_type": "execute_result"
    }
   ],
   "source": [
    "# chỉ lấy 2 số thập phân\n",
    "'%.2f' %(3.56354875)"
   ]
  },
  {
   "cell_type": "code",
   "execution_count": 61,
   "id": "4df07f4e",
   "metadata": {},
   "outputs": [
    {
     "data": {
      "text/plain": [
       "'4.000'"
      ]
     },
     "execution_count": 61,
     "metadata": {},
     "output_type": "execute_result"
    }
   ],
   "source": [
    "# %f cũng có khả năng làm tròn\n",
    "'%.3f' %(3.9999999)"
   ]
  },
  {
   "cell_type": "code",
   "execution_count": 63,
   "id": "560d83c3",
   "metadata": {},
   "outputs": [
    {
     "data": {
      "text/plain": [
       "'3.5000'"
      ]
     },
     "execution_count": 63,
     "metadata": {},
     "output_type": "execute_result"
    }
   ],
   "source": [
    "'%.4f' %(3.499999)"
   ]
  },
  {
   "cell_type": "code",
   "execution_count": 1,
   "id": "2f4573d8",
   "metadata": {},
   "outputs": [
    {
     "data": {
      "text/plain": [
       "'4'"
      ]
     },
     "execution_count": 1,
     "metadata": {},
     "output_type": "execute_result"
    }
   ],
   "source": [
    "# không lấy phần số thập phân\n",
    "'%.0f' %(3.59999999)"
   ]
  },
  {
   "cell_type": "code",
   "execution_count": 2,
   "id": "e7c86aae",
   "metadata": {},
   "outputs": [
    {
     "data": {
      "text/plain": [
       "'3'"
      ]
     },
     "execution_count": 2,
     "metadata": {},
     "output_type": "execute_result"
    }
   ],
   "source": [
    "'%.0f' %(3.44444)"
   ]
  },
  {
   "cell_type": "markdown",
   "id": "0ed945e0",
   "metadata": {},
   "source": [
    "## Định dạng bằng chuỗi f (f-string)\n",
    "- Phương pháp định dạng này cho bạn khả năng thay thế một số chỗ ở trong một chuỗi bằng giá trị của các biến mà ta đã khởi tạo và có. Để có thể sử dụng cách này, ta phải có một chuỗi f.\n",
    "### Một chuỗi f sẽ có cú pháp:\n",
    "        f'giá trị trong chuỗi'"
   ]
  },
  {
   "cell_type": "code",
   "execution_count": 64,
   "id": "d164ff6b",
   "metadata": {},
   "outputs": [
    {
     "data": {
      "text/plain": [
       "'abc'"
      ]
     },
     "execution_count": 64,
     "metadata": {},
     "output_type": "execute_result"
    }
   ],
   "source": [
    "# đây là một f-string\n",
    "f'abc'"
   ]
  },
  {
   "cell_type": "code",
   "execution_count": 66,
   "id": "2451fd2d",
   "metadata": {},
   "outputs": [
    {
     "data": {
      "text/plain": [
       "'xyz'"
      ]
     },
     "execution_count": 66,
     "metadata": {},
     "output_type": "execute_result"
    }
   ],
   "source": [
    "# vẫn chưa có gì khác biệt so với chuỗi thường\n",
    "s = f'xyz'\n",
    "s"
   ]
  },
  {
   "cell_type": "code",
   "execution_count": 67,
   "id": "53ee777b",
   "metadata": {},
   "outputs": [
    {
     "name": "stdout",
     "output_type": "stream",
     "text": [
      "a\tb\n"
     ]
    }
   ],
   "source": [
    "print(f'a\\tb')"
   ]
  },
  {
   "cell_type": "markdown",
   "id": "a6df9d1a",
   "metadata": {},
   "source": [
    "Nhưng nó sẽ khác biệt, nếu ta có một f-string theo kiểu này:"
   ]
  },
  {
   "cell_type": "code",
   "execution_count": 69,
   "id": "b9e1c255",
   "metadata": {},
   "outputs": [
    {
     "data": {
      "text/plain": [
       "'This is a string.'"
      ]
     },
     "execution_count": 69,
     "metadata": {},
     "output_type": "execute_result"
    }
   ],
   "source": [
    "variable = 'string'\n",
    "# chú ý tới những thứ nằm trong cặp ngoặc nhọn\n",
    "f'This is a {variable}.'"
   ]
  },
  {
   "cell_type": "markdown",
   "id": "dde0e88d",
   "metadata": {},
   "source": [
    "- Giá trị của biến variable được thay thế trong cặp dấu ngoặc nhọn chứa tên của nó\n",
    "\n",
    "![](https://f.howkteam.vn/Upload/cke/images/2_IMAGE%20TUTORIAL/3_Python/01_Python%20c%C6%A1%20b%E1%BA%A3n/B09_Kdl%20chu%E1%BB%97i%20trong%20Python%20-%20Ph%E1%BA%A7n%203/3_Ki%E1%BB%83u%20d%E1%BB%AF%20li%E1%BB%87u%20chu%E1%BB%97i%20trong%20Python%20-%20Ph%E1%BA%A7n%203_Howkteam_com.png)"
   ]
  },
  {
   "cell_type": "markdown",
   "id": "7c21af6e",
   "metadata": {},
   "source": [
    "- Khi sử dụng chuỗi f, đặt một giá trị biến chưa được khai báo, hoặc có trong chương trình:"
   ]
  },
  {
   "cell_type": "code",
   "execution_count": 70,
   "id": "85f47dda",
   "metadata": {},
   "outputs": [
    {
     "ename": "NameError",
     "evalue": "name 'variable_2' is not defined",
     "output_type": "error",
     "traceback": [
      "\u001b[1;31m---------------------------------------------------------------------------\u001b[0m",
      "\u001b[1;31mNameError\u001b[0m                                 Traceback (most recent call last)",
      "\u001b[1;32m<ipython-input-70-804221aa69b2>\u001b[0m in \u001b[0;36m<module>\u001b[1;34m\u001b[0m\n\u001b[0;32m      1\u001b[0m \u001b[1;31m# chưa khởi tạo biến variable_2\u001b[0m\u001b[1;33m\u001b[0m\u001b[1;33m\u001b[0m\u001b[1;33m\u001b[0m\u001b[0m\n\u001b[1;32m----> 2\u001b[1;33m \u001b[1;34mf'{variable_2}'\u001b[0m\u001b[1;33m\u001b[0m\u001b[1;33m\u001b[0m\u001b[0m\n\u001b[0m",
      "\u001b[1;31mNameError\u001b[0m: name 'variable_2' is not defined"
     ]
    }
   ],
   "source": [
    "# chưa khởi tạo biến variable_2\n",
    "f'{variable_2}'"
   ]
  },
  {
   "cell_type": "markdown",
   "id": "3d97e88c",
   "metadata": {},
   "source": [
    "- Điều này đặt ra cho ta một vấn đề, nếu muốn có chuỗi với nội dung như sau:"
   ]
  },
  {
   "cell_type": "markdown",
   "id": "43740960",
   "metadata": {},
   "source": [
    "    1:{one},2:{two},3:{variable}"
   ]
  },
  {
   "cell_type": "markdown",
   "id": "60814f9d",
   "metadata": {},
   "source": [
    "- Và chỉ muốn định dạng mỗi chỗ {variable} thôi thì phải làm sao ?\n",
    "- \n",
    "Cách giải quyết là hãy đặt thêm một dấu { kế bên {; còn với } là một dấu }. Tương tự như cách chúng ta muốn có một dấu \\ mà để Python hiểu không phải là một kí tự bắt đầu kí tự escape sequence thì sẽ thêm một dấu \\."
   ]
  },
  {
   "cell_type": "code",
   "execution_count": 74,
   "id": "559638e2",
   "metadata": {},
   "outputs": [
    {
     "data": {
      "text/plain": [
       "'1: {one}, 2: {two}, 3: three'"
      ]
     },
     "execution_count": 74,
     "metadata": {},
     "output_type": "execute_result"
    }
   ],
   "source": [
    "variable = 'three'\n",
    "f'1: {{one}}, 2: {{two}}, 3: {variable}'"
   ]
  },
  {
   "cell_type": "markdown",
   "id": "5d909ba8",
   "metadata": {},
   "source": [
    "## Định dạng bằng phương thức format\n",
    "\n",
    "- Cách định dạng này cho phép Python định dạng chuỗi một cách tuyệt vời, không chỉ tốt về mặt nội dung mà còn về thẫm mĩ. Định dạng bằng phương thức format\n",
    "\n",
    "- Đầu tiên là đơn giản nhất"
   ]
  },
  {
   "cell_type": "code",
   "execution_count": 75,
   "id": "97d651a0",
   "metadata": {},
   "outputs": [
    {
     "data": {
      "text/plain": [
       "'a: 1,b: 2,c: 3'"
      ]
     },
     "execution_count": 75,
     "metadata": {},
     "output_type": "execute_result"
    }
   ],
   "source": [
    "'a: {},b: {},c: {}' .format(1, 2, 3)"
   ]
  },
  {
   "cell_type": "code",
   "execution_count": 76,
   "id": "98ad506c",
   "metadata": {},
   "outputs": [
    {
     "data": {
      "text/plain": [
       "'a: 1, b: 2, c: 3'"
      ]
     },
     "execution_count": 76,
     "metadata": {},
     "output_type": "execute_result"
    }
   ],
   "source": [
    "'a: %d, b: %d, c: %d' %(1, 2, 3)"
   ]
  },
  {
   "cell_type": "markdown",
   "id": "7e9fa1cf",
   "metadata": {},
   "source": [
    "Nếu chỉ dùng toán tử % phương thức này sẽ không có gì nỗi bật."
   ]
  },
  {
   "cell_type": "code",
   "execution_count": 77,
   "id": "7e18cdcb",
   "metadata": {},
   "outputs": [
    {
     "data": {
      "text/plain": [
       "'a: two, b: three, c: one'"
      ]
     },
     "execution_count": 77,
     "metadata": {},
     "output_type": "execute_result"
    }
   ],
   "source": [
    "'a: {1}, b: {2}, c: {0}' .format('one','two','three')"
   ]
  },
  {
   "cell_type": "markdown",
   "id": "01e8883a",
   "metadata": {},
   "source": [
    "- Hình minh họa:\n",
    "\n",
    "![](https://f.howkteam.vn/Upload/cke/images/2_IMAGE%20TUTORIAL/3_Python/01_Python%20c%C6%A1%20b%E1%BA%A3n/B09_Kdl%20chu%E1%BB%97i%20trong%20Python%20-%20Ph%E1%BA%A7n%203/4_Ki%E1%BB%83u%20d%E1%BB%AF%20li%E1%BB%87u%20chu%E1%BB%97i%20trong%20Python%20-%20Ph%E1%BA%A7n%203_Howkteam_com.png)\n",
    "\n",
    "- Giá trị ở vị trí thứ nhất sẽ thay thế cho vị trí thứ nhất ở trong chuỗi và cứ thế với các giá trị sau.\n",
    "\n",
    "- Và phương thức này cũng không quá khắt khe việc số các giá trị bằng số các nơi cần định dạng trong chuỗi. Ta có thể cho dư giá trị"
   ]
  },
  {
   "cell_type": "code",
   "execution_count": 78,
   "id": "ab5243fb",
   "metadata": {},
   "outputs": [
    {
     "data": {
      "text/plain": [
       "'only one value: 1'"
      ]
     },
     "execution_count": 78,
     "metadata": {},
     "output_type": "execute_result"
    }
   ],
   "source": [
    "'only one value: {0}' .format(1, 2)"
   ]
  },
  {
   "cell_type": "code",
   "execution_count": 79,
   "id": "96e67cad",
   "metadata": {},
   "outputs": [
    {
     "data": {
      "text/plain": [
       "'only one value: 2'"
      ]
     },
     "execution_count": 79,
     "metadata": {},
     "output_type": "execute_result"
    }
   ],
   "source": [
    "'only one value: {1}' .format(1, 2)"
   ]
  },
  {
   "cell_type": "code",
   "execution_count": 80,
   "id": "e2a71d84",
   "metadata": {},
   "outputs": [
    {
     "data": {
      "text/plain": [
       "'two same value: 1, 1'"
      ]
     },
     "execution_count": 80,
     "metadata": {},
     "output_type": "execute_result"
    }
   ],
   "source": [
    "# Có thể lặp lại\n",
    "'two same value: {0}, {0}' .format(1, 2)"
   ]
  },
  {
   "cell_type": "code",
   "execution_count": 81,
   "id": "d399f4cf",
   "metadata": {},
   "outputs": [
    {
     "data": {
      "text/plain": [
       "'1: 111, 2: 222'"
      ]
     },
     "execution_count": 81,
     "metadata": {},
     "output_type": "execute_result"
    }
   ],
   "source": [
    "'1: {one}, 2: {two}' .format(one=111, two=222)"
   ]
  },
  {
   "cell_type": "markdown",
   "id": "8a522bc4",
   "metadata": {},
   "source": [
    "- Dưới đây là 3 cách căn lề cơ bản của phương thức format\n",
    "\n",
    "![](https://f.howkteam.vn/Upload/cke/images/2_IMAGE%20TUTORIAL/3_Python/01_Python%20c%C6%A1%20b%E1%BA%A3n/B09_Kdl%20chu%E1%BB%97i%20trong%20Python%20-%20Ph%E1%BA%A7n%203/5_Ki%E1%BB%83u%20d%E1%BB%AF%20li%E1%BB%87u%20chu%E1%BB%97i%20trong%20Python%20-%20Ph%E1%BA%A7n%203_Howkteam_com.png)\n",
    "\n",
    "- Trong đó:\n",
    "    -  c là kí tự muốn thay thế vào chỗ trống nếu để trống thì sẽ là kí tự khoảng trắng\n",
    "    - n là số kí tự dùng để căn lề."
   ]
  },
  {
   "cell_type": "code",
   "execution_count": 82,
   "id": "b64c717b",
   "metadata": {},
   "outputs": [
    {
     "data": {
      "text/plain": [
       "'   aaaa   '"
      ]
     },
     "execution_count": 82,
     "metadata": {},
     "output_type": "execute_result"
    }
   ],
   "source": [
    "# căn giữa\n",
    "'{:^10}' .format('aaaa')"
   ]
  },
  {
   "cell_type": "code",
   "execution_count": 83,
   "id": "d4ab7160",
   "metadata": {},
   "outputs": [
    {
     "data": {
      "text/plain": [
       "'aaaa      '"
      ]
     },
     "execution_count": 83,
     "metadata": {},
     "output_type": "execute_result"
    }
   ],
   "source": [
    "# căn lề trái\n",
    "'{:<10}' .format('aaaa')"
   ]
  },
  {
   "cell_type": "code",
   "execution_count": 84,
   "id": "884f9c6f",
   "metadata": {},
   "outputs": [
    {
     "data": {
      "text/plain": [
       "'      aaaa'"
      ]
     },
     "execution_count": 84,
     "metadata": {},
     "output_type": "execute_result"
    }
   ],
   "source": [
    "# căn lề phải\n",
    "'{:>10}' .format('aaaa')"
   ]
  },
  {
   "cell_type": "code",
   "execution_count": 85,
   "id": "acaf6d83",
   "metadata": {},
   "outputs": [
    {
     "data": {
      "text/plain": [
       "'******aaaa'"
      ]
     },
     "execution_count": 85,
     "metadata": {},
     "output_type": "execute_result"
    }
   ],
   "source": [
    "# căn lề trái, thay thế khoảng trắng bằng kí tự *\n",
    "'{:*>10}' .format('aaaa')"
   ]
  },
  {
   "cell_type": "code",
   "execution_count": 86,
   "id": "c8f090ae",
   "metadata": {},
   "outputs": [
    {
     "data": {
      "text/plain": [
       "'aaaa******'"
      ]
     },
     "execution_count": 86,
     "metadata": {},
     "output_type": "execute_result"
    }
   ],
   "source": [
    "# căn lề phải, thay thế khoảng trắng bằng kí tự *\n",
    "'{:*<10}' .format('aaaa')"
   ]
  },
  {
   "cell_type": "code",
   "execution_count": 87,
   "id": "4b413c38",
   "metadata": {},
   "outputs": [
    {
     "data": {
      "text/plain": [
       "'***aaaa***'"
      ]
     },
     "execution_count": 87,
     "metadata": {},
     "output_type": "execute_result"
    }
   ],
   "source": [
    "# căn giữa, thay thế khoảng trắng bằng kí tự *\n",
    "'{:*^10}' .format('aaaa') "
   ]
  },
  {
   "cell_type": "markdown",
   "id": "050b87c7",
   "metadata": {},
   "source": [
    "- Nhờ việc căn lề bằng phương thức này, ta sẽ dễ dàng hơn để có kết quả đẹp mắt."
   ]
  },
  {
   "cell_type": "markdown",
   "id": "7bbed791",
   "metadata": {},
   "source": [
    "###### Tạo một file Python với nội dung sau:"
   ]
  },
  {
   "cell_type": "code",
   "execution_count": 1,
   "id": "08afef3d",
   "metadata": {},
   "outputs": [
    {
     "name": "stdout",
     "output_type": "stream",
     "text": [
      "+ ------ + --------------- + ---------- +\n",
      "| ID     |    Ho va ten    |   Noi sinh |\n",
      "| 123    |   Yui Hatano    |   Japanese |\n",
      "| 6969   |   Sunny Leone   |     Canada |\n",
      "+ ------ + --------------- + ---------- +\n"
     ]
    }
   ],
   "source": [
    "# Phần định dạng\n",
    "a='| {:<6} | {:^15} | {:>10} |'\n",
    "row_1 = '+ {:-<6} + {:-^15} + {:->10} +'.format('', '', '')\n",
    "row_2 = f'{a}'.format('ID', 'Ho va ten', 'Noi sinh')\n",
    "row_3 = f'{a}'.format('123', 'Yui Hatano', 'Japanese')\n",
    "row_4 = f'{a}'.format('6969', 'Sunny Leone', 'Canada')\n",
    "row_5 = row_1\n",
    "\n",
    "# phần xuất kết quả\n",
    "print(row_1)\n",
    "print(row_2)\n",
    "print(row_3)\n",
    "print(row_4)\n",
    "print(row_5)"
   ]
  }
 ],
 "metadata": {
  "kernelspec": {
   "display_name": "Python 3",
   "language": "python",
   "name": "python3"
  },
  "language_info": {
   "codemirror_mode": {
    "name": "ipython",
    "version": 3
   },
   "file_extension": ".py",
   "mimetype": "text/x-python",
   "name": "python",
   "nbconvert_exporter": "python",
   "pygments_lexer": "ipython3",
   "version": "3.8.8"
  }
 },
 "nbformat": 4,
 "nbformat_minor": 5
}
