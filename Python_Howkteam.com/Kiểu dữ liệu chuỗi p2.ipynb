{
 "cells": [
  {
   "cell_type": "markdown",
   "id": "227e133a",
   "metadata": {},
   "source": [
    "# Nội Dung:\n",
    "- Chuỗi trần là gì?\n",
    "- Một số toán tử với chuỗi\n",
    "    - Toán tử +\n",
    "    - Toán tử *\n",
    "    - Toán tử in\n",
    "- Indexing và cắt chuỗi\n",
    "    - Indexing\n",
    "    - Cắt chuỗi\n",
    "- Ép kiểu dữ liệu\n",
    "- Thay đổi nội dung chuỗi"
   ]
  },
  {
   "cell_type": "markdown",
   "id": "057a0c01",
   "metadata": {},
   "source": [
    "## Chuỗi Trần: \n",
    "    - Chuỗi trần có nghĩa là viết sao thì in ra y vậy, kể cả ký tự đặc biệt. Ví dụ khi bạn viết đường dẫn có dấu “\\” thì nó sẽ in y hệt cái dấu đó ra luôn.\n",
    "    - Bạn sẽ xài chuỗi trần này rất thường xuyên, nhất là khi làm việc với biểu thức chính quy (Regular expression).\n",
    "    - Chỉ cần thêm r đằng trước chuỗi."
   ]
  },
  {
   "cell_type": "code",
   "execution_count": 7,
   "id": "3030ba9c",
   "metadata": {},
   "outputs": [
    {
     "name": "stdout",
     "output_type": "stream",
     "text": [
      "Hôm \\nay trời đẹp quá!\n"
     ]
    }
   ],
   "source": [
    "s =(r'Hôm \\nay trời đẹp quá!')\n",
    "print(s)"
   ]
  },
  {
   "cell_type": "code",
   "execution_count": 8,
   "id": "da0db5c3",
   "metadata": {},
   "outputs": [
    {
     "name": "stdout",
     "output_type": "stream",
     "text": [
      "D:\\Thư mục\\n_thư_mục\n"
     ]
    }
   ],
   "source": [
    "print(r\"D:\\Thư mục\\n_thư_mục\")"
   ]
  },
  {
   "cell_type": "markdown",
   "id": "5100c5f6",
   "metadata": {},
   "source": [
    "## Chuỗi trần sẽ bỏ qua Escape Sequence\n",
    "\n",
    "![image](https://f.howkteam.vn/Upload/cke/images/2_IMAGE%20TUTORIAL/3_Python/01_Python%20c%C6%A1%20b%E1%BA%A3n/B07_Kdl%20chu%E1%BB%97i%20trong%20Python%20-%20Ph%E1%BA%A7n%201/1_Ki%E1%BB%83u%20d%E1%BB%AF%20li%E1%BB%87u%20chu%E1%BB%97i%20trong%20Python%20-%20Ph%E1%BA%A7n%201_Howkteam_com.png)\n"
   ]
  },
  {
   "cell_type": "markdown",
   "id": "1af5cb1c",
   "metadata": {},
   "source": [
    "### Toán tử +\n",
    "    - Đây là một toán tử rất hay được sử dụng trong việc nối các chuỗi\n",
    "    - Cú pháp: \n",
    "        A + B (với A và B là chuỗi)"
   ]
  },
  {
   "cell_type": "code",
   "execution_count": 17,
   "id": "28a7cfff",
   "metadata": {},
   "outputs": [
    {
     "name": "stdout",
     "output_type": "stream",
     "text": [
      "Nguyễn Minh\n",
      "Khánh\n",
      "\n"
     ]
    }
   ],
   "source": [
    "# Toán tử +\n",
    "a = 'Nguyễn Minh\\n'\n",
    "b = 'Khánh\\n'\n",
    "c = a + b\n",
    "print(c)"
   ]
  },
  {
   "cell_type": "markdown",
   "id": "b87c0074",
   "metadata": {},
   "source": [
    "### Toán tử *\n",
    "    - Không mấy ngôn ngữ lập trình hỗ trợ toán tử này, toán tử này giúp tạo ra một chuỗi nhờ lặp đi lặp lại chuỗi với số lần bạn muốn.\n",
    "    - Cú pháp: \n",
    "        A * N (Với A là một chuỗi, N là một số nguyên)"
   ]
  },
  {
   "cell_type": "code",
   "execution_count": 18,
   "id": "75bc1d28",
   "metadata": {},
   "outputs": [
    {
     "name": "stdout",
     "output_type": "stream",
     "text": [
      "Khánh\n",
      "Khánh\n",
      "Khánh\n",
      "Khánh\n",
      "Khánh\n",
      "\n"
     ]
    }
   ],
   "source": [
    "# Toán tử *\n",
    "d = b * 5\n",
    "print(d)"
   ]
  },
  {
   "cell_type": "markdown",
   "id": "3af3b3cd",
   "metadata": {},
   "source": [
    "### Toán tử in\n",
    "    - Toán tử này chỉ có thể nhận được một trong hai đáp án là True or False\n",
    "    - Cú pháp:\n",
    "        S in A (với s và A là chuỗi)\n",
    "            - True: s có trong A\n",
    "            - False: ngược lại"
   ]
  },
  {
   "cell_type": "code",
   "execution_count": 20,
   "id": "09bb1920",
   "metadata": {},
   "outputs": [
    {
     "data": {
      "text/plain": [
       "True"
      ]
     },
     "execution_count": 20,
     "metadata": {},
     "output_type": "execute_result"
    }
   ],
   "source": [
    "'a' in 'abc'"
   ]
  },
  {
   "cell_type": "code",
   "execution_count": 21,
   "id": "a93299b5",
   "metadata": {},
   "outputs": [
    {
     "data": {
      "text/plain": [
       "False"
      ]
     },
     "execution_count": 21,
     "metadata": {},
     "output_type": "execute_result"
    }
   ],
   "source": [
    "'z' in 'abc'"
   ]
  },
  {
   "cell_type": "markdown",
   "id": "74e320b2",
   "metadata": {},
   "source": [
    "## Indexing và cắt chuỗi\n",
    "\n",
    "### Indexing\n",
    "    - Trong một chuỗi của python, các kí tự tạo nên chuỗi đó sẽ được đánh số từ 0 tới n -1 từ trái qua phải với n là số kí tự có trong chuỗi\n",
    "    - ví dụ: chuỗi s = 'abc xyz'\n",
    "\n",
    "![](https://f.howkteam.vn/Upload/cke/images/2_IMAGE%20TUTORIAL/3_Python/01_Python%20c%C6%A1%20b%E1%BA%A3n/B08_Kdl%20chu%E1%BB%97i%20trong%20Python%20-%20Ph%E1%BA%A7n%202/1_Ki%E1%BB%83u%20d%E1%BB%AF%20li%E1%BB%87u%20chu%E1%BB%97i%20trong%20Python%20-%20Ph%E1%BA%A7n%202_Howkteam_com.png)\n",
    "\n",
    "    - Dựa vào đây ta có thể lấy được bất cứ kí tự nào mà ta muốn trong chuỗi.\n",
    "    - Cú pháp: \n",
    "        <chuỗi>[vị trí]"
   ]
  },
  {
   "cell_type": "code",
   "execution_count": 24,
   "id": "806b365d",
   "metadata": {},
   "outputs": [
    {
     "data": {
      "text/plain": [
       "'a'"
      ]
     },
     "execution_count": 24,
     "metadata": {},
     "output_type": "execute_result"
    }
   ],
   "source": [
    "strS = 'abc xyz'\n",
    "strS[0]"
   ]
  },
  {
   "cell_type": "code",
   "execution_count": 29,
   "id": "35f2a80b",
   "metadata": {},
   "outputs": [
    {
     "data": {
      "text/plain": [
       "'y'"
      ]
     },
     "execution_count": 29,
     "metadata": {},
     "output_type": "execute_result"
    }
   ],
   "source": [
    "strS[5]"
   ]
  },
  {
   "cell_type": "code",
   "execution_count": 30,
   "id": "a8c29ff1",
   "metadata": {},
   "outputs": [
    {
     "data": {
      "text/plain": [
       "' '"
      ]
     },
     "execution_count": 30,
     "metadata": {},
     "output_type": "execute_result"
    }
   ],
   "source": [
    "strS[3]"
   ]
  },
  {
   "cell_type": "code",
   "execution_count": 32,
   "id": "9b400918",
   "metadata": {},
   "outputs": [
    {
     "data": {
      "text/plain": [
       "7"
      ]
     },
     "execution_count": 32,
     "metadata": {},
     "output_type": "execute_result"
    }
   ],
   "source": [
    "# Độ dài chuỗi \n",
    "len(strS)"
   ]
  },
  {
   "cell_type": "code",
   "execution_count": 33,
   "id": "7326c70e",
   "metadata": {},
   "outputs": [
    {
     "ename": "IndexError",
     "evalue": "string index out of range",
     "output_type": "error",
     "traceback": [
      "\u001b[1;31m---------------------------------------------------------------------------\u001b[0m",
      "\u001b[1;31mIndexError\u001b[0m                                Traceback (most recent call last)",
      "\u001b[1;32m<ipython-input-33-5f3e8028bbbf>\u001b[0m in \u001b[0;36m<module>\u001b[1;34m\u001b[0m\n\u001b[0;32m      1\u001b[0m \u001b[1;31m# truy cập vị trí không có trong chuỗi\u001b[0m\u001b[1;33m\u001b[0m\u001b[1;33m\u001b[0m\u001b[1;33m\u001b[0m\u001b[0m\n\u001b[1;32m----> 2\u001b[1;33m \u001b[0mstrS\u001b[0m\u001b[1;33m[\u001b[0m\u001b[1;36m7\u001b[0m\u001b[1;33m]\u001b[0m\u001b[1;33m\u001b[0m\u001b[1;33m\u001b[0m\u001b[0m\n\u001b[0m",
      "\u001b[1;31mIndexError\u001b[0m: string index out of range"
     ]
    }
   ],
   "source": [
    "# truy cập vị trí không có trong chuỗi\n",
    "strS[7]"
   ]
  },
  {
   "cell_type": "code",
   "execution_count": 34,
   "id": "3e04a054",
   "metadata": {},
   "outputs": [
    {
     "ename": "TypeError",
     "evalue": "string indices must be integers",
     "output_type": "error",
     "traceback": [
      "\u001b[1;31m---------------------------------------------------------------------------\u001b[0m",
      "\u001b[1;31mTypeError\u001b[0m                                 Traceback (most recent call last)",
      "\u001b[1;32m<ipython-input-34-e617b88242b9>\u001b[0m in \u001b[0;36m<module>\u001b[1;34m\u001b[0m\n\u001b[0;32m      1\u001b[0m \u001b[1;31m# vị trí là một số nguyên không phải số thực\u001b[0m\u001b[1;33m\u001b[0m\u001b[1;33m\u001b[0m\u001b[1;33m\u001b[0m\u001b[0m\n\u001b[1;32m----> 2\u001b[1;33m \u001b[0mstrS\u001b[0m\u001b[1;33m[\u001b[0m\u001b[1;36m1.5\u001b[0m\u001b[1;33m]\u001b[0m\u001b[1;33m\u001b[0m\u001b[1;33m\u001b[0m\u001b[0m\n\u001b[0m",
      "\u001b[1;31mTypeError\u001b[0m: string indices must be integers"
     ]
    }
   ],
   "source": [
    "# vị trí là một số nguyên không phải số thực\n",
    "strS[1.5]"
   ]
  },
  {
   "cell_type": "code",
   "execution_count": 35,
   "id": "be118a16",
   "metadata": {},
   "outputs": [
    {
     "ename": "TypeError",
     "evalue": "string indices must be integers",
     "output_type": "error",
     "traceback": [
      "\u001b[1;31m---------------------------------------------------------------------------\u001b[0m",
      "\u001b[1;31mTypeError\u001b[0m                                 Traceback (most recent call last)",
      "\u001b[1;32m<ipython-input-35-0f47b0d646d7>\u001b[0m in \u001b[0;36m<module>\u001b[1;34m\u001b[0m\n\u001b[0;32m      1\u001b[0m \u001b[1;31m# Vị trí là một số nguyên không phải là chuỗi\u001b[0m\u001b[1;33m\u001b[0m\u001b[1;33m\u001b[0m\u001b[1;33m\u001b[0m\u001b[0m\n\u001b[1;32m----> 2\u001b[1;33m \u001b[0mstrS\u001b[0m\u001b[1;33m[\u001b[0m\u001b[1;34m'3'\u001b[0m\u001b[1;33m]\u001b[0m\u001b[1;33m\u001b[0m\u001b[1;33m\u001b[0m\u001b[0m\n\u001b[0m",
      "\u001b[1;31mTypeError\u001b[0m: string indices must be integers"
     ]
    }
   ],
   "source": [
    "# Vị trí là một số nguyên không phải là chuỗi\n",
    "strS['3']"
   ]
  },
  {
   "cell_type": "code",
   "execution_count": 37,
   "id": "8877872d",
   "metadata": {},
   "outputs": [
    {
     "data": {
      "text/plain": [
       "'z'"
      ]
     },
     "execution_count": 37,
     "metadata": {},
     "output_type": "execute_result"
    }
   ],
   "source": [
    "# truy cập phần tử cuỗi cùng trong trường hợp ta không biết vị trí cuối\n",
    "strS[len(strS) - 1]"
   ]
  },
  {
   "cell_type": "markdown",
   "id": "25f3ae97",
   "metadata": {},
   "source": [
    "    - Không chỉ đánh số từ 0 tới n - 1 từ trái qua phải với n là độ dài chuỗi, các kí tự của chuỗi còn được đánh số từ phải qua trái từ -1 đến -n với n là độ dài chuỗi\n",
    "\n",
    "![](https://f.howkteam.vn/Upload/cke/images/2_IMAGE%20TUTORIAL/3_Python/01_Python%20c%C6%A1%20b%E1%BA%A3n/B08_Kdl%20chu%E1%BB%97i%20trong%20Python%20-%20Ph%E1%BA%A7n%202/2_Ki%E1%BB%83u%20d%E1%BB%AF%20li%E1%BB%87u%20chu%E1%BB%97i%20trong%20Python%20-%20Ph%E1%BA%A7n%202_Howkteam_com.png)\n",
    "\n",
    "    - Và cũng như trên, ta có thể truy cập bất cứ kí tự nào trong chuỗi bằng những vị trí này."
   ]
  },
  {
   "cell_type": "code",
   "execution_count": 39,
   "id": "8ed1eac5",
   "metadata": {},
   "outputs": [
    {
     "data": {
      "text/plain": [
       "'c'"
      ]
     },
     "execution_count": 39,
     "metadata": {},
     "output_type": "execute_result"
    }
   ],
   "source": [
    "s = 'abc xyz'\n",
    "s[-5]"
   ]
  },
  {
   "cell_type": "code",
   "execution_count": 40,
   "id": "0453fcf0",
   "metadata": {},
   "outputs": [
    {
     "data": {
      "text/plain": [
       "'a'"
      ]
     },
     "execution_count": 40,
     "metadata": {},
     "output_type": "execute_result"
    }
   ],
   "source": [
    "s[-7]"
   ]
  },
  {
   "cell_type": "code",
   "execution_count": 42,
   "id": "df732686",
   "metadata": {},
   "outputs": [
    {
     "data": {
      "text/plain": [
       "'z'"
      ]
     },
     "execution_count": 42,
     "metadata": {},
     "output_type": "execute_result"
    }
   ],
   "source": [
    "# thay vì dùng s[len(s) - 1]\n",
    "s[-1]"
   ]
  },
  {
   "cell_type": "markdown",
   "id": "3de4b0a1",
   "metadata": {},
   "source": [
    "## Cắt chuỗi\n",
    "    - Dựa trên Indexing, Python cho phép chúng ta cắt chuỗi, cần nắm rõ phương pháp indexing.\n",
    "    - Cú pháp:\n",
    "        <chuỗi>[vị trí đầu: vị trí dừng]\n",
    "    - khi ta sử dụng cú pháp này, ta sẽ nhận được một chuỗi. Chuỗi này chính là bản sao của chuỗi mà chúng ta muốn cắt. Và chúng ta sẽ cắt (lấy) từng các kí tự có vị trí <vị trí đầu> đến <vị trí dừng> -1 và từ trái sang phải."
   ]
  },
  {
   "cell_type": "code",
   "execution_count": 43,
   "id": "b3fcffe8",
   "metadata": {},
   "outputs": [
    {
     "data": {
      "text/plain": [
       "'bc x'"
      ]
     },
     "execution_count": 43,
     "metadata": {},
     "output_type": "execute_result"
    }
   ],
   "source": [
    "s = 'abc xyz'\n",
    "# cắt từng kí tự có vị trí từ 1 đến 4\n",
    "s[1:5]"
   ]
  },
  {
   "cell_type": "code",
   "execution_count": 44,
   "id": "074e4998",
   "metadata": {},
   "outputs": [
    {
     "data": {
      "text/plain": [
       "'abc'"
      ]
     },
     "execution_count": 44,
     "metadata": {},
     "output_type": "execute_result"
    }
   ],
   "source": [
    "# cắt từng kí tự có vị trí từ 0 đến 2\n",
    "s[0:3]"
   ]
  },
  {
   "cell_type": "markdown",
   "id": "158ed5d6",
   "metadata": {},
   "source": [
    "- mỗi kí tự được đánh 2 số vị trí, ta có thể sử dụng cả vị trí số âm"
   ]
  },
  {
   "cell_type": "code",
   "execution_count": 46,
   "id": "1d05cfa9",
   "metadata": {},
   "outputs": [
    {
     "data": {
      "text/plain": [
       "' xy'"
      ]
     },
     "execution_count": 46,
     "metadata": {},
     "output_type": "execute_result"
    }
   ],
   "source": [
    "# cắt từng kí tự có vị trí từ -4 đến -2\n",
    "s[-4:-1]"
   ]
  },
  {
   "cell_type": "code",
   "execution_count": 47,
   "id": "2e023571",
   "metadata": {},
   "outputs": [
    {
     "data": {
      "text/plain": [
       "'bc xy'"
      ]
     },
     "execution_count": 47,
     "metadata": {},
     "output_type": "execute_result"
    }
   ],
   "source": [
    "# cắt từng kí tự có vị trí từ 1(-6) đến 5(-2) \n",
    "# vì vị trí dừng là 6(-1)\n",
    "s[1:-1]"
   ]
  },
  {
   "cell_type": "markdown",
   "id": "adef5860",
   "metadata": {},
   "source": [
    "    - Ở trường hợp ta sử dụng vị trí vừa số âm vừa số dương, ta phải hiểu rằng, vị trí số âm hay số dương thì nó cũng sẽ chỉ ra một vị trí và vị trí đó nó sẽ xem xét để cắt. Thế nên, ta phải nắm rõ INDEXING.\n",
    "\n",
    "    - Thêm một vấn đề nữa. Bạn sẽ thấy ta không có cách nào cắt mà lấy được giá trị cuối cùng của chuỗi. Lúc đó, ta sẽ sử dụng vị trí None. Một vị trí đặt biệt"
   ]
  },
  {
   "cell_type": "code",
   "execution_count": 48,
   "id": "5ddc3fd0",
   "metadata": {},
   "outputs": [
    {
     "data": {
      "text/plain": [
       "'bc xyz'"
      ]
     },
     "execution_count": 48,
     "metadata": {},
     "output_type": "execute_result"
    }
   ],
   "source": [
    "s = 'abc xyz'\n",
    "# lấy các kí tự có vị trí 1 đến hết chuỗi\n",
    "s[1:None]"
   ]
  },
  {
   "cell_type": "code",
   "execution_count": 49,
   "id": "d873a09c",
   "metadata": {},
   "outputs": [
    {
     "data": {
      "text/plain": [
       "' xyz'"
      ]
     },
     "execution_count": 49,
     "metadata": {},
     "output_type": "execute_result"
    }
   ],
   "source": [
    "# lấy các kí tự có vị trí 3 đến hết chuỗi\n",
    "s[3:None]"
   ]
  },
  {
   "cell_type": "code",
   "execution_count": 50,
   "id": "53565e36",
   "metadata": {},
   "outputs": [
    {
     "data": {
      "text/plain": [
       "'bc xyz'"
      ]
     },
     "execution_count": 50,
     "metadata": {},
     "output_type": "execute_result"
    }
   ],
   "source": [
    "# đặt biệt, ta chỉ cần bỏ trống python sẽ tự hiểu là None\n",
    "s[1:]"
   ]
  },
  {
   "cell_type": "markdown",
   "id": "d2d97da4",
   "metadata": {},
   "source": [
    "    - Đó là ta dặt None ở vị trí dừng\n",
    "    - None cũng có thể đặt ở vị trị bắt đầu. khi đó, ta sẽ cắt chuỗi từ vị trí đầu tiên."
   ]
  },
  {
   "cell_type": "code",
   "execution_count": 51,
   "id": "5a7729bb",
   "metadata": {},
   "outputs": [
    {
     "data": {
      "text/plain": [
       "'abc '"
      ]
     },
     "execution_count": 51,
     "metadata": {},
     "output_type": "execute_result"
    }
   ],
   "source": [
    "s = 'abc xyz'\n",
    "# lấy các kí tự từ 0 đến 3\n",
    "s[None: 4]"
   ]
  },
  {
   "cell_type": "code",
   "execution_count": 52,
   "id": "a7c0d1f2",
   "metadata": {},
   "outputs": [
    {
     "data": {
      "text/plain": [
       "'abc xy'"
      ]
     },
     "execution_count": 52,
     "metadata": {},
     "output_type": "execute_result"
    }
   ],
   "source": [
    "# lấy các kí tự từ 0 đến 5\n",
    "s[:6]"
   ]
  },
  {
   "cell_type": "code",
   "execution_count": 53,
   "id": "3f2eae71",
   "metadata": {},
   "outputs": [
    {
     "data": {
      "text/plain": [
       "'abc xyz'"
      ]
     },
     "execution_count": 53,
     "metadata": {},
     "output_type": "execute_result"
    }
   ],
   "source": [
    "# sao chép chuỗi\n",
    "s[:]"
   ]
  },
  {
   "cell_type": "markdown",
   "id": "f6d76476",
   "metadata": {},
   "source": [
    "###### Lưu ý: khi đặt None ở vị trí bắt đầu có nghĩa là vị trí bắt đầu là 0, và khi đặt None ở vị trí kết thúc, thì có nghĩa là vị trí kết thúc sẽ là n với n là số kí tự trong chuỗi."
   ]
  },
  {
   "cell_type": "markdown",
   "id": "3d1c4efe",
   "metadata": {},
   "source": [
    "## Cắt chuỗi từ phải qua trái\n",
    "    - Cú pháp\n",
    "        <chuỗi>[vị trí bắt đầu:vị trí dừng: bước nhảy]\n",
    "    - với cú pháp <chuỗi>[vị trí đầu:vị trí dừng] có bước nhảy là 1 nên không cần nhập số bước nhảy có nghĩa là vị trí của kí tự tiếp theo hơn vị vị trị của kí tự kế tiếp là 1 đơn vị"
   ]
  },
  {
   "cell_type": "code",
   "execution_count": 54,
   "id": "c3544e67",
   "metadata": {},
   "outputs": [
    {
     "data": {
      "text/plain": [
       "'c x'"
      ]
     },
     "execution_count": 54,
     "metadata": {},
     "output_type": "execute_result"
    }
   ],
   "source": [
    "s = 'abc xyz'\n",
    "# cắt từng kí tự từ vị trí 2 đến 4 và bước nhảy là 1\n",
    "s[2:5:1]"
   ]
  },
  {
   "cell_type": "code",
   "execution_count": 55,
   "id": "46d6b977",
   "metadata": {},
   "outputs": [
    {
     "data": {
      "text/plain": [
       "'c x'"
      ]
     },
     "execution_count": 55,
     "metadata": {},
     "output_type": "execute_result"
    }
   ],
   "source": [
    "# bước nhảy mặc định\n",
    "s[2:5]"
   ]
  },
  {
   "cell_type": "markdown",
   "id": "ef3ce9f5",
   "metadata": {},
   "source": [
    "    - bước nhảy chính là thứ để tính được vị trí tiếp theo cách vị trí trước đó bao nhiêu đơn vị."
   ]
  },
  {
   "cell_type": "code",
   "execution_count": 56,
   "id": "bfa87c94",
   "metadata": {},
   "outputs": [
    {
     "data": {
      "text/plain": [
       "'b y'"
      ]
     },
     "execution_count": 56,
     "metadata": {},
     "output_type": "execute_result"
    }
   ],
   "source": [
    "# cắt từng kí tự có vị trí từ 1 đến 6 và bước nhảy là 2\n",
    "s[1:7:2]"
   ]
  },
  {
   "cell_type": "markdown",
   "id": "401a83d4",
   "metadata": {},
   "source": [
    "    - Cắt chuỗi từ phải sang trái bằng việc đặt bước nhảy là số âm"
   ]
  },
  {
   "cell_type": "code",
   "execution_count": 57,
   "id": "0ced1146",
   "metadata": {},
   "outputs": [
    {
     "data": {
      "text/plain": [
       "'bc'"
      ]
     },
     "execution_count": 57,
     "metadata": {},
     "output_type": "execute_result"
    }
   ],
   "source": [
    "s = 'abc xyz'\n",
    "# bắt đầu ở vị trí 1 và dừng ở vị trí 3. Lấy vị trí 1 và 2\n",
    "s[1:3]"
   ]
  },
  {
   "cell_type": "code",
   "execution_count": 58,
   "id": "db1d9d56",
   "metadata": {},
   "outputs": [
    {
     "data": {
      "text/plain": [
       "' c'"
      ]
     },
     "execution_count": 58,
     "metadata": {},
     "output_type": "execute_result"
    }
   ],
   "source": [
    "# bắt đầu ở vị trí 3 và dừng ở 1. vị trí lấy 3 và 2\n",
    "s[3:1:-1]"
   ]
  },
  {
   "cell_type": "code",
   "execution_count": 60,
   "id": "372417cf",
   "metadata": {},
   "outputs": [
    {
     "data": {
      "text/plain": [
       "'zxc'"
      ]
     },
     "execution_count": 60,
     "metadata": {},
     "output_type": "execute_result"
    }
   ],
   "source": [
    "# bắt đầu ở vị trí 6 và dừng ở vị trí 1 và bước nhảy là -2\n",
    "# lấy vị trí 6, 4 , 2\n",
    "s[6:1:-2]"
   ]
  },
  {
   "cell_type": "markdown",
   "id": "5fd4557e",
   "metadata": {},
   "source": [
    "###### Lưu ý: khi đặt bước nhảy là số âm, thì vị trí bắt đầu ta để là None thì nó sẽ đặt là n - 1 với n là độ dài chuỗi. Còn với vị trí dừng thì sẽ cắt hết trọn vẹn tới đầu chuỗi có nghĩa là vị trí dừng ở trường hợp này không phải 0."
   ]
  },
  {
   "cell_type": "code",
   "execution_count": 61,
   "id": "88aaa14b",
   "metadata": {},
   "outputs": [
    {
     "data": {
      "text/plain": [
       "'x cba'"
      ]
     },
     "execution_count": 61,
     "metadata": {},
     "output_type": "execute_result"
    }
   ],
   "source": [
    "s = 'abc xyz'\n",
    "# lấy các kí tự có vị trí từ 4 đến 0\n",
    "s[4::-1]"
   ]
  },
  {
   "cell_type": "code",
   "execution_count": 62,
   "id": "83a9a3ca",
   "metadata": {},
   "outputs": [
    {
     "data": {
      "text/plain": [
       "'zyx cba'"
      ]
     },
     "execution_count": 62,
     "metadata": {},
     "output_type": "execute_result"
    }
   ],
   "source": [
    "# cách lấy chuỗi ngược là đặt bước nhảy âm\n",
    "s[::-1]"
   ]
  },
  {
   "cell_type": "code",
   "execution_count": 68,
   "id": "09b6e094",
   "metadata": {},
   "outputs": [
    {
     "data": {
      "text/plain": [
       "'zxc'"
      ]
     },
     "execution_count": 68,
     "metadata": {},
     "output_type": "execute_result"
    }
   ],
   "source": [
    "# lấy các kí tự có vị trí 6, 4, 2\n",
    "s[:1:-2]"
   ]
  },
  {
   "cell_type": "code",
   "execution_count": 66,
   "id": "37e714ad",
   "metadata": {},
   "outputs": [
    {
     "data": {
      "text/plain": [
       "7"
      ]
     },
     "execution_count": 66,
     "metadata": {},
     "output_type": "execute_result"
    }
   ],
   "source": [
    "len(s)"
   ]
  },
  {
   "cell_type": "code",
   "execution_count": 69,
   "id": "9636e584",
   "metadata": {},
   "outputs": [
    {
     "ename": "ValueError",
     "evalue": "slice step cannot be zero",
     "output_type": "error",
     "traceback": [
      "\u001b[1;31m---------------------------------------------------------------------------\u001b[0m",
      "\u001b[1;31mValueError\u001b[0m                                Traceback (most recent call last)",
      "\u001b[1;32m<ipython-input-69-b0a40926a072>\u001b[0m in \u001b[0;36m<module>\u001b[1;34m\u001b[0m\n\u001b[1;32m----> 1\u001b[1;33m \u001b[0ms\u001b[0m\u001b[1;33m[\u001b[0m\u001b[1;36m1\u001b[0m\u001b[1;33m:\u001b[0m\u001b[1;36m6\u001b[0m\u001b[1;33m:\u001b[0m\u001b[1;36m0\u001b[0m\u001b[1;33m]\u001b[0m\u001b[1;33m\u001b[0m\u001b[1;33m\u001b[0m\u001b[0m\n\u001b[0m",
      "\u001b[1;31mValueError\u001b[0m: slice step cannot be zero"
     ]
    }
   ],
   "source": [
    "s[1:6:0]"
   ]
  },
  {
   "cell_type": "markdown",
   "id": "221bb5cc",
   "metadata": {},
   "source": [
    "###### Lưu ý: bước nhảy không được phép đặt bằng 0"
   ]
  },
  {
   "cell_type": "markdown",
   "id": "8a48586f",
   "metadata": {},
   "source": [
    "## Ép kiểu dữ liệu"
   ]
  },
  {
   "cell_type": "code",
   "execution_count": 72,
   "id": "cf6b4b42",
   "metadata": {},
   "outputs": [
    {
     "name": "stdout",
     "output_type": "stream",
     "text": [
      "kiểu dữ liệu của a là <class 'str'>\n",
      "kiểu dữ liệu của b là <class 'int'>\n"
     ]
    }
   ],
   "source": [
    "# hai biến a và b khác nhau\n",
    "a = '69'\n",
    "b = 69\n",
    "print('kiểu dữ liệu của a là',type(a))\n",
    "print('kiểu dữ liệu của b là',type(b))"
   ]
  },
  {
   "cell_type": "code",
   "execution_count": 73,
   "id": "8cd9f5a8",
   "metadata": {},
   "outputs": [
    {
     "data": {
      "text/plain": [
       "'6969'"
      ]
     },
     "execution_count": 73,
     "metadata": {},
     "output_type": "execute_result"
    }
   ],
   "source": [
    "# sự khác nhau trong phép toán\n",
    "# một chuỗi nhân với một số\n",
    "'69' * 2"
   ]
  },
  {
   "cell_type": "code",
   "execution_count": 74,
   "id": "70ce6647",
   "metadata": {},
   "outputs": [
    {
     "data": {
      "text/plain": [
       "138"
      ]
     },
     "execution_count": 74,
     "metadata": {},
     "output_type": "execute_result"
    }
   ],
   "source": [
    "# một số nhân với một số\n",
    "69 * 2"
   ]
  },
  {
   "cell_type": "markdown",
   "id": "c6b22bf8",
   "metadata": {},
   "source": [
    "    - Đôi lúc, bạn sẽ nhận được một số dưới dạng một chuỗi. Thế nên, trong trường hợp ta muốn tính toán thì phải đưa nó về từ kiểu chuỗi sang kiểu số\n",
    "    - Cú pháp:\n",
    "        int(<giá trị>)"
   ]
  },
  {
   "cell_type": "code",
   "execution_count": 75,
   "id": "a80802af",
   "metadata": {},
   "outputs": [
    {
     "data": {
      "text/plain": [
       "69"
      ]
     },
     "execution_count": 75,
     "metadata": {},
     "output_type": "execute_result"
    }
   ],
   "source": [
    "a = '69'\n",
    "# trả về giá trị được chuyển về số nguyên từ giá trị của biến a\n",
    "int(a)"
   ]
  },
  {
   "cell_type": "code",
   "execution_count": 76,
   "id": "db02c929",
   "metadata": {},
   "outputs": [
    {
     "data": {
      "text/plain": [
       "str"
      ]
     },
     "execution_count": 76,
     "metadata": {},
     "output_type": "execute_result"
    }
   ],
   "source": [
    "biến a thuộc lớp 'str'\n",
    "type(a)"
   ]
  },
  {
   "cell_type": "code",
   "execution_count": 77,
   "id": "7c258b71",
   "metadata": {},
   "outputs": [
    {
     "data": {
      "text/plain": [
       "int"
      ]
     },
     "execution_count": 77,
     "metadata": {},
     "output_type": "execute_result"
    }
   ],
   "source": [
    "# biến b giữ giá trị được chuyển sang số nguyên từ giá trị của biến a\n",
    "b = int(a)\n",
    "type(b)"
   ]
  },
  {
   "cell_type": "code",
   "execution_count": 78,
   "id": "f5d2b13a",
   "metadata": {},
   "outputs": [
    {
     "data": {
      "text/plain": [
       "str"
      ]
     },
     "execution_count": 78,
     "metadata": {},
     "output_type": "execute_result"
    }
   ],
   "source": [
    "# biến c có giá trị là chuỗi '-3'\n",
    "c = '-3'\n",
    "# dĩ nhiên giá trị biến c thuộc lớp str\n",
    "type(c)"
   ]
  },
  {
   "cell_type": "code",
   "execution_count": 82,
   "id": "2a6167f3",
   "metadata": {},
   "outputs": [
    {
     "data": {
      "text/plain": [
       "-3"
      ]
     },
     "execution_count": 82,
     "metadata": {},
     "output_type": "execute_result"
    }
   ],
   "source": [
    "# trả về giá trị được chuyển sang số nguyên từ giá trị của biến c\n",
    "d = int(c)\n",
    "d"
   ]
  },
  {
   "cell_type": "code",
   "execution_count": 83,
   "id": "2fb00eb3",
   "metadata": {},
   "outputs": [
    {
     "data": {
      "text/plain": [
       "int"
      ]
     },
     "execution_count": 83,
     "metadata": {},
     "output_type": "execute_result"
    }
   ],
   "source": [
    "# số nguyên thuộc lớp 'int'\n",
    "type(d)"
   ]
  },
  {
   "cell_type": "markdown",
   "id": "8b9c10ba",
   "metadata": {},
   "source": [
    "    - Đối với thực, lưu ý khi ép kiểu thành hàm int() ta có khả năng biến đổi một số thực thành số nguyên bằng cách bỏ đi phần thập phân.\n",
    "    - Cú Pháp:\n",
    "        int(<giá trị>)"
   ]
  },
  {
   "cell_type": "code",
   "execution_count": 84,
   "id": "6c6f7a1a",
   "metadata": {},
   "outputs": [
    {
     "data": {
      "text/plain": [
       "float"
      ]
     },
     "execution_count": 84,
     "metadata": {},
     "output_type": "execute_result"
    }
   ],
   "source": [
    "# a là một biến có giá trị là số thực\n",
    "a = 3.1\n",
    "type(a)"
   ]
  },
  {
   "cell_type": "code",
   "execution_count": 85,
   "id": "5607d681",
   "metadata": {},
   "outputs": [
    {
     "data": {
      "text/plain": [
       "3"
      ]
     },
     "execution_count": 85,
     "metadata": {},
     "output_type": "execute_result"
    }
   ],
   "source": [
    "# trả về giá trị được chuyển đổi thành số nguyên từ giá trị của biến a \n",
    "b = int(a)\n",
    "b"
   ]
  },
  {
   "cell_type": "code",
   "execution_count": 86,
   "id": "8efe368e",
   "metadata": {},
   "outputs": [
    {
     "data": {
      "text/plain": [
       "int"
      ]
     },
     "execution_count": 86,
     "metadata": {},
     "output_type": "execute_result"
    }
   ],
   "source": [
    "type(b)"
   ]
  },
  {
   "cell_type": "code",
   "execution_count": 87,
   "id": "c4696f76",
   "metadata": {},
   "outputs": [
    {
     "data": {
      "text/plain": [
       "3"
      ]
     },
     "execution_count": 87,
     "metadata": {},
     "output_type": "execute_result"
    }
   ],
   "source": [
    "int(3.9)"
   ]
  },
  {
   "cell_type": "markdown",
   "id": "da2c8bfd",
   "metadata": {},
   "source": [
    "###### Lưu ý: bỏ đi phần thập phân không phải làm tròn"
   ]
  },
  {
   "cell_type": "code",
   "execution_count": 88,
   "id": "c9ee1f06",
   "metadata": {},
   "outputs": [
    {
     "ename": "ValueError",
     "evalue": "invalid literal for int() with base 10: '3.3333'",
     "output_type": "error",
     "traceback": [
      "\u001b[1;31m---------------------------------------------------------------------------\u001b[0m",
      "\u001b[1;31mValueError\u001b[0m                                Traceback (most recent call last)",
      "\u001b[1;32m<ipython-input-88-dcecb0fb8f69>\u001b[0m in \u001b[0;36m<module>\u001b[1;34m\u001b[0m\n\u001b[0;32m      1\u001b[0m \u001b[1;31m# chuyển đổi một số thực dưới dạng chuỗi bằng hàm int\u001b[0m\u001b[1;33m\u001b[0m\u001b[1;33m\u001b[0m\u001b[1;33m\u001b[0m\u001b[0m\n\u001b[1;32m----> 2\u001b[1;33m \u001b[0mz\u001b[0m \u001b[1;33m=\u001b[0m \u001b[0mint\u001b[0m\u001b[1;33m(\u001b[0m\u001b[1;34m'3.3333'\u001b[0m\u001b[1;33m)\u001b[0m\u001b[1;33m\u001b[0m\u001b[1;33m\u001b[0m\u001b[0m\n\u001b[0m",
      "\u001b[1;31mValueError\u001b[0m: invalid literal for int() with base 10: '3.3333'"
     ]
    }
   ],
   "source": [
    "# chuyển đổi một số thực dưới dạng chuỗi bằng hàm int\n",
    "z = int('3.3333')"
   ]
  },
  {
   "cell_type": "markdown",
   "id": "6cfeb9ca",
   "metadata": {},
   "source": [
    "###### Lưu ý: Không thể chuyển đổi một số thực dưới dạng chuỗi bằng hàm int()"
   ]
  },
  {
   "cell_type": "markdown",
   "id": "7c79fd1e",
   "metadata": {},
   "source": [
    "    - Đối với kiểu số thực \n",
    "    - Cú pháp: \n",
    "        float(<giá trị>)"
   ]
  },
  {
   "cell_type": "code",
   "execution_count": 89,
   "id": "9d0518ed",
   "metadata": {},
   "outputs": [
    {
     "data": {
      "text/plain": [
       "str"
      ]
     },
     "execution_count": 89,
     "metadata": {},
     "output_type": "execute_result"
    }
   ],
   "source": [
    "x = '3.2'\n",
    "type(x)"
   ]
  },
  {
   "cell_type": "code",
   "execution_count": 90,
   "id": "9e19122c",
   "metadata": {},
   "outputs": [
    {
     "data": {
      "text/plain": [
       "3.2"
      ]
     },
     "execution_count": 90,
     "metadata": {},
     "output_type": "execute_result"
    }
   ],
   "source": [
    "y = float(x)\n",
    "y"
   ]
  },
  {
   "cell_type": "code",
   "execution_count": 91,
   "id": "b0756f70",
   "metadata": {},
   "outputs": [
    {
     "data": {
      "text/plain": [
       "float"
      ]
     },
     "execution_count": 91,
     "metadata": {},
     "output_type": "execute_result"
    }
   ],
   "source": [
    "#kiểu dữ liệu của biến y sau khi ép kiểu từ biến x\n",
    "type(y)"
   ]
  },
  {
   "cell_type": "markdown",
   "id": "1f553d3f",
   "metadata": {},
   "source": [
    "## Thay đổi nội dung chuỗi\n",
    "    - Python không cho phép thay đổi nội dung chuỗi bằng cách sử dụng indexing\n",
    "    - Chỉ có thể thay thế chuỗi một cách gián tiếp giá trị chuỗi mà biến đã lưu giữ bằng cách sử dụng việc cắt chuỗi và toán từ + để tạo ra một chuỗi mới và gán lại vào biến."
   ]
  },
  {
   "cell_type": "code",
   "execution_count": 92,
   "id": "f19773ec",
   "metadata": {},
   "outputs": [
    {
     "data": {
      "text/plain": [
       "'a'"
      ]
     },
     "execution_count": 92,
     "metadata": {},
     "output_type": "execute_result"
    }
   ],
   "source": [
    "s = 'abc xyz'\n",
    "s[0]"
   ]
  },
  {
   "cell_type": "code",
   "execution_count": 93,
   "id": "e4a5ab19",
   "metadata": {
    "scrolled": true
   },
   "outputs": [
    {
     "ename": "TypeError",
     "evalue": "'str' object does not support item assignment",
     "output_type": "error",
     "traceback": [
      "\u001b[1;31m---------------------------------------------------------------------------\u001b[0m",
      "\u001b[1;31mTypeError\u001b[0m                                 Traceback (most recent call last)",
      "\u001b[1;32m<ipython-input-93-97a0b231e717>\u001b[0m in \u001b[0;36m<module>\u001b[1;34m\u001b[0m\n\u001b[1;32m----> 1\u001b[1;33m \u001b[0ms\u001b[0m\u001b[1;33m[\u001b[0m\u001b[1;36m0\u001b[0m\u001b[1;33m]\u001b[0m \u001b[1;33m=\u001b[0m \u001b[1;34m'k'\u001b[0m\u001b[1;33m\u001b[0m\u001b[1;33m\u001b[0m\u001b[0m\n\u001b[0m",
      "\u001b[1;31mTypeError\u001b[0m: 'str' object does not support item assignment"
     ]
    }
   ],
   "source": [
    "s[0] = 'k'"
   ]
  },
  {
   "cell_type": "code",
   "execution_count": 95,
   "id": "11a09ba5",
   "metadata": {},
   "outputs": [
    {
     "data": {
      "text/plain": [
       "'kbc xyz'"
      ]
     },
     "execution_count": 95,
     "metadata": {},
     "output_type": "execute_result"
    }
   ],
   "source": [
    "# chuỗi 'K' + các kí tự từ vị trí 1 đến hết chuỗi s\n",
    "s = 'k' + s[1:]\n",
    "s"
   ]
  },
  {
   "cell_type": "markdown",
   "id": "63a42155",
   "metadata": {},
   "source": [
    "    - Vì không thể thay thế nội dung chuỗi, do đó kiểu dữ liệu chuỗi là một đối tượng có thể băm (hashable object)"
   ]
  },
  {
   "cell_type": "code",
   "execution_count": 101,
   "id": "b5b4ef78",
   "metadata": {},
   "outputs": [
    {
     "data": {
      "text/plain": [
       "5527398923070638656"
      ]
     },
     "execution_count": 101,
     "metadata": {},
     "output_type": "execute_result"
    }
   ],
   "source": [
    "# Vì nó là một hashable object nên ta có thể sử dụng hàm hash\n",
    "hash('abc')"
   ]
  },
  {
   "cell_type": "markdown",
   "id": "123d01a3",
   "metadata": {},
   "source": [
    "###### Lưu ý: khi chạy một chương trình Python thì giá trị của hàm hash lên một giá trị nhất định không thay đổi. Nhưng giá trị đó sẽ thay đổi nếu như đó là lần chạy tiếp theo và khi chạy chương trình lần tiếp theo sẽ nhận được kếp quả khác so với kết quả đầu tiên."
   ]
  },
  {
   "cell_type": "markdown",
   "id": "bc384bef",
   "metadata": {},
   "source": [
    "    - Có thể hiểu nôm na hashable object là hằng, một giá trị không bao giờ thay đổi. Và có một vài trường hợp bắt buộc ta phải sử dụng kiểu dữ liệu là hasable object điển hình như một khóa (key) trong kiểu dữ liệu Dict của Python."
   ]
  },
  {
   "cell_type": "code",
   "execution_count": 106,
   "id": "a01fd7cf",
   "metadata": {},
   "outputs": [
    {
     "data": {
      "text/plain": [
       "'abc xyz'"
      ]
     },
     "execution_count": 106,
     "metadata": {},
     "output_type": "execute_result"
    }
   ],
   "source": [
    "s = 'abc xyz'\n",
    "s"
   ]
  },
  {
   "cell_type": "code",
   "execution_count": 107,
   "id": "f6c48526",
   "metadata": {},
   "outputs": [
    {
     "data": {
      "text/plain": [
       "'abc xyz'"
      ]
     },
     "execution_count": 107,
     "metadata": {},
     "output_type": "execute_result"
    }
   ],
   "source": [
    "s[:]"
   ]
  },
  {
   "cell_type": "code",
   "execution_count": 108,
   "id": "89eb6fa2",
   "metadata": {},
   "outputs": [
    {
     "data": {
      "text/plain": [
       "''"
      ]
     },
     "execution_count": 108,
     "metadata": {},
     "output_type": "execute_result"
    }
   ],
   "source": [
    "s[len(s):]"
   ]
  },
  {
   "cell_type": "code",
   "execution_count": 109,
   "id": "29b100cd",
   "metadata": {},
   "outputs": [
    {
     "data": {
      "text/plain": [
       "''"
      ]
     },
     "execution_count": 109,
     "metadata": {},
     "output_type": "execute_result"
    }
   ],
   "source": [
    "s[1:1]"
   ]
  },
  {
   "cell_type": "code",
   "execution_count": 110,
   "id": "85ce55fb",
   "metadata": {},
   "outputs": [
    {
     "data": {
      "text/plain": [
       "'a'"
      ]
     },
     "execution_count": 110,
     "metadata": {},
     "output_type": "execute_result"
    }
   ],
   "source": [
    "s[0::-1]"
   ]
  },
  {
   "cell_type": "code",
   "execution_count": 111,
   "id": "ce2fcf05",
   "metadata": {},
   "outputs": [
    {
     "data": {
      "text/plain": [
       "''"
      ]
     },
     "execution_count": 111,
     "metadata": {},
     "output_type": "execute_result"
    }
   ],
   "source": [
    "s[0:0:-1]"
   ]
  }
 ],
 "metadata": {
  "kernelspec": {
   "display_name": "Python 3",
   "language": "python",
   "name": "python3"
  },
  "language_info": {
   "codemirror_mode": {
    "name": "ipython",
    "version": 3
   },
   "file_extension": ".py",
   "mimetype": "text/x-python",
   "name": "python",
   "nbconvert_exporter": "python",
   "pygments_lexer": "ipython3",
   "version": "3.8.8"
  }
 },
 "nbformat": 4,
 "nbformat_minor": 5
}
