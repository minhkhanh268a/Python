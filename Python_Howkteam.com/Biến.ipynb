{
 "cells": [
  {
   "cell_type": "markdown",
   "id": "f8e369cc",
   "metadata": {},
   "source": [
    "# Nội Dung:\n",
    "- Biến là gì?\n",
    "- Tại sao lại cần biến\n",
    "- Khởi tạo biến trong Python\n",
    "    - Những thứ cần biết về tên của biến\n",
    "    - Khởi tạo một biến trong Python\n",
    "    - Khởi tạo nhiều biến\n",
    "- Kiểm tra kiểu dữ liệu của biến"
   ]
  },
  {
   "cell_type": "markdown",
   "id": "983bfd83",
   "metadata": {},
   "source": [
    "## Biến là gì?\n",
    "\n",
    "- Trong đại số chúng ta luôn phải chạm mặt các biến như là biến x, biến y biến a, biến b,... Nó không có giá trị cụ thể.\n",
    "- Trong lập trình, biến (variable) là tên của một vùng trong bộ nhớ RAM, được sử dụng để lưu thông tin. Bạn có thể gán thông tin cho một biến, và có thể lấy thông tin đó ra để sử dụng. Khi một biến được khai báo, một vùng trong bộ nhớ sẽ dành cho các biến.\n",
    "- Biến là một thứ cực kì quan trọng trong lập trình và không thể thiếu trong bất cứ chương trình lớn, nhỏ nào."
   ]
  },
  {
   "cell_type": "markdown",
   "id": "ce9a7f4f",
   "metadata": {},
   "source": [
    "## Tại sao lại cần biến?\n",
    "\n",
    "- Biến giúp chúng ta lưu trữ các dữ liệu và cho phép chúng ta lấy các dữ liệu của chúng ta để tính toán được thuận tiện và chính xác hơn.\n",
    "- Hãy tưởng tượng như sau, ta có một số dữ liệu là những con số với nhiều chữ số và các thao tác tính toán."
   ]
  },
  {
   "cell_type": "code",
   "execution_count": 2,
   "id": "86fbc410",
   "metadata": {},
   "outputs": [
    {
     "data": {
      "text/plain": [
       "47289347245123"
      ]
     },
     "execution_count": 2,
     "metadata": {},
     "output_type": "execute_result"
    }
   ],
   "source": [
    "# cộng hai số\n",
    "46545679812674 + 743667432449"
   ]
  },
  {
   "cell_type": "code",
   "execution_count": 3,
   "id": "0aa40279",
   "metadata": {},
   "outputs": [
    {
     "data": {
      "text/plain": [
       "47289845956235"
      ]
     },
     "execution_count": 3,
     "metadata": {},
     "output_type": "execute_result"
    }
   ],
   "source": [
    "# tiếp tục lấy kết quả đó tính toán\n",
    "47289347245123 + 498711112"
   ]
  },
  {
   "cell_type": "markdown",
   "id": "3ebeede2",
   "metadata": {},
   "source": [
    "- Những con số với những chữ số gây khó khăn trong việc sử dụng vì chúng có quá nhiều chữ số, đôi lúc chúng ta cũng có thể vô tình gây sai lệnh giá trị.\n",
    "- Ta hãy giải quyết bài toán trên khi nhờ tới sự giúp đỡ của các biến"
   ]
  },
  {
   "cell_type": "code",
   "execution_count": 13,
   "id": "9ce66746",
   "metadata": {},
   "outputs": [
    {
     "name": "stdout",
     "output_type": "stream",
     "text": [
      "Giá trị của biến a: 7979464226\n",
      "Giá trị của biến b: 3554972497\n",
      "Tổng của a và b: 11534436723\n"
     ]
    }
   ],
   "source": [
    "# lưu giá trị cho biến a\n",
    "a = 7979464226\n",
    "print('Giá trị của biến a:',a)\n",
    "# lưu giá trị cho biến b \n",
    "b = 3554972497\n",
    "print('Giá trị của biến b:',b)\n",
    "# Cộng hai giá trị biến a bà b, sau đó lưu vào biến c\n",
    "c = a + b\n",
    "print('Tổng của a và b:',c)"
   ]
  },
  {
   "cell_type": "code",
   "execution_count": 15,
   "id": "56780766",
   "metadata": {},
   "outputs": [
    {
     "name": "stdout",
     "output_type": "stream",
     "text": [
      "Giá trị của biến d: \n",
      "Tổng của c và d: 11535211222\n"
     ]
    }
   ],
   "source": [
    "# Lưu giá trị cho biến d\n",
    "d = 774499\n",
    "print('Giá trị của biến d: ')\n",
    "# Cộng giá trị biến c với giá trị của biến d\n",
    "print('Tổng của c và d:',c+d)"
   ]
  },
  {
   "cell_type": "markdown",
   "id": "55a4b80b",
   "metadata": {},
   "source": [
    "## Khởi tạo biến trong Python\n",
    "\n",
    "### Những thứ cần biết về tên của biến\n",
    "\n",
    "- Tên của biến không được bắt đầu bằng số\n",
    "- Tên biến không được trùng với các từ khóa của Python\n",
    "Một số từ khóa của Python\n",
    "\n",
    "![](https://f.howkteam.vn/Upload/cke/images/2_IMAGE%20TUTORIAL/3_Python/01_Python%20c%C6%A1%20b%E1%BA%A3n/B05_Bi%E1%BA%BFn%20trong%20Python/1_Bi%E1%BA%BFn%20trong%20Python_Howkteam_com.png)\n",
    "\n",
    "- Tên của biến chỉ chứa chữ cái, số và dấu _\n",
    "- Tên biến trong Python phân biệt chữ in hoa và in thường. Ví dụ PI, Pi, pi, pI là 4 tên biến khác nhau."
   ]
  },
  {
   "cell_type": "markdown",
   "id": "46177c04",
   "metadata": {},
   "source": [
    "## Khởi tạo một biến trong Python\n",
    "\n",
    "### Cú pháp:\n",
    "\n",
    "        <tên biến> = <giá trị của biến>"
   ]
  },
  {
   "cell_type": "code",
   "execution_count": 17,
   "id": "a6806caa",
   "metadata": {},
   "outputs": [
    {
     "name": "stdout",
     "output_type": "stream",
     "text": [
      "tuoi 23\n",
      "ten Nguyễn Minh Khánh\n",
      "PI 3.14\n"
     ]
    }
   ],
   "source": [
    "# Đoạn code sau đây khai báo 3 biến tuoi, ten, PI và giá trị của chúng\n",
    "tuoi = 23\n",
    "ten = 'Nguyễn Minh Khánh' \n",
    "PI = 3.14\n",
    "# xuất giá trị các biến\n",
    "print('tuoi',tuoi)\n",
    "print('ten',ten)\n",
    "print('PI',PI)"
   ]
  },
  {
   "cell_type": "markdown",
   "id": "a868dbbe",
   "metadata": {},
   "source": [
    "## Khởi tạo nhiều biến\n",
    "\n",
    "### Cú pháp\n",
    "\n",
    "        <tên biến thứ nhất>, <tên biến thứ hai>, ...<tên biến thứ n> = <giá trị thứ nhất>, <giá trị thứ hai>, ...<giá trị thứ n>"
   ]
  },
  {
   "cell_type": "code",
   "execution_count": 20,
   "id": "eb16107a",
   "metadata": {},
   "outputs": [],
   "source": [
    "# khai báo 3 biến tuoi, ten, PI và giá trị của chúng ta trên cùng một dòng\n",
    "tuoi, ten, PI = 23, 'Nguyễn Minh Khánh', 3.14"
   ]
  },
  {
   "cell_type": "code",
   "execution_count": 21,
   "id": "3a790b8b",
   "metadata": {},
   "outputs": [
    {
     "data": {
      "text/plain": [
       "23"
      ]
     },
     "execution_count": 21,
     "metadata": {},
     "output_type": "execute_result"
    }
   ],
   "source": [
    "# biến thứ nhất lấy giá trị thứ nhất\n",
    "tuoi"
   ]
  },
  {
   "cell_type": "code",
   "execution_count": 22,
   "id": "0c5b59dc",
   "metadata": {},
   "outputs": [
    {
     "data": {
      "text/plain": [
       "'Nguyễn Minh Khánh'"
      ]
     },
     "execution_count": 22,
     "metadata": {},
     "output_type": "execute_result"
    }
   ],
   "source": [
    "# biến thứ hai lấy giá trị thứ hai\n",
    "ten"
   ]
  },
  {
   "cell_type": "code",
   "execution_count": 24,
   "id": "76692ee4",
   "metadata": {},
   "outputs": [
    {
     "data": {
      "text/plain": [
       "3.14"
      ]
     },
     "execution_count": 24,
     "metadata": {},
     "output_type": "execute_result"
    }
   ],
   "source": [
    "# biến thứ ba lấy giá trị thứ ba\n",
    "PI"
   ]
  },
  {
   "cell_type": "markdown",
   "id": "08eb5529",
   "metadata": {},
   "source": [
    "## Kiểm tra kiểu dữ liệu của biến\n",
    "\n",
    "- Không như đa số các ngôn ngữ lập trình khác. Khi khai báo biến phải đi kèm với kiểu dữ liệu. Trong Python việc khai báo kiểu dữ liệu cho biến không cần thiết mà Python sẽ tự biết kiểu dữ liệu của giá trị gán cho biến.\n",
    "- Vậy để kiểm tra kiểu dữ liệu giá trị của một biến đã khởi tạo, ta sử dụng hàm type().\n",
    "\n",
    "### Cú pháp\n",
    "        type(<tên biến>)"
   ]
  },
  {
   "cell_type": "code",
   "execution_count": 26,
   "id": "50e64ef1",
   "metadata": {},
   "outputs": [],
   "source": [
    "tuoi = 23\n",
    "ten = \"Nguyễn Minh Khánh\"\n",
    "PI = 3.14"
   ]
  },
  {
   "cell_type": "code",
   "execution_count": 27,
   "id": "38ad663c",
   "metadata": {},
   "outputs": [
    {
     "data": {
      "text/plain": [
       "int"
      ]
     },
     "execution_count": 27,
     "metadata": {},
     "output_type": "execute_result"
    }
   ],
   "source": [
    "# kiểu dữ liệu\n",
    "type(tuoi)"
   ]
  },
  {
   "cell_type": "code",
   "execution_count": 28,
   "id": "6f475ba3",
   "metadata": {},
   "outputs": [
    {
     "data": {
      "text/plain": [
       "str"
      ]
     },
     "execution_count": 28,
     "metadata": {},
     "output_type": "execute_result"
    }
   ],
   "source": [
    "type(ten)"
   ]
  },
  {
   "cell_type": "code",
   "execution_count": 29,
   "id": "cce53461",
   "metadata": {},
   "outputs": [
    {
     "data": {
      "text/plain": [
       "float"
      ]
     },
     "execution_count": 29,
     "metadata": {},
     "output_type": "execute_result"
    }
   ],
   "source": [
    "type(PI)"
   ]
  }
 ],
 "metadata": {
  "kernelspec": {
   "display_name": "Python 3",
   "language": "python",
   "name": "python3"
  },
  "language_info": {
   "codemirror_mode": {
    "name": "ipython",
    "version": 3
   },
   "file_extension": ".py",
   "mimetype": "text/x-python",
   "name": "python",
   "nbconvert_exporter": "python",
   "pygments_lexer": "ipython3",
   "version": "3.8.8"
  }
 },
 "nbformat": 4,
 "nbformat_minor": 5
}
