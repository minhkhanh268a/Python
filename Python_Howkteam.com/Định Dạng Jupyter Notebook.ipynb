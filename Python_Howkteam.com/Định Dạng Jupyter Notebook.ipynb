{
 "cells": [
  {
   "cell_type": "markdown",
   "id": "5cb61272",
   "metadata": {},
   "source": [
    "# Hướng dẫn sử dụng Jupyter cơ bản\n",
    "Trong phần này chúng ta sẽ tập trung tìm hiểu các tính năng, thành phần giao diện trong Jupyter Notebook là môi trường chính chúng ta sẽ thực hành viết code Python. Nhắc lại chút Python Notebook chính là các tài liệu đa thành phần có cả code và các thành phần text, media phức tạp... các tài liệu này có thể được chia sẻ và người khác đưa vào Jupyter và có thể chạy được code trên đó và hiểu những gì tác giả muốn truyền đạt qua các đoạn văn bản."
   ]
  },
  {
   "cell_type": "markdown",
   "id": "d6b3e9e0",
   "metadata": {},
   "source": [
    "## 1. Tạo Notebook\n",
    "Trong giao diện trang chủ, để tạo một tài liệu Notebook mới click vào New và chọn loại tài liệu như Python, Text file, Folder...\n",
    "\n",
    "![](https://allaravel.com/storage/app/media/uploads/2019/07/tao-notebook-moi.png)\n",
    "\n",
    "Ở đây, chúng ta sẽ tạo ra một tài liệu thực hiện Python và thêm vào các đoạn giới thiệu, hướng dẫn nên sẽ chọn mục Python 3. Giao diện của trang Jupyter chạy ở môi trường máy tính cục bộ sẽ như sau:\n",
    "\n",
    "![](https://allaravel.com/storage/app/media/uploads/2019/07/giao-dien-tai-lieu-moi-trong-jupyter-notebook.png)\n",
    "\n",
    "Trong giao diện này có các thành phần như sau:\n",
    "- Phần 1: Tiêu đề tài liệu, mặc định chưa nhập tiêu đề là Untitled. Khi nhấp chuột vào phần này, một cửa sổ sẽ hiện ra để bạn nhập tên file.\n",
    "\n",
    "![](https://allaravel.com/storage/app/media/uploads/2019/07/doi-ten-file-trong-jupyter-notebook.png)\n",
    "\n",
    "- Phần 2: Thanh menu bao gồm các menu như:\n",
    "    - File: các menu thao tác với file như tạo mới, lưu trữ, save as...\n",
    "    - Edit: các menu thao tác với nội dung file như copy, paste văn bản, cell, tìm kiếm và thay thế một nội dung trong file, chèn hình ảnh...\n",
    "    - View: menu điều chỉnh giao diện, hiển thị hoặc ẩn các thành phần giao diện trong Jupyter Notebook.\n",
    "    - Insert, Cell: các hành động liên quan đến Cell là thành phần cơ bản của một tài liệu.\n",
    "    - Kernel: các thao tác với kernel hiện hành như thay đổi nếu muốn sử dụng ngôn ngữ khác, restart, shutdown\n",
    "    - Một số các menu khác.\n",
    "- Phần 3: Thanh menu nhanh (shortcut menu) bao gồm các thao tác nhanh mà bạn thường làm với một tài liệu, có một số nút trên đó chúng ta hay dùng nhất như:\n",
    "    - Save file\n",
    "    - Copy, paste\n",
    "    - Thay đổi thứ tự các cell trong tài liệu\n",
    "    - Chạy code trong tài liệu\n",
    "    - Lựa chọn loại văn bản trong cell:\n",
    "    - Code: Cell này chứa mã Python và có thể thực hiện được.\n",
    "    - Markdown: Cell này chứa văn bản diễn giải.\n",
    "- Phần 4: Nội dung tài liệu chứa các cell có nội dung là code hoặc markdown, đây là vùng chúng ta sẽ làm việc chính.\n",
    "\n",
    "![](https://allaravel.com/storage/app/media/uploads/2019/07/cac-thanh-phan-giao-dien.png)\n",
    "\n",
    "Chúng ta sẽ thực hiện một ví dụ đầu tiên, Hello world để xem Jupyter Notebook này hoạt động thế nào? Vào Cell đầu tiên và đưa vào dòng code Python như sau:"
   ]
  },
  {
   "cell_type": "code",
   "execution_count": 1,
   "id": "16e27d5a",
   "metadata": {},
   "outputs": [
    {
     "name": "stdout",
     "output_type": "stream",
     "text": [
      "Hello world!\n"
     ]
    }
   ],
   "source": [
    "print('Hello world!')"
   ]
  },
  {
   "cell_type": "markdown",
   "id": "1f85ca02",
   "metadata": {},
   "source": [
    "Tiếp đó bạn bấm vào nút Run trong menu nhanh hoặc tổ hợp phím tắt Ctrl + Enter, kết quả sẽ xuất hiện tiếp theo ở ngay dưới cell đó.\n",
    "\n",
    "![](https://allaravel.com/storage/app/media/uploads/2019/07/vi-du-dau-tien-su-dung-jupyter.png)\n",
    "\n",
    "Trong ví dụ trên chúng ta có 3 cell:\n",
    "    - Cell đầu tiên là dạng Markdown, chúng ta có thể đưa vào nội dung là văn bản, file hình ảnh, bảng biểu, danh sách...\n",
    "    - Cell thứ hai nội dung là code Python print(\"Hello world!\") và khi bạn bấm và Run hoặc tổ hợp phím Ctrl + Enter thì kết quả của dòng code hiển thị ngay ở bên dưới.\n",
    "    - Sau khi thực hiện một cell thì Jupyter Notebook tự động chèn thêm một cell mới chưa có nội dung gì ở ngay dưới."
   ]
  },
  {
   "cell_type": "markdown",
   "id": "6902e8a2",
   "metadata": {},
   "source": [
    "## 2. Thêm nội dung vào Jupyter Notebook\n",
    "Như trong ví dụ Hello world ở trên chúng ta đã thêm vào một nội dung để diễn giải thêm cho đoạn code print(\"Hello world\"). Nội dung này có thể là một đoạn văn bản bao gồm các tiêu đề, đoạn văn bản, hình ảnh, danh sách...\n",
    "\n",
    "Để thêm nội dung văn bản vào Jupyter chúng ta phải lựa chọn dạng của cell là Markdown. Jupyter Notebook cho phép sử dụng Markdown là một ngôn ngữ đánh dấu, nó là tập hợp các ký hiệu tương ứng với một số thẻ trong ngôn ngữ HTML."
   ]
  },
  {
   "cell_type": "markdown",
   "id": "623a18f8",
   "metadata": {},
   "source": [
    "## 3. Sử dụng Markdown\n",
    "### 3.1 Tiêu đề\n",
    "\n",
    "Tiêu đề trong ngôn ngữ Markdown tương ứng với các thẻ H1, H2 ... H6 trong HTML, trong markdown sử dụng ký tự #, H1 tương ứng với #, H2 tương ứng với ##, ...\n",
    "\n",
    "![](https://allaravel.com/storage/app/media/uploads/2019/07/tieu-de-trong-markdown.png)\n",
    "\n",
    "Sau khi đánh xong văn bản trong Cell, bấm nút Run hoặc tổ hợp phím tắt Ctrl + Enter, văn bản sau định dạng mới hiện ra.\n",
    "\n",
    "![](https://allaravel.com/storage/app/media/uploads/2019/07/ket-qua-sau-khi-chay-header.png)\n",
    "\n"
   ]
  },
  {
   "cell_type": "markdown",
   "id": "2a736148",
   "metadata": {},
   "source": [
    "### 3.2 Định dạng văn bản \n",
    "Chúng ta có thể định dạng văn bản với ngôn ngữ Markdown, danh sách các định dạng này như sau:\n",
    "\n",
    "   - Sử dụng dấu * để bắt đầu và kết thúc một đoạn bạn muốn in nghiêng.\n",
    "   - Sử dụng dấu ** để bắt đầu và kết thúc một đoạn bạn muốn bôi đậm, tương ứng với thẻ b trong HTML.\n",
    "   - Sử dụng _ để bắt đầu và kết thúc một đoạn bạn muốn gạch chân, tương ứng với thẻ u trong HTML.\n",
    "\n",
    "![](https://allaravel.com/storage/app/media/uploads/2019/07/dinh-dang-van-ban.png)\n",
    "\n",
    "Kết quả bạn sẽ thấy khi chạy là văn bản đã được định dạng như mong muốn với thẻ HTML.\n",
    "\n",
    "![](https://allaravel.com/storage/app/media/uploads/2019/07/dinh-dang-van-ban-sau-khi-thuc-hien.png)"
   ]
  },
  {
   "cell_type": "markdown",
   "id": "273f14fe",
   "metadata": {},
   "source": [
    "### 3.3 Danh sách\n",
    "Trong văn bản chúng ta có thể thêm vào các danh sách giống như thẻ ol, ul trong HTML. Với danh sách có thứ tự ol trong Markdown chúng ta chỉ cần đánh số đằng trước danh sách. Còn với danh sách không thứ tự chúng ta chỉ cần để đằng trước dấu * hoặc dấu + hoặc dấu -.\n",
    "\n",
    "![](https://allaravel.com/storage/app/media/uploads/2019/07/danh-sach-trong-markdown.png)\n",
    "\n",
    "Kết quả nhận được khi bạn thực thi cell này.\n",
    "![](https://allaravel.com/storage/app/media/uploads/2019/07/ket-qua-dinh-dang-danh-sach-trong-markdown.png)"
   ]
  },
  {
   "cell_type": "markdown",
   "id": "9ca4b5bc",
   "metadata": {},
   "source": [
    "### 3.4 Syntax Highlight\n",
    "Trong các tài liệu, đôi khi chúng ta muốn đưa những đoạn code vào để diễn giải. Markdown cho phép đưa code vào một cách đơn giản bằng cách cho bắt đầu và kết thúc với ký tự ```.\n",
    "\n",
    "![](https://allaravel.com/storage/app/media/uploads/2019/07/vi-du-ve-syntax-hightlight-trong-markdown.png)\n",
    "\n",
    "Kết quả khi thực hiện cell\n",
    "\n",
    "![](https://allaravel.com/storage/app/media/uploads/2019/07/ket-qua-syntax-highlight.png)"
   ]
  },
  {
   "cell_type": "markdown",
   "id": "b2ddd7de",
   "metadata": {},
   "source": [
    "### 3.5 Các thành phần khác trong Markdown\n",
    "\n",
    "Ngoài các thành phần trên, chúng ta cũng hay dùng các thành phần văn bản khác như ảnh, đường dẫn... tương ứng với các thẻ img, a trong HTML.\n",
    "\n",
    "![](https://allaravel.com/storage/app/media/uploads/2019/07/cac-thanh-phan-khac-trong-markdown.png)\n",
    "\n",
    "Kết quả của đoạn văn bản trên như sau:\n",
    "\n",
    "![](https://allaravel.com/storage/app/media/uploads/2019/07/ket-qua-cac-thanh-phan-khac-trong-markdown.png)\n",
    "\n",
    "Bạn thấy đấy, Jupyter Notebook cho phép bạn đưa vào rất nhiều các nội dung cùng với code Python cần thực thi, giúp cho tài liệu trở lên rất sống động. Còn một số các thành phần khác nữa trong Markdown nhưng do khuôn khổ bài viết, tôi chỉ giới thiệu đến bạn đọc những thành phần hay dùng nhất. Bạn có thể tham khảo danh Cú pháp Markdown nguyên gốc từ tác giả của hệ thống này."
   ]
  },
  {
   "cell_type": "markdown",
   "id": "d83c2ffd",
   "metadata": {},
   "source": [
    "## Export và Import Jupyter Notebook\n",
    "Khi bạn làm việc với Jupyter Notebook bạn có thể hoàn thành và muốn chia sẻ những gì mình làm với mọi người, bạn có thể export tài liệu này ra rất nhiều các dạng khác nhau như:\n",
    "\n",
    "   - HTML\n",
    "   - LaTeX\n",
    "   - PDF\n",
    "   - Notebook (.ipynb)\n",
    "   - Markdown\n",
    "\n",
    "Trong các dạng trên, chúng ta sẽ hay chia sẻ với nhau dạng file Notebook .ipynb, các file này có thể import lại vào Jupyter Notebook và thực hiện. Để export ra file sử dụng menu File -> Download as -> Notebook(.ipynb).\n",
    "\n",
    "Khi bạn có một file Notebook (.ipynb) bạn muốn import vào hệ thống, bạn sử dụng nút Upload ở trang chủ Jupyter Notebook và trỏ đến file cần import. Khi đó file Jupyter Notebook sẽ xuất hiện trong danh sách trang chủ và chỉ cần nhấp vào là một tab mới xuất hiện với nội dung tài liệu này."
   ]
  },
  {
   "cell_type": "markdown",
   "id": "58839180",
   "metadata": {},
   "source": [
    "## Kết luận\n",
    "\n",
    "Qua bài viết bạn đã nắm được Jupyter là công cụ gì? và tại sao mọi người đang sử dụng nó rất nhiều khi học tập, làm việc với Python. Ngoài ra bạn cũng biết cách cài đặt Jupyter qua công cụ Anaconda, đây là một bộ các phần mềm mà chúng ta sẽ sử dụng rất nhiều khi nghiên cứu về khoa học dữ liệu, trí tuệ nhân tạo, machine learning... Bài viết này là khởi đầu của Khóa học Python trên All Laravel, rất mong nhận được sự đóng góp ý kiến từ các bạn."
   ]
  }
 ],
 "metadata": {
  "kernelspec": {
   "display_name": "Python 3",
   "language": "python",
   "name": "python3"
  },
  "language_info": {
   "codemirror_mode": {
    "name": "ipython",
    "version": 3
   },
   "file_extension": ".py",
   "mimetype": "text/x-python",
   "name": "python",
   "nbconvert_exporter": "python",
   "pygments_lexer": "ipython3",
   "version": "3.8.8"
  }
 },
 "nbformat": 4,
 "nbformat_minor": 5
}
