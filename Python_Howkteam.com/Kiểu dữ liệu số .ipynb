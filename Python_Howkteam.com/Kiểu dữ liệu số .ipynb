{
 "cells": [
  {
   "cell_type": "markdown",
   "id": "6137ad14",
   "metadata": {},
   "source": [
    "# Nội Dung:\n",
    "- Số là gì?\n",
    "- Một số kiểu dữ liệu số cơ bản trong Python\n",
    "    - 1. Số nguyên\n",
    "    - 2. Số thực\n",
    "    - 3. Phân số\n",
    "    - 4. Số phức\n",
    "- Các toán tử cơ bản với kiểu dữ liệu số trong Python\n",
    "- Thư viện math trong Python"
   ]
  },
  {
   "cell_type": "markdown",
   "id": "b170fe76",
   "metadata": {},
   "source": [
    "## Số là gì?\n",
    "\n",
    "- Con số ở kháp nơi trong cuộc sống chúng ta. Bất cứ lúc nào chúng ta cũng có thể bắt gặp con số trong cuộc sống.\n",
    "- Trong Python cũng hỗ trợ rất nhiều kiểu dữ liệu số. Một số kiểu dữ liệu cơ bả như số nguyên (integers), số thực (float), phân số (fraction), số phức (complex).\n",
    "\n",
    "## Một số kiểu dữ liệu số cơ bản trong Python\n",
    "### 1. Số nguyên:\n",
    "\n",
    "- Số nguyên bao gồm các số nguyên dương (1,2,3,...) và các số âm (-1,-2,-3,...) và con số 0.\n"
   ]
  },
  {
   "cell_type": "code",
   "execution_count": 2,
   "id": "89250a6d",
   "metadata": {},
   "outputs": [
    {
     "data": {
      "text/plain": [
       "4"
      ]
     },
     "execution_count": 2,
     "metadata": {},
     "output_type": "execute_result"
    }
   ],
   "source": [
    "# gán giá trị của biến a là 4\n",
    "a = 4\n",
    "a"
   ]
  },
  {
   "cell_type": "code",
   "execution_count": 4,
   "id": "c6f4b025",
   "metadata": {},
   "outputs": [
    {
     "name": "stdout",
     "output_type": "stream",
     "text": [
      "<class 'int'>\n"
     ]
    }
   ],
   "source": [
    "# kiểu số nguyên\n",
    "print(type(a))"
   ]
  },
  {
   "cell_type": "code",
   "execution_count": 6,
   "id": "6cfb5874",
   "metadata": {},
   "outputs": [
    {
     "name": "stdout",
     "output_type": "stream",
     "text": [
      "b có giá trị: 1239472903487 thuộc kiểu dữ liệu: <class 'int'>\n"
     ]
    }
   ],
   "source": [
    "b = 1239472903487\n",
    "type(b)\n",
    "print('b có giá trị:',b,'thuộc kiểu dữ liệu:',type(b))"
   ]
  },
  {
   "cell_type": "markdown",
   "id": "997d9ff9",
   "metadata": {},
   "source": [
    "### 2. Số thực\n",
    "\n",
    "- Về kiểu dữ liệu số thực, thì đây là tập hợp các số nguyên và số thập phân 1.14, -123,6969... "
   ]
  },
  {
   "cell_type": "code",
   "execution_count": 7,
   "id": "cbf1657a",
   "metadata": {},
   "outputs": [
    {
     "data": {
      "text/plain": [
       "1.23"
      ]
     },
     "execution_count": 7,
     "metadata": {},
     "output_type": "execute_result"
    }
   ],
   "source": [
    "# gán giá trị của biến f là số 1.23, là một số thực\n",
    "f = 1.23\n",
    "f"
   ]
  },
  {
   "cell_type": "code",
   "execution_count": 8,
   "id": "6d25fb6b",
   "metadata": {},
   "outputs": [
    {
     "name": "stdout",
     "output_type": "stream",
     "text": [
      "<class 'float'>\n"
     ]
    }
   ],
   "source": [
    "# kiểu dữ liệu f\n",
    "print(type(f))"
   ]
  },
  {
   "cell_type": "code",
   "execution_count": 10,
   "id": "69214cb2",
   "metadata": {},
   "outputs": [
    {
     "data": {
      "text/plain": [
       "1.0"
      ]
     },
     "execution_count": 10,
     "metadata": {},
     "output_type": "execute_result"
    }
   ],
   "source": [
    "# đây là một số thực, không phải số nguyên\n",
    "q = 1.0\n",
    "q "
   ]
  },
  {
   "cell_type": "code",
   "execution_count": 11,
   "id": "e9e24b63",
   "metadata": {},
   "outputs": [
    {
     "name": "stdout",
     "output_type": "stream",
     "text": [
      "<class 'float'>\n"
     ]
    }
   ],
   "source": [
    "# kiểu dữ liệu q\n",
    "print(type(q))"
   ]
  },
  {
   "cell_type": "markdown",
   "id": "303fc8f8",
   "metadata": {},
   "source": [
    "###### Lưu ý: Thường khi chúng ta viết số thực, phần nguyên và phần thập phân được tách nhau bởi dấu (,). Thế nhưng trong Python, dấu (,) này được thay thế thành dấu chấm(.)"
   ]
  },
  {
   "cell_type": "markdown",
   "id": "8a94aaf1",
   "metadata": {},
   "source": [
    "Số thực trong Python có độ chính xác xấp xỉ 15 chữ số thập phân."
   ]
  },
  {
   "cell_type": "code",
   "execution_count": 12,
   "id": "6e6ee171",
   "metadata": {},
   "outputs": [
    {
     "data": {
      "text/plain": [
       "3.3333333333333335"
      ]
     },
     "execution_count": 12,
     "metadata": {},
     "output_type": "execute_result"
    }
   ],
   "source": [
    "# đây là một số vô hạn tuần hoàn 3.3333333333333...\n",
    "10/3"
   ]
  },
  {
   "cell_type": "markdown",
   "id": "ca9efd54",
   "metadata": {},
   "source": [
    "Nếu muốn có kết quả được chính xác cao hơn thì sử dụng Decimal"
   ]
  },
  {
   "cell_type": "code",
   "execution_count": 19,
   "id": "eb2aac94",
   "metadata": {},
   "outputs": [
    {
     "data": {
      "text/plain": [
       "Decimal('3.33333333333333333333333333333')"
      ]
     },
     "execution_count": 19,
     "metadata": {},
     "output_type": "execute_result"
    }
   ],
   "source": [
    "# lấy toàn bộ nội dung của thư viện Decimal\n",
    "from decimal import *\n",
    "# lấy tối đa 30 chữ số phần nguyên và phần thập phân Decimal\n",
    "getcontext() .prec = 30\n",
    "Decimal(10) / Decimal(3)"
   ]
  },
  {
   "cell_type": "code",
   "execution_count": 14,
   "id": "98105c8e",
   "metadata": {},
   "outputs": [
    {
     "data": {
      "text/plain": [
       "Decimal('33.33333333333333333333333333')"
      ]
     },
     "execution_count": 14,
     "metadata": {},
     "output_type": "execute_result"
    }
   ],
   "source": [
    "Decimal(100) / Decimal(3)"
   ]
  },
  {
   "cell_type": "code",
   "execution_count": 16,
   "id": "631cb680",
   "metadata": {},
   "outputs": [
    {
     "name": "stdout",
     "output_type": "stream",
     "text": [
      "<class 'decimal.Decimal'>\n"
     ]
    }
   ],
   "source": [
    "# các số Decimal thuộc lớp Decimal\n",
    "print(type(Decimal(5)))"
   ]
  },
  {
   "cell_type": "code",
   "execution_count": 20,
   "id": "c06a4ab9",
   "metadata": {},
   "outputs": [
    {
     "data": {
      "text/plain": [
       "Decimal('3.333333333333333333333333333')"
      ]
     },
     "execution_count": 20,
     "metadata": {},
     "output_type": "execute_result"
    }
   ],
   "source": [
    "# Decimal / số\n",
    "Decimal(10) / 3"
   ]
  },
  {
   "cell_type": "code",
   "execution_count": 21,
   "id": "b7b905a2",
   "metadata": {},
   "outputs": [
    {
     "data": {
      "text/plain": [
       "Decimal('3.333333333333333333333333333')"
      ]
     },
     "execution_count": 21,
     "metadata": {},
     "output_type": "execute_result"
    }
   ],
   "source": [
    "# số / Decimal\n",
    "10 / Decimal(3)"
   ]
  },
  {
   "cell_type": "markdown",
   "id": "1c86a4f2",
   "metadata": {},
   "source": [
    "- Chỉ cần 1 biểu thức là Decimal thì biểu thức còn lại cũng là Decimal\n",
    "- Mặc định Decimal sẽ lấy tối đa 28 chữ số phần nguyên và thập phân"
   ]
  },
  {
   "cell_type": "markdown",
   "id": "6bbe3e0d",
   "metadata": {},
   "source": [
    "Tuy Decimal có độ chính xác cao hơn so với float tuy nhiên nó lại khá rườm ra so với float. Do đó, hãy cân bằng sự tiện lợi và chính xác để chọn kiểu dữ liệu phù hợp."
   ]
  },
  {
   "cell_type": "markdown",
   "id": "1dcfcc5f",
   "metadata": {},
   "source": [
    "### 3. Phân Số \n",
    "\n",
    "- Phân số gồm hai phần là tử số và mẫu số.\n",
    "\n",
    "- Tạo một phân số\n",
    "\n",
    "    - Để tạo một phân số trong Python, ta sử dụng hàm Fraction với cú pháp:\n",
    "            Fraction<Fraction>(<Tử_Số>,<Mẫu_Số>)"
   ]
  },
  {
   "cell_type": "code",
   "execution_count": 40,
   "id": "61d45a4b",
   "metadata": {},
   "outputs": [
    {
     "data": {
      "text/plain": [
       "Fraction(1, 4)"
      ]
     },
     "execution_count": 40,
     "metadata": {},
     "output_type": "execute_result"
    }
   ],
   "source": [
    "# lấy toàn bộ nội dung của thư biện fraction\n",
    "from fractions import *\n",
    "# phân số với tử số là 1, mẫu số là 4\n",
    "Fraction(1, 4)"
   ]
  },
  {
   "cell_type": "code",
   "execution_count": 41,
   "id": "b607ee7a",
   "metadata": {},
   "outputs": [
    {
     "data": {
      "text/plain": [
       "Fraction(2, 3)"
      ]
     },
     "execution_count": 41,
     "metadata": {},
     "output_type": "execute_result"
    }
   ],
   "source": [
    "# phân số được tối giản nếu có thể\n",
    "Fraction(6,9)"
   ]
  },
  {
   "cell_type": "code",
   "execution_count": 42,
   "id": "2deb0125",
   "metadata": {},
   "outputs": [
    {
     "data": {
      "text/plain": [
       "fractions.Fraction"
      ]
     },
     "execution_count": 42,
     "metadata": {},
     "output_type": "execute_result"
    }
   ],
   "source": [
    "# các phân số thuộc lớp Fraction\n",
    "type(Fraction(2,3))"
   ]
  },
  {
   "cell_type": "code",
   "execution_count": 43,
   "id": "7146f7a0",
   "metadata": {},
   "outputs": [
    {
     "name": "stdout",
     "output_type": "stream",
     "text": [
      "15/16\n"
     ]
    }
   ],
   "source": [
    "print(Fraction(15,16))"
   ]
  },
  {
   "cell_type": "markdown",
   "id": "9b48b6f7",
   "metadata": {},
   "source": [
    "### 4. Số phức\n",
    "\n",
    "- Số phức gồm 2 thành phần:\n",
    "        <Phần thực>+<Phần ảo>j\n",
    "- Trong đó: \n",
    "        - <Phần thực>,<Phần ảo> là số thực\n",
    "        - j là đơn vị ảo trong toán học với j^2 = -1"
   ]
  },
  {
   "cell_type": "markdown",
   "id": "a2771f8f",
   "metadata": {},
   "source": [
    "### Tạo một số phức\n",
    "\n",
    "- Để tạo một số phức, ta có thể sử dụng hàm complex với cú pháp:\n",
    "    complex(<Phần_thực>,<Phần_ảo>)\n",
    "- Gán giá trị số phức cho một biến\n",
    "    <tên_biến> = <Phần_thực>+<Phần_ảo>j\n",
    "- Xuất ra từng phần của một biến số phức\n",
    "    - Để xuất ra phần thực, ta sử dụng cú pháp:\n",
    "        <tên_biến>.real\n",
    "    - Để xuất ra phần ảo của biến số phức, ta dùng cú pháp:\n",
    "        <tên_biến>.imag"
   ]
  },
  {
   "cell_type": "markdown",
   "id": "a5045f6f",
   "metadata": {},
   "source": [
    "Ví dụ: Nhập một số phức sau\n",
    "\n",
    "    a. 1 + 3j\n",
    "    b. Gán biến c có giá trị 2 + 1j. Xuất ra phần thực và phần ảo của biến c.\n",
    "    c. 4 + j (sẽ có lỗi vì kiểu dữ liệu nhập vào không đúng).\n",
    "    d. Tạo số phức có phần thực là 3, phần ảo là 1.\n",
    "    e. Tạo số phức chỉ có phần thực là 2.\n",
    "    f. Xuất ra kiểu dữ liệu số 3 + 1j."
   ]
  },
  {
   "cell_type": "markdown",
   "id": "56152ec9",
   "metadata": {},
   "source": [
    "    Câu a:  1+ 3j\n",
    "        - Phần thực 1\n",
    "        - Phần ảo 3"
   ]
  },
  {
   "cell_type": "code",
   "execution_count": 44,
   "id": "d739d64e",
   "metadata": {},
   "outputs": [
    {
     "data": {
      "text/plain": [
       "(1+3j)"
      ]
     },
     "execution_count": 44,
     "metadata": {},
     "output_type": "execute_result"
    }
   ],
   "source": [
    "3j + 1"
   ]
  },
  {
   "cell_type": "code",
   "execution_count": 45,
   "id": "e14ba9f9",
   "metadata": {},
   "outputs": [
    {
     "data": {
      "text/plain": [
       "(1+3j)"
      ]
     },
     "execution_count": 45,
     "metadata": {},
     "output_type": "execute_result"
    }
   ],
   "source": [
    "# sử dụng hàm complex: complex(<phần_thực,Phần_ảo>)\n",
    "complex(1,3)"
   ]
  },
  {
   "cell_type": "markdown",
   "id": "0b79222b",
   "metadata": {},
   "source": [
    "    Câu b: c = 2 + 1j\n",
    "   \n",
    "        - phần thực 2\n",
    "        - phần ảo 1"
   ]
  },
  {
   "cell_type": "code",
   "execution_count": 58,
   "id": "e5506b61",
   "metadata": {},
   "outputs": [
    {
     "data": {
      "text/plain": [
       "(2+1j)"
      ]
     },
     "execution_count": 58,
     "metadata": {},
     "output_type": "execute_result"
    }
   ],
   "source": [
    "c = 2 + 1j\n",
    "c"
   ]
  },
  {
   "cell_type": "code",
   "execution_count": 48,
   "id": "2f09aed9",
   "metadata": {},
   "outputs": [
    {
     "data": {
      "text/plain": [
       "(2+1j)"
      ]
     },
     "execution_count": 48,
     "metadata": {},
     "output_type": "execute_result"
    }
   ],
   "source": [
    "# sử dụng hàm complex: complex(<phần_thực,Phần_ảo>)\n",
    "complex(2,1)"
   ]
  },
  {
   "cell_type": "code",
   "execution_count": 60,
   "id": "33261683",
   "metadata": {},
   "outputs": [
    {
     "data": {
      "text/plain": [
       "2.0"
      ]
     },
     "execution_count": 60,
     "metadata": {},
     "output_type": "execute_result"
    }
   ],
   "source": [
    "# xuất phần thực\n",
    "# <tên_biến>.real\n",
    "c.real"
   ]
  },
  {
   "cell_type": "code",
   "execution_count": 61,
   "id": "76ab0e8b",
   "metadata": {},
   "outputs": [
    {
     "data": {
      "text/plain": [
       "1.0"
      ]
     },
     "execution_count": 61,
     "metadata": {},
     "output_type": "execute_result"
    }
   ],
   "source": [
    "# xuất phần ảo\n",
    "# <tên_biến>.imag\n",
    "c.imag"
   ]
  },
  {
   "cell_type": "markdown",
   "id": "07345742",
   "metadata": {},
   "source": [
    "    Câu c: 4 + j\n",
    "        \n",
    "        - phần ảo là 1 tuy vậy chúng ta không được phép bỏ số 1 như trong toán"
   ]
  },
  {
   "cell_type": "code",
   "execution_count": 52,
   "id": "e44005a0",
   "metadata": {},
   "outputs": [
    {
     "ename": "NameError",
     "evalue": "name 'j' is not defined",
     "output_type": "error",
     "traceback": [
      "\u001b[1;31m---------------------------------------------------------------------------\u001b[0m",
      "\u001b[1;31mNameError\u001b[0m                                 Traceback (most recent call last)",
      "\u001b[1;32m<ipython-input-52-f0262f67781c>\u001b[0m in \u001b[0;36m<module>\u001b[1;34m\u001b[0m\n\u001b[1;32m----> 1\u001b[1;33m \u001b[1;36m4\u001b[0m \u001b[1;33m+\u001b[0m\u001b[0mj\u001b[0m\u001b[1;33m\u001b[0m\u001b[1;33m\u001b[0m\u001b[0m\n\u001b[0m",
      "\u001b[1;31mNameError\u001b[0m: name 'j' is not defined"
     ]
    }
   ],
   "source": [
    "4 +j"
   ]
  },
  {
   "cell_type": "markdown",
   "id": "cb680bb9",
   "metadata": {},
   "source": [
    "    Câu d: Tạo một số phức\n",
    "    \n",
    "        - phần thực 3\n",
    "        - phần ảo 1"
   ]
  },
  {
   "cell_type": "code",
   "execution_count": 63,
   "id": "f06c6e63",
   "metadata": {},
   "outputs": [
    {
     "data": {
      "text/plain": [
       "(3+1j)"
      ]
     },
     "execution_count": 63,
     "metadata": {},
     "output_type": "execute_result"
    }
   ],
   "source": [
    "d = 3 + 1j\n",
    "d"
   ]
  },
  {
   "cell_type": "code",
   "execution_count": 54,
   "id": "763f090c",
   "metadata": {},
   "outputs": [
    {
     "data": {
      "text/plain": [
       "(3+1j)"
      ]
     },
     "execution_count": 54,
     "metadata": {},
     "output_type": "execute_result"
    }
   ],
   "source": [
    "# sử dụng hàm complex: complex(<phần_thực,Phần_ảo>)\n",
    "complex(3,1)"
   ]
  },
  {
   "cell_type": "code",
   "execution_count": 64,
   "id": "a24d24e2",
   "metadata": {},
   "outputs": [
    {
     "data": {
      "text/plain": [
       "3.0"
      ]
     },
     "execution_count": 64,
     "metadata": {},
     "output_type": "execute_result"
    }
   ],
   "source": [
    "# phần thực\n",
    "# <tên_biến>.real\n",
    "d.real"
   ]
  },
  {
   "cell_type": "code",
   "execution_count": 65,
   "id": "0031c1b5",
   "metadata": {},
   "outputs": [
    {
     "data": {
      "text/plain": [
       "1.0"
      ]
     },
     "execution_count": 65,
     "metadata": {},
     "output_type": "execute_result"
    }
   ],
   "source": [
    "# phần ảo\n",
    "# <tên_biến>.imag\n",
    "d.imag"
   ]
  },
  {
   "cell_type": "markdown",
   "id": "59836e52",
   "metadata": {},
   "source": [
    "    Câu e: Tạo một số phức\n",
    "    \n",
    "        - chỉ có phần thực là 2"
   ]
  },
  {
   "cell_type": "code",
   "execution_count": 55,
   "id": "4e569af2",
   "metadata": {},
   "outputs": [
    {
     "data": {
      "text/plain": [
       "(2+0j)"
      ]
     },
     "execution_count": 55,
     "metadata": {},
     "output_type": "execute_result"
    }
   ],
   "source": [
    "2 + 0j"
   ]
  },
  {
   "cell_type": "code",
   "execution_count": 67,
   "id": "d7a35a2e",
   "metadata": {},
   "outputs": [
    {
     "data": {
      "text/plain": [
       "(2+0j)"
      ]
     },
     "execution_count": 67,
     "metadata": {},
     "output_type": "execute_result"
    }
   ],
   "source": [
    "# chỉ có phần thực, phần ảo được mặc định là 0\n",
    "complex(2)"
   ]
  },
  {
   "cell_type": "markdown",
   "id": "cc29a222",
   "metadata": {},
   "source": [
    "    Câu f: Xuất ra kiểu dữ liệu \n",
    "    \n",
    "        - 3 + 1j"
   ]
  },
  {
   "cell_type": "code",
   "execution_count": 68,
   "id": "214b1352",
   "metadata": {},
   "outputs": [
    {
     "data": {
      "text/plain": [
       "complex"
      ]
     },
     "execution_count": 68,
     "metadata": {},
     "output_type": "execute_result"
    }
   ],
   "source": [
    "# các số phức thuộc lớp complex\n",
    "type(3 + 1j)"
   ]
  },
  {
   "cell_type": "code",
   "execution_count": 69,
   "id": "9f5453f6",
   "metadata": {},
   "outputs": [
    {
     "name": "stdout",
     "output_type": "stream",
     "text": [
      "<class 'type'>\n"
     ]
    }
   ],
   "source": [
    "print(type(complex))"
   ]
  },
  {
   "cell_type": "markdown",
   "id": "630665a0",
   "metadata": {},
   "source": [
    "## Các toán tử cơ bản với kiểu số trong Python\n",
    "\n",
    "    - Biểu thức chính là một thực thể toán học. Nói cách khác, no là một sự kết hợp giữa 2 thành phần:\n",
    "         - Toán hạng: có thể là một hằng số, biến số (X, Y)\n",
    "         - Toán tử: xác định cách thức làm việc giữa các toán hạng (+.-,*,/)\n",
    "    \n",
    "    Dưới đây là một số biểu thức toán học của kiểu dữ liệu số trong Python\n",
    "\n",
    "![](https://f.howkteam.vn/Upload/cke/images/2_IMAGE%20TUTORIAL/3_Python/01_Python%20c%C6%A1%20b%E1%BA%A3n/B06_Ki%E1%BB%83u%20d%E1%BB%AF%20li%E1%BB%87u%20s%E1%BB%91%20trong%20Python/1_Ki%E1%BB%83u%20d%E1%BB%AF%20li%E1%BB%87u%20s%E1%BB%91%20trong%20Python_Howkteam_com.png)"
   ]
  },
  {
   "cell_type": "markdown",
   "id": "d323e4fc",
   "metadata": {},
   "source": [
    "Ví dụ: cho 2 biến a, b lần lượt là 8 và 3. Thực hiện các biểu thức toán học với a, b"
   ]
  },
  {
   "cell_type": "code",
   "execution_count": 70,
   "id": "4985691b",
   "metadata": {},
   "outputs": [],
   "source": [
    "a = 8\n",
    "b = 3"
   ]
  },
  {
   "cell_type": "code",
   "execution_count": 71,
   "id": "bb874a5d",
   "metadata": {},
   "outputs": [
    {
     "data": {
      "text/plain": [
       "11"
      ]
     },
     "execution_count": 71,
     "metadata": {},
     "output_type": "execute_result"
    }
   ],
   "source": [
    "# phép cộng\n",
    "a + b"
   ]
  },
  {
   "cell_type": "code",
   "execution_count": 72,
   "id": "d99109c7",
   "metadata": {},
   "outputs": [
    {
     "data": {
      "text/plain": [
       "5"
      ]
     },
     "execution_count": 72,
     "metadata": {},
     "output_type": "execute_result"
    }
   ],
   "source": [
    "# phép trừ\n",
    "a - b"
   ]
  },
  {
   "cell_type": "code",
   "execution_count": 73,
   "id": "21332d9e",
   "metadata": {},
   "outputs": [
    {
     "data": {
      "text/plain": [
       "24"
      ]
     },
     "execution_count": 73,
     "metadata": {},
     "output_type": "execute_result"
    }
   ],
   "source": [
    "# phép nhân\n",
    "a * b"
   ]
  },
  {
   "cell_type": "code",
   "execution_count": 75,
   "id": "ffbeba4b",
   "metadata": {},
   "outputs": [
    {
     "data": {
      "text/plain": [
       "2.6666666666666665"
      ]
     },
     "execution_count": 75,
     "metadata": {},
     "output_type": "execute_result"
    }
   ],
   "source": [
    "#phép chia\n",
    "a / b"
   ]
  },
  {
   "cell_type": "code",
   "execution_count": 76,
   "id": "53589839",
   "metadata": {},
   "outputs": [
    {
     "data": {
      "text/plain": [
       "2"
      ]
     },
     "execution_count": 76,
     "metadata": {},
     "output_type": "execute_result"
    }
   ],
   "source": [
    "# chia lấy phần dư\n",
    "a % b"
   ]
  },
  {
   "cell_type": "code",
   "execution_count": 77,
   "id": "7b5da010",
   "metadata": {},
   "outputs": [
    {
     "data": {
      "text/plain": [
       "512"
      ]
     },
     "execution_count": 77,
     "metadata": {},
     "output_type": "execute_result"
    }
   ],
   "source": [
    "# lũy thừa\n",
    "a ** b"
   ]
  },
  {
   "cell_type": "markdown",
   "id": "b42a7ed2",
   "metadata": {},
   "source": [
    "## Thư viện trong Python\n",
    "\n",
    "    Thư viện trong Python hỗ trợ rất nhiều hàm tính toán liên quan đến toán học.\n",
    "    Để sử dụng một thư viện nào đó, ta dùng lệnh:\n",
    "        import<tên_thư_viện>\n",
    "    Muốn sử dụng một hàm nào đó của thư viện, ta sử dụng cú pháp:\n",
    "        <tên_thư_viện>.<tên_hàm>\n",
    "\n",
    "Dưới đây là một số hàm thường được dùng trong việc tính toán cơ bản.\n",
    "\n",
    "![](https://f.howkteam.vn/Upload/cke/images/2_IMAGE%20TUTORIAL/3_Python/01_Python%20c%C6%A1%20b%E1%BA%A3n/B06_Ki%E1%BB%83u%20d%E1%BB%AF%20li%E1%BB%87u%20s%E1%BB%91%20trong%20Python/2_Ki%E1%BB%83u%20d%E1%BB%AF%20li%E1%BB%87u%20s%E1%BB%91%20trong%20Python_Howkteam_com.png)"
   ]
  },
  {
   "cell_type": "markdown",
   "id": "b80914b6",
   "metadata": {},
   "source": [
    "Ví dụ: lấy nội dung của thư viện math về sử dụng."
   ]
  },
  {
   "cell_type": "code",
   "execution_count": 78,
   "id": "fa50003c",
   "metadata": {},
   "outputs": [
    {
     "data": {
      "text/plain": [
       "3"
      ]
     },
     "execution_count": 78,
     "metadata": {},
     "output_type": "execute_result"
    }
   ],
   "source": [
    "import math\n",
    "math.trunc(3.9)"
   ]
  },
  {
   "cell_type": "code",
   "execution_count": 79,
   "id": "0d758113",
   "metadata": {},
   "outputs": [
    {
     "data": {
      "text/plain": [
       "3.0"
      ]
     },
     "execution_count": 79,
     "metadata": {},
     "output_type": "execute_result"
    }
   ],
   "source": [
    "math.fabs(-3)"
   ]
  },
  {
   "cell_type": "code",
   "execution_count": 80,
   "id": "fd6dbce8",
   "metadata": {},
   "outputs": [
    {
     "data": {
      "text/plain": [
       "4.0"
      ]
     },
     "execution_count": 80,
     "metadata": {},
     "output_type": "execute_result"
    }
   ],
   "source": [
    "math.sqrt(16)"
   ]
  },
  {
   "cell_type": "code",
   "execution_count": 81,
   "id": "8360605c",
   "metadata": {},
   "outputs": [
    {
     "data": {
      "text/plain": [
       "2"
      ]
     },
     "execution_count": 81,
     "metadata": {},
     "output_type": "execute_result"
    }
   ],
   "source": [
    "math.gcd(6, 4)"
   ]
  }
 ],
 "metadata": {
  "kernelspec": {
   "display_name": "Python 3",
   "language": "python",
   "name": "python3"
  },
  "language_info": {
   "codemirror_mode": {
    "name": "ipython",
    "version": 3
   },
   "file_extension": ".py",
   "mimetype": "text/x-python",
   "name": "python",
   "nbconvert_exporter": "python",
   "pygments_lexer": "ipython3",
   "version": "3.8.8"
  }
 },
 "nbformat": 4,
 "nbformat_minor": 5
}
