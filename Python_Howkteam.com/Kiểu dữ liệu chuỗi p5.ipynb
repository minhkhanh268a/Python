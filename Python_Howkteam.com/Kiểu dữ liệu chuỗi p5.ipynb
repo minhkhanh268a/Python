{
 "cells": [
  {
   "cell_type": "markdown",
   "id": "462b6ea3",
   "metadata": {},
   "source": [
    "# Nội Dung:\n",
    "- Các phương thức tách chuỗi\n",
    "    - Phương thức split\n",
    "    - Phương thức rsplit\n",
    "    - Phương thức partition\n",
    "    - Phương thức rpartition\n",
    "- Các phương thức tiện ích\n",
    "    - Phương thức count\n",
    "    - Phương thức startswith\n",
    "    - Phương thức endswith\n",
    "    - Phương thức find\n",
    "    - Phương thức rfind\n",
    "    - Phương thức index\n",
    "    - Phương thức rindex\n",
    "- Các phương thức xác thực\n",
    "    - Phương thức islower\n",
    "    - Phương thức isupper\n",
    "    - Phương thức istitle\n",
    "    - Phương thức isdigit\n",
    "    - Phương thức isspace"
   ]
  },
  {
   "cell_type": "markdown",
   "id": "e51a639a",
   "metadata": {},
   "source": [
    "## Cách phương thức tách chuỗi\n",
    "\n",
    "### Phương thức split\n",
    "- Cú pháp: \n",
    "        <chuỗi>.split(sep=None,maxsplit=-1)\n",
    "- Công dụng: Trả về một list (kiểu dữ liệu list) bằng cách chia các phần tử bằng kí tự sep.\n",
    "    - Nếu sep mặc định bằng None thì sẽ dùng kí tự khoảng trắng.\n",
    "    - Nếu maxsplit được mặc định bằng -1, Python sẽ không bị giới hạn việc tách, còn không Python sẽ tách với số lần được cung cấp thông qua maxsplit.\n",
    "    - Tách chuỗi từ bên trái sang phải."
   ]
  },
  {
   "cell_type": "code",
   "execution_count": 13,
   "id": "13bbe704",
   "metadata": {},
   "outputs": [
    {
     "data": {
      "text/plain": [
       "['Hello', 'My', 'namne', 'is', 'Khánh']"
      ]
     },
     "execution_count": 13,
     "metadata": {},
     "output_type": "execute_result"
    }
   ],
   "source": [
    "# sep = None \n",
    "# maxsplit mặc định = -1\n",
    "# tách các phần tư bằng khoảng trắng\n",
    "# không giới hạn việc tách\n",
    "'Hello My namne is Khánh'.split()"
   ]
  },
  {
   "cell_type": "code",
   "execution_count": 22,
   "id": "3a7a3f79",
   "metadata": {},
   "outputs": [
    {
     "data": {
      "text/plain": [
       "['Hello', 'My namne is Khánh']"
      ]
     },
     "execution_count": 22,
     "metadata": {},
     "output_type": "execute_result"
    }
   ],
   "source": [
    "# sep = None\n",
    "# maxsplit = 1 \n",
    "# chỉ tách 1 phần tử từ bên trái sang phải bởi ()\n",
    "'Hello My namne is Khánh'.split(maxsplit=1)"
   ]
  },
  {
   "cell_type": "code",
   "execution_count": 14,
   "id": "665b5c1c",
   "metadata": {},
   "outputs": [
    {
     "data": {
      "text/plain": [
       "['Hello', 'My', 'namne', 'is', 'Khánh']"
      ]
     },
     "execution_count": 14,
     "metadata": {},
     "output_type": "execute_result"
    }
   ],
   "source": [
    "# sep = '--'\n",
    "# max split mặc định\n",
    "# tách các phần tử không giới hạn bởi --\n",
    "'Hello--My--namne--is--Khánh'.split('--')"
   ]
  },
  {
   "cell_type": "code",
   "execution_count": 15,
   "id": "2a9802af",
   "metadata": {},
   "outputs": [
    {
     "data": {
      "text/plain": [
       "['Hello', 'My', 'namne', 'is', 'Khánh']"
      ]
     },
     "execution_count": 15,
     "metadata": {},
     "output_type": "execute_result"
    }
   ],
   "source": [
    "# sep = '%'\n",
    "# max split mặc định\n",
    "# tách các phần tử không giới hạn bởi %\n",
    "'Hello%My%namne%is%Khánh'.split('%')"
   ]
  },
  {
   "cell_type": "code",
   "execution_count": 18,
   "id": "b06282d4",
   "metadata": {},
   "outputs": [
    {
     "data": {
      "text/plain": [
       "['Hello', 'My', 'namne%is%Khánh']"
      ]
     },
     "execution_count": 18,
     "metadata": {},
     "output_type": "execute_result"
    }
   ],
   "source": [
    "# sep = '%'\n",
    "# max split 2\n",
    "# tách 2 phần tử đầu bởi %\n",
    "'Hello%My%namne%is%Khánh'.split('%',maxsplit=2)"
   ]
  },
  {
   "cell_type": "markdown",
   "id": "8bf0fe5d",
   "metadata": {},
   "source": [
    "### Phương thức rsplit\n",
    "- Cú pháp:\n",
    "        <chuỗi>.rsplit(sep=None,maxsplit=-1)\n",
    "- Công dụng: cũng hoàn toàn như phương thức split, có điều việc tách là từ bên phải sang trái."
   ]
  },
  {
   "cell_type": "code",
   "execution_count": 19,
   "id": "3ca07cbd",
   "metadata": {},
   "outputs": [
    {
     "data": {
      "text/plain": [
       "['Hello', 'My', 'namne', 'is', 'Khánh']"
      ]
     },
     "execution_count": 19,
     "metadata": {},
     "output_type": "execute_result"
    }
   ],
   "source": [
    "# sep = None\n",
    "# max split mặc định\n",
    "# tách các phần tử không giới hạn bởi ()\n",
    "'Hello My namne is Khánh'.rsplit()"
   ]
  },
  {
   "cell_type": "code",
   "execution_count": 21,
   "id": "d15218a5",
   "metadata": {},
   "outputs": [
    {
     "data": {
      "text/plain": [
       "['Hello My namne is', 'Khánh']"
      ]
     },
     "execution_count": 21,
     "metadata": {},
     "output_type": "execute_result"
    }
   ],
   "source": [
    "# sep = None\n",
    "# max split = 1 \n",
    "# tách 1 phần tử từ phải sang trái bởi ()\n",
    "'Hello My namne is Khánh'.rsplit(maxsplit=1)"
   ]
  },
  {
   "cell_type": "code",
   "execution_count": 24,
   "id": "b0ccddd8",
   "metadata": {},
   "outputs": [
    {
     "data": {
      "text/plain": [
       "['Hello%My%namne', 'is', 'Khánh']"
      ]
     },
     "execution_count": 24,
     "metadata": {},
     "output_type": "execute_result"
    }
   ],
   "source": [
    "# sep = '%'\n",
    "# max split 2\n",
    "# tách 2 phần tử cuối bởi %\n",
    "'Hello%My%namne%is%Khánh'.rsplit('%',maxsplit=2)"
   ]
  },
  {
   "cell_type": "markdown",
   "id": "966d4630",
   "metadata": {},
   "source": [
    "### Phương thức partition\n",
    "\n",
    "- Cú pháp:\n",
    "        <chuỗi>.partition(sep)\n",
    "- Công dụng: Trả về một tuple với 3 phần tử. Các phần tử đó lần lượt là chuỗi trước chuỗi sep, sep và chuỗi sau sep.\n",
    "    - Trong trường hợp không tìm thấy sep trong chuỗi, mặc định trả về giá trị đầu tiên là chuỗi ban đầu và 2 giá trị kế tiếp là chuỗi rỗng."
   ]
  },
  {
   "cell_type": "code",
   "execution_count": 25,
   "id": "7f108fa0",
   "metadata": {},
   "outputs": [
    {
     "data": {
      "text/plain": [
       "('How ktem ', 'vs', ' I hate python team vs Education')"
      ]
     },
     "execution_count": 25,
     "metadata": {},
     "output_type": "execute_result"
    }
   ],
   "source": [
    "# sep = 'vs'\n",
    "# tách ra 3 phần tử: \n",
    "#     trước 'vs' \n",
    "#     'vs'\n",
    "#     sau 'vs'\n",
    "'How ktem vs I hate python team vs Education'.partition('vs')"
   ]
  },
  {
   "cell_type": "code",
   "execution_count": 27,
   "id": "c91248b0",
   "metadata": {},
   "outputs": [
    {
     "data": {
      "text/plain": [
       "('How kteam vs I hate python team vs Education', '', '')"
      ]
     },
     "execution_count": 27,
     "metadata": {},
     "output_type": "execute_result"
    }
   ],
   "source": [
    "# sep 'VS' không có trong chuỗi\n",
    "# mặc định trả về chuỗi ban đầu và 2 giá trị kế tiếp là chuỗi rỗng\n",
    "'How kteam vs I hate python team vs Education'.partition('VS')"
   ]
  },
  {
   "cell_type": "markdown",
   "id": "9c79dc0f",
   "metadata": {},
   "source": [
    "### Phương thức rpartition\n",
    "- Cú Pháp:\n",
    "        <chuỗi>.rpartition(sep)\n",
    "- Công dụng: Cách phân chia giống như phương thức partition nhưng lại chia từ phải qua trái và với sep không có trong chuỗi thì sẽ trả về 2 giá trị đầu tiên là chuỗi rỗng và cuối cùng là chuỗi ban đầu."
   ]
  },
  {
   "cell_type": "code",
   "execution_count": 29,
   "id": "d1862f0d",
   "metadata": {},
   "outputs": [
    {
     "data": {
      "text/plain": [
       "('How kteam vs I hate python team ', 'vs', ' free Education')"
      ]
     },
     "execution_count": 29,
     "metadata": {},
     "output_type": "execute_result"
    }
   ],
   "source": [
    "# sep = 'vs'\n",
    "# tách ra 3 phần tử:\n",
    "#     trước 'vs'\n",
    "#     'vs'\n",
    "#     sau 'vs'\n",
    "'How kteam vs I hate python team vs free Education'.rpartition('vs')\n",
    "('How kteam vs I hate python team ', 'vs', ' free Education')"
   ]
  },
  {
   "cell_type": "code",
   "execution_count": 31,
   "id": "77f18dff",
   "metadata": {},
   "outputs": [
    {
     "data": {
      "text/plain": [
       "('', '', 'How kteam vs I hate python team vs Education')"
      ]
     },
     "execution_count": 31,
     "metadata": {},
     "output_type": "execute_result"
    }
   ],
   "source": [
    "# sep 'VS' không có trong chuỗi\n",
    "# mặc định trả về 2 giá trị đầu là chuỗi rỗng và cuối cùng là chuỗi ban đầu\n",
    "'How kteam vs I hate python team vs Education'.rpartition('VS')"
   ]
  },
  {
   "cell_type": "markdown",
   "id": "f8a56190",
   "metadata": {},
   "source": [
    "## Các phương thức tiện ích\n",
    "\n",
    "### Phương thức count\n",
    "- Cú pháp:\n",
    "        <chuỗi>.count(sub,[start, end])\n",
    "- Công dụng: Trả về một số nguyên, chính là số lần xuất hiện của sub trong chuỗi. Còn start và end là số kĩ thuật slicing (lưu ý không hề có bước nhảy)."
   ]
  },
  {
   "cell_type": "code",
   "execution_count": 32,
   "id": "8ceb5707",
   "metadata": {},
   "outputs": [
    {
     "data": {
      "text/plain": [
       "5"
      ]
     },
     "execution_count": 32,
     "metadata": {},
     "output_type": "execute_result"
    }
   ],
   "source": [
    "#'k' xuất hiện 5 lần \n",
    "'kkkkk'.count('k')"
   ]
  },
  {
   "cell_type": "code",
   "execution_count": 33,
   "id": "fdbfb1b9",
   "metadata": {},
   "outputs": [
    {
     "data": {
      "text/plain": [
       "2"
      ]
     },
     "execution_count": 33,
     "metadata": {},
     "output_type": "execute_result"
    }
   ],
   "source": [
    "# 'kk' xuất hiện 2 lần\n",
    "'kkkkk'.count('kk')"
   ]
  },
  {
   "cell_type": "code",
   "execution_count": 156,
   "id": "102d6581",
   "metadata": {},
   "outputs": [
    {
     "data": {
      "text/plain": [
       "2"
      ]
     },
     "execution_count": 156,
     "metadata": {},
     "output_type": "execute_result"
    }
   ],
   "source": [
    "# start = 3, end = None\n",
    "# chạy từ vị trí thứ 3 đến hết chuỗi\n",
    "# k xuất hiện 2 lần\n",
    "'kkkkk'.count('k', 3)"
   ]
  },
  {
   "cell_type": "code",
   "execution_count": 35,
   "id": "c8303f57",
   "metadata": {},
   "outputs": [
    {
     "data": {
      "text/plain": [
       "1"
      ]
     },
     "execution_count": 35,
     "metadata": {},
     "output_type": "execute_result"
    }
   ],
   "source": [
    "'kkkkk'.count('kk', 3)"
   ]
  },
  {
   "cell_type": "code",
   "execution_count": 36,
   "id": "f3561ac7",
   "metadata": {},
   "outputs": [
    {
     "data": {
      "text/plain": [
       "1"
      ]
     },
     "execution_count": 36,
     "metadata": {},
     "output_type": "execute_result"
    }
   ],
   "source": [
    "'kkkkk'.count('k', 3, 4)"
   ]
  },
  {
   "cell_type": "code",
   "execution_count": 37,
   "id": "6b09a2e1",
   "metadata": {},
   "outputs": [
    {
     "data": {
      "text/plain": [
       "3"
      ]
     },
     "execution_count": 37,
     "metadata": {},
     "output_type": "execute_result"
    }
   ],
   "source": [
    "'kkkkk'.count('k', 1,4)"
   ]
  },
  {
   "cell_type": "markdown",
   "id": "75f549fe",
   "metadata": {},
   "source": [
    "### Phương thức startswith\n",
    "- Cú pháp:\n",
    "        <chuỗi>.startswith(prefix,[start, end])\n",
    "- Công dụng: \n",
    "    - Trả về giá trị True nếu chuỗi đó bắt đầu bằng chuỗi prefix. Ngược lại là False.\n",
    "    - Hai yếu tố start, end tương tự cho việc slicing (không có bước nhảy) để kiểm tra với chuỗi slicing đó."
   ]
  },
  {
   "cell_type": "code",
   "execution_count": 72,
   "id": "0e0fece0",
   "metadata": {},
   "outputs": [
    {
     "data": {
      "text/plain": [
       "True"
      ]
     },
     "execution_count": 72,
     "metadata": {},
     "output_type": "execute_result"
    }
   ],
   "source": [
    "# start, end = None\n",
    "# chạy hết chuỗi và bắt dầu là 'ho'\n",
    "'how kteam free education'.startswith('ho')"
   ]
  },
  {
   "cell_type": "code",
   "execution_count": 41,
   "id": "29efe46b",
   "metadata": {},
   "outputs": [
    {
     "data": {
      "text/plain": [
       "False"
      ]
     },
     "execution_count": 41,
     "metadata": {},
     "output_type": "execute_result"
    }
   ],
   "source": [
    "'how kteam free education'.startswith('ha')"
   ]
  },
  {
   "cell_type": "code",
   "execution_count": 43,
   "id": "17935db6",
   "metadata": {},
   "outputs": [
    {
     "data": {
      "text/plain": [
       "False"
      ]
     },
     "execution_count": 43,
     "metadata": {},
     "output_type": "execute_result"
    }
   ],
   "source": [
    "# bắt đầu vị trị thứ 4 đến hết chuỗi không có 'ho'\n",
    "'how kteam free education'.startswith('ho', 4)"
   ]
  },
  {
   "cell_type": "code",
   "execution_count": 60,
   "id": "bb520be8",
   "metadata": {},
   "outputs": [
    {
     "data": {
      "text/plain": [
       "True"
      ]
     },
     "execution_count": 60,
     "metadata": {},
     "output_type": "execute_result"
    }
   ],
   "source": [
    "# 'kt' bắt đầu từ vị trí 4\n",
    "'how kteam free education'.startswith('kt', 4,16)"
   ]
  },
  {
   "cell_type": "code",
   "execution_count": 61,
   "id": "238266d0",
   "metadata": {},
   "outputs": [
    {
     "data": {
      "text/plain": [
       "False"
      ]
     },
     "execution_count": 61,
     "metadata": {},
     "output_type": "execute_result"
    }
   ],
   "source": [
    "# 'kt' bắt đầu từ vị trí 4\n",
    "# cho prefix start từ vị trí 3 \n",
    "'how kteam free education'.startswith('kt', 3,16)"
   ]
  },
  {
   "cell_type": "markdown",
   "id": "6f217728",
   "metadata": {},
   "source": [
    "### Phương thức endswith\n",
    "- Cú pháp:\n",
    "        <chuỗi>.endswith(prefix,[start, end])\n",
    "- Công dụng: \n",
    "    - Trả về một giá trị True nếu chuỗi đó kết thúc bằng chuỗi prefix. Ngược lại là Flase.\n",
    "    - Hai yếu tố start và end tượng trưng cho việc slicing (không có bước nhảy) để kiểm tra với chuỗi slicing đó."
   ]
  },
  {
   "cell_type": "code",
   "execution_count": 73,
   "id": "92f72c12",
   "metadata": {},
   "outputs": [
    {
     "data": {
      "text/plain": [
       "True"
      ]
     },
     "execution_count": 73,
     "metadata": {},
     "output_type": "execute_result"
    }
   ],
   "source": [
    "# star, end = None \n",
    "# chạy hết chuỗi và kết thút là 'n'\n",
    "'how kteam free education'.endswith('n')"
   ]
  },
  {
   "cell_type": "code",
   "execution_count": 65,
   "id": "ea7346d3",
   "metadata": {},
   "outputs": [
    {
     "data": {
      "text/plain": [
       "True"
      ]
     },
     "execution_count": 65,
     "metadata": {},
     "output_type": "execute_result"
    }
   ],
   "source": [
    "'how kteam free education'.endswith('on')"
   ]
  },
  {
   "cell_type": "code",
   "execution_count": 66,
   "id": "859f8db1",
   "metadata": {},
   "outputs": [
    {
     "data": {
      "text/plain": [
       "False"
      ]
     },
     "execution_count": 66,
     "metadata": {},
     "output_type": "execute_result"
    }
   ],
   "source": [
    "'how kteam free education'.endswith('ho')"
   ]
  },
  {
   "cell_type": "code",
   "execution_count": 79,
   "id": "7ab076b4",
   "metadata": {},
   "outputs": [
    {
     "data": {
      "text/plain": [
       "False"
      ]
     },
     "execution_count": 79,
     "metadata": {},
     "output_type": "execute_result"
    }
   ],
   "source": [
    "# start vị trí đầu tiên kết thúc là: m\n",
    "'how kteam free education'.endswith('n', 0, 9)"
   ]
  },
  {
   "cell_type": "code",
   "execution_count": 106,
   "id": "16999dbe",
   "metadata": {},
   "outputs": [
    {
     "data": {
      "text/plain": [
       "True"
      ]
     },
     "execution_count": 106,
     "metadata": {},
     "output_type": "execute_result"
    }
   ],
   "source": [
    "'how kteam free education'.endswith('m', 0, 9)"
   ]
  },
  {
   "cell_type": "markdown",
   "id": "467160c7",
   "metadata": {},
   "source": [
    "### Phương thức find:\n",
    "- Cú pháp:\n",
    "        <chuỗi>.find(sub,[start ,end])\n",
    "- Công dụng: \n",
    "    - Trả về một số nguyên là vị trí đầu tiên của sub khi dò từ trái sang phải trong chuỗi. \n",
    "    - Nếu sub không có trong chuỗi, kết quả sẽ là -1. \n",
    "    - Vẫn như các phương thức khác start, end đại diện cho slicing."
   ]
  },
  {
   "cell_type": "code",
   "execution_count": 107,
   "id": "d0b08f56",
   "metadata": {},
   "outputs": [
    {
     "data": {
      "text/plain": [
       "1"
      ]
     },
     "execution_count": 107,
     "metadata": {},
     "output_type": "execute_result"
    }
   ],
   "source": [
    "'Minh Khánh'.find('i')"
   ]
  },
  {
   "cell_type": "code",
   "execution_count": 108,
   "id": "09990906",
   "metadata": {},
   "outputs": [
    {
     "data": {
      "text/plain": [
       "2"
      ]
     },
     "execution_count": 108,
     "metadata": {},
     "output_type": "execute_result"
    }
   ],
   "source": [
    "# start, end = None\n",
    "# chạy hết chuỗi từ trái sang phải\n",
    "# 'n' xuất hiện đầu tiên ở vị trí thứ 2\n",
    "'Minh Khánh'.find('n')"
   ]
  },
  {
   "cell_type": "code",
   "execution_count": 113,
   "id": "68430476",
   "metadata": {},
   "outputs": [
    {
     "data": {
      "text/plain": [
       "8"
      ]
     },
     "execution_count": 113,
     "metadata": {},
     "output_type": "execute_result"
    }
   ],
   "source": [
    "# start = 4\n",
    "# end = 9\n",
    "# chạy từ vị trí thứ 4 đến 9 từ trái sang phải\n",
    "# 'n' xuất hiện đầu tiên ở vị trí thứ 8\n",
    "'Minh Khánh'.find('n',4,9)"
   ]
  },
  {
   "cell_type": "code",
   "execution_count": 109,
   "id": "1bb384d2",
   "metadata": {},
   "outputs": [
    {
     "data": {
      "text/plain": [
       "5"
      ]
     },
     "execution_count": 109,
     "metadata": {},
     "output_type": "execute_result"
    }
   ],
   "source": [
    "'Minh Khánh'.find('K')"
   ]
  },
  {
   "cell_type": "code",
   "execution_count": 114,
   "id": "89bf9f20",
   "metadata": {},
   "outputs": [
    {
     "data": {
      "text/plain": [
       "-1"
      ]
     },
     "execution_count": 114,
     "metadata": {},
     "output_type": "execute_result"
    }
   ],
   "source": [
    "# 'k' không có trong chuỗi\n",
    "# kết quả trả về là -1\n",
    "'Minh Khánh'.find('k')"
   ]
  },
  {
   "cell_type": "code",
   "execution_count": 111,
   "id": "d1427e82",
   "metadata": {},
   "outputs": [
    {
     "data": {
      "text/plain": [
       "-1"
      ]
     },
     "execution_count": 111,
     "metadata": {},
     "output_type": "execute_result"
    }
   ],
   "source": [
    "'Minh Khánh'.find('z')"
   ]
  },
  {
   "cell_type": "markdown",
   "id": "fe144db8",
   "metadata": {},
   "source": [
    "### Phương thức rfind\n",
    "- Cú pháp: \n",
    "        <chuỗi>.rfind(sub,[start, end])\n",
    "-  Công dụng: Tương tự như find nhưng tìm từ phải sang trái."
   ]
  },
  {
   "cell_type": "code",
   "execution_count": 116,
   "id": "b4bfc9ce",
   "metadata": {},
   "outputs": [
    {
     "data": {
      "text/plain": [
       "5"
      ]
     },
     "execution_count": 116,
     "metadata": {},
     "output_type": "execute_result"
    }
   ],
   "source": [
    "'Minh Khánh' .rfind('K')"
   ]
  },
  {
   "cell_type": "code",
   "execution_count": 117,
   "id": "894f0083",
   "metadata": {},
   "outputs": [
    {
     "data": {
      "text/plain": [
       "8"
      ]
     },
     "execution_count": 117,
     "metadata": {},
     "output_type": "execute_result"
    }
   ],
   "source": [
    "# start, end = None\n",
    "# Tìm hết chuỗi từ phải sang trái \n",
    "# 'n' đầu tiên xuất hiện ở vị trí thứ 8\n",
    "'Minh Khánh' .rfind('n')"
   ]
  },
  {
   "cell_type": "code",
   "execution_count": 122,
   "id": "7e71f16f",
   "metadata": {},
   "outputs": [
    {
     "data": {
      "text/plain": [
       "2"
      ]
     },
     "execution_count": 122,
     "metadata": {},
     "output_type": "execute_result"
    }
   ],
   "source": [
    "# start 0, end = 5\n",
    "# Tìm từ vị trị 0 đến 5\n",
    "# 'n' đầu tiên xuất hiện ở vị trí thứ 2\n",
    "'Minh Khánh' .rfind('n',0,5)"
   ]
  },
  {
   "cell_type": "markdown",
   "id": "683755d3",
   "metadata": {},
   "source": [
    "### Phương thức index\n",
    "- Cú pháp:\n",
    "        <chuỗi>.index(sub,[start ,end])\n",
    "- Công dụng:\n",
    "    - Tương tự phương thức find.\n",
    "    - Nhưng khác biệt là sẽ có lỗi ValueError nếu không tìm thấy chuỗi sub trong chuỗi ban đầu"
   ]
  },
  {
   "cell_type": "code",
   "execution_count": 123,
   "id": "2a2be491",
   "metadata": {
    "scrolled": true
   },
   "outputs": [
    {
     "ename": "ValueError",
     "evalue": "substring not found",
     "output_type": "error",
     "traceback": [
      "\u001b[1;31m---------------------------------------------------------------------------\u001b[0m",
      "\u001b[1;31mValueError\u001b[0m                                Traceback (most recent call last)",
      "\u001b[1;32m<ipython-input-123-da535177b2f8>\u001b[0m in \u001b[0;36m<module>\u001b[1;34m\u001b[0m\n\u001b[0;32m      1\u001b[0m \u001b[1;31m# 'z' không có trong chuỗi\u001b[0m\u001b[1;33m\u001b[0m\u001b[1;33m\u001b[0m\u001b[1;33m\u001b[0m\u001b[0m\n\u001b[1;32m----> 2\u001b[1;33m \u001b[1;34m'abcd'\u001b[0m\u001b[1;33m.\u001b[0m\u001b[0mindex\u001b[0m\u001b[1;33m(\u001b[0m\u001b[1;34m'z'\u001b[0m\u001b[1;33m)\u001b[0m\u001b[1;33m\u001b[0m\u001b[1;33m\u001b[0m\u001b[0m\n\u001b[0m",
      "\u001b[1;31mValueError\u001b[0m: substring not found"
     ]
    }
   ],
   "source": [
    "# 'z' không có trong chuỗi\n",
    "'abcd'.index('z')"
   ]
  },
  {
   "cell_type": "code",
   "execution_count": 126,
   "id": "cf1dc446",
   "metadata": {},
   "outputs": [
    {
     "data": {
      "text/plain": [
       "2"
      ]
     },
     "execution_count": 126,
     "metadata": {},
     "output_type": "execute_result"
    }
   ],
   "source": [
    "# c nằm ở vị trí thứ 2 \n",
    "'abcd'.index('c')"
   ]
  },
  {
   "cell_type": "code",
   "execution_count": 127,
   "id": "31ba4bab",
   "metadata": {},
   "outputs": [
    {
     "data": {
      "text/plain": [
       "0"
      ]
     },
     "execution_count": 127,
     "metadata": {},
     "output_type": "execute_result"
    }
   ],
   "source": [
    "'abcd'.index('a')"
   ]
  },
  {
   "cell_type": "code",
   "execution_count": 132,
   "id": "81753940",
   "metadata": {},
   "outputs": [
    {
     "data": {
      "text/plain": [
       "6"
      ]
     },
     "execution_count": 132,
     "metadata": {},
     "output_type": "execute_result"
    }
   ],
   "source": [
    "# start 4, end = 8 \n",
    "# tìm từ vị trí đầu tiên đến vị trí thứ 4 chiều từ phải sang trái\n",
    "# 'c' xuất hiện đầu tiên ở vị trí thứ 6\n",
    "'abcd dcba'.rindex('c',4,8)"
   ]
  },
  {
   "cell_type": "markdown",
   "id": "f9e1dcd8",
   "metadata": {},
   "source": [
    "### Phương thức rindex\n",
    "- Cú pháp:\n",
    "        <chuỗi>.rindex(sub, [start ,end])\n",
    "- Công dụng: \n",
    "    - Tương tự phương thức rfind.\n",
    "    - Và cũng khác ở điểm là sẽ có ValueError nếu không tìm thấy chuỗi sub trong chuỗi ban đầu."
   ]
  },
  {
   "cell_type": "code",
   "execution_count": 128,
   "id": "7e597c0c",
   "metadata": {
    "scrolled": true
   },
   "outputs": [
    {
     "ename": "ValueError",
     "evalue": "substring not found",
     "output_type": "error",
     "traceback": [
      "\u001b[1;31m---------------------------------------------------------------------------\u001b[0m",
      "\u001b[1;31mValueError\u001b[0m                                Traceback (most recent call last)",
      "\u001b[1;32m<ipython-input-128-9be59932861f>\u001b[0m in \u001b[0;36m<module>\u001b[1;34m\u001b[0m\n\u001b[0;32m      1\u001b[0m \u001b[1;31m# 'z' không có trong chuỗi\u001b[0m\u001b[1;33m\u001b[0m\u001b[1;33m\u001b[0m\u001b[1;33m\u001b[0m\u001b[0m\n\u001b[1;32m----> 2\u001b[1;33m \u001b[1;34m'abcd'\u001b[0m\u001b[1;33m.\u001b[0m\u001b[0mrindex\u001b[0m\u001b[1;33m(\u001b[0m\u001b[1;34m'z'\u001b[0m\u001b[1;33m)\u001b[0m\u001b[1;33m\u001b[0m\u001b[1;33m\u001b[0m\u001b[0m\n\u001b[0m",
      "\u001b[1;31mValueError\u001b[0m: substring not found"
     ]
    }
   ],
   "source": [
    "# 'z' không có trong chuỗi\n",
    "'abcd'.rindex('z')"
   ]
  },
  {
   "cell_type": "code",
   "execution_count": 129,
   "id": "6b1815c1",
   "metadata": {},
   "outputs": [
    {
     "data": {
      "text/plain": [
       "6"
      ]
     },
     "execution_count": 129,
     "metadata": {},
     "output_type": "execute_result"
    }
   ],
   "source": [
    "# start, end = None \n",
    "# tìm hết chuỗi từ phải sang trái\n",
    "# 'c' xuất hiện đầu tiên ở vị trí thứ 6\n",
    "'abcd dcba'.rindex('c')"
   ]
  },
  {
   "cell_type": "code",
   "execution_count": 131,
   "id": "8bac5e86",
   "metadata": {},
   "outputs": [
    {
     "data": {
      "text/plain": [
       "2"
      ]
     },
     "execution_count": 131,
     "metadata": {},
     "output_type": "execute_result"
    }
   ],
   "source": [
    "# start 0, end = 4 \n",
    "# tìm từ vị trí đầu tiên đến vị trí thứ 4 chiều từ phải sang trái\n",
    "# 'c' xuất hiện đầu tiên ở vị trí thứ 2\n",
    "'abcd dcba'.rindex('c',0,4)"
   ]
  },
  {
   "cell_type": "markdown",
   "id": "6ffd2330",
   "metadata": {},
   "source": [
    "## Các phương thức xác thực\n",
    "### Phương thức islower\n",
    "- Cú pháp:\n",
    "        <chuỗi>.islower()\n",
    "- Công dụng: Trả về True nếu tất cả các kí tự trong chuỗi là viết thường. Ngược lại False."
   ]
  },
  {
   "cell_type": "code",
   "execution_count": 133,
   "id": "ee38633b",
   "metadata": {},
   "outputs": [
    {
     "data": {
      "text/plain": [
       "True"
      ]
     },
     "execution_count": 133,
     "metadata": {},
     "output_type": "execute_result"
    }
   ],
   "source": [
    "'python'.islower()"
   ]
  },
  {
   "cell_type": "code",
   "execution_count": 134,
   "id": "1960e555",
   "metadata": {},
   "outputs": [
    {
     "data": {
      "text/plain": [
       "False"
      ]
     },
     "execution_count": 134,
     "metadata": {},
     "output_type": "execute_result"
    }
   ],
   "source": [
    "'Python' .islower()"
   ]
  },
  {
   "cell_type": "code",
   "execution_count": 135,
   "id": "6252e89c",
   "metadata": {},
   "outputs": [
    {
     "data": {
      "text/plain": [
       "False"
      ]
     },
     "execution_count": 135,
     "metadata": {},
     "output_type": "execute_result"
    }
   ],
   "source": [
    "'KHANH'.islower()"
   ]
  },
  {
   "cell_type": "markdown",
   "id": "705ac57d",
   "metadata": {},
   "source": [
    "### Phương thức isupper\n",
    "- Cú pháp:\n",
    "        <chuỗi>.isupper()\n",
    "- Công dụng: Trả về True nếu tất cả các kí tự trong chuỗi dề viết hoa. Ngược lại là False"
   ]
  },
  {
   "cell_type": "code",
   "execution_count": 136,
   "id": "91e0f43a",
   "metadata": {},
   "outputs": [
    {
     "data": {
      "text/plain": [
       "True"
      ]
     },
     "execution_count": 136,
     "metadata": {},
     "output_type": "execute_result"
    }
   ],
   "source": [
    "'PYTHON'.isupper()"
   ]
  },
  {
   "cell_type": "code",
   "execution_count": 137,
   "id": "14669e35",
   "metadata": {},
   "outputs": [
    {
     "data": {
      "text/plain": [
       "False"
      ]
     },
     "execution_count": 137,
     "metadata": {},
     "output_type": "execute_result"
    }
   ],
   "source": [
    "'python'.isupper()"
   ]
  },
  {
   "cell_type": "code",
   "execution_count": 138,
   "id": "239752b0",
   "metadata": {},
   "outputs": [
    {
     "data": {
      "text/plain": [
       "False"
      ]
     },
     "execution_count": 138,
     "metadata": {},
     "output_type": "execute_result"
    }
   ],
   "source": [
    "'Khánh' .isupper()"
   ]
  },
  {
   "cell_type": "markdown",
   "id": "30978849",
   "metadata": {},
   "source": [
    "### Phương thức istitle\n",
    "- Cú pháp: \n",
    "        <chuỗi>.istitle()\n",
    "- Công dụng: \n",
    "    - Trả về True nếu chuỗi đó là một dạng title. Ngược lại là False.\n",
    "    - Title: kí tự đầu tiên trong mỗi từ đều viết hoa"
   ]
  },
  {
   "cell_type": "code",
   "execution_count": 139,
   "id": "77380999",
   "metadata": {},
   "outputs": [
    {
     "data": {
      "text/plain": [
       "True"
      ]
     },
     "execution_count": 139,
     "metadata": {},
     "output_type": "execute_result"
    }
   ],
   "source": [
    "'Free Education'.istitle()"
   ]
  },
  {
   "cell_type": "code",
   "execution_count": 140,
   "id": "7d4c5440",
   "metadata": {},
   "outputs": [
    {
     "data": {
      "text/plain": [
       "False"
      ]
     },
     "execution_count": 140,
     "metadata": {},
     "output_type": "execute_result"
    }
   ],
   "source": [
    "'Free education'.istitle()"
   ]
  },
  {
   "cell_type": "code",
   "execution_count": 141,
   "id": "888a31ed",
   "metadata": {},
   "outputs": [
    {
     "data": {
      "text/plain": [
       "False"
      ]
     },
     "execution_count": 141,
     "metadata": {},
     "output_type": "execute_result"
    }
   ],
   "source": [
    "'free Education'.istitle()"
   ]
  },
  {
   "cell_type": "code",
   "execution_count": 142,
   "id": "fc58c0e4",
   "metadata": {},
   "outputs": [
    {
     "data": {
      "text/plain": [
       "False"
      ]
     },
     "execution_count": 142,
     "metadata": {},
     "output_type": "execute_result"
    }
   ],
   "source": [
    "'FREE Education'.istitle()"
   ]
  },
  {
   "cell_type": "code",
   "execution_count": 143,
   "id": "ae8c61b1",
   "metadata": {},
   "outputs": [
    {
     "data": {
      "text/plain": [
       "False"
      ]
     },
     "execution_count": 143,
     "metadata": {},
     "output_type": "execute_result"
    }
   ],
   "source": [
    "'FrEe Education'.istitle()"
   ]
  },
  {
   "cell_type": "markdown",
   "id": "10aa0be4",
   "metadata": {},
   "source": [
    "### Phương thức isdigit\n",
    "- Cú pháp:\n",
    "        <chuỗi>.isdigit()\n",
    "- Công dụng: Trả về True nếu tất cả các kí tự trong chuỗi đề là những con số từ 0 đến 9 (số nguyên dương và số 0)\n",
    "- Phương thức này gần giống với isnumeric"
   ]
  },
  {
   "cell_type": "code",
   "execution_count": 144,
   "id": "89a10119",
   "metadata": {},
   "outputs": [
    {
     "data": {
      "text/plain": [
       "True"
      ]
     },
     "execution_count": 144,
     "metadata": {},
     "output_type": "execute_result"
    }
   ],
   "source": [
    "'0123'.isdigit()"
   ]
  },
  {
   "cell_type": "code",
   "execution_count": 145,
   "id": "8544adbf",
   "metadata": {},
   "outputs": [
    {
     "data": {
      "text/plain": [
       "True"
      ]
     },
     "execution_count": 145,
     "metadata": {},
     "output_type": "execute_result"
    }
   ],
   "source": [
    "'123'.isdigit()"
   ]
  },
  {
   "cell_type": "code",
   "execution_count": 146,
   "id": "d75923e1",
   "metadata": {},
   "outputs": [
    {
     "data": {
      "text/plain": [
       "True"
      ]
     },
     "execution_count": 146,
     "metadata": {},
     "output_type": "execute_result"
    }
   ],
   "source": [
    "'456'.isdigit()"
   ]
  },
  {
   "cell_type": "code",
   "execution_count": 147,
   "id": "bdca8620",
   "metadata": {},
   "outputs": [
    {
     "data": {
      "text/plain": [
       "False"
      ]
     },
     "execution_count": 147,
     "metadata": {},
     "output_type": "execute_result"
    }
   ],
   "source": [
    "'-123'.isdigit()"
   ]
  },
  {
   "cell_type": "code",
   "execution_count": 148,
   "id": "f2cfa54c",
   "metadata": {},
   "outputs": [
    {
     "data": {
      "text/plain": [
       "True"
      ]
     },
     "execution_count": 148,
     "metadata": {},
     "output_type": "execute_result"
    }
   ],
   "source": [
    "'321'.isdigit()"
   ]
  },
  {
   "cell_type": "code",
   "execution_count": 149,
   "id": "51a37027",
   "metadata": {},
   "outputs": [
    {
     "data": {
      "text/plain": [
       "True"
      ]
     },
     "execution_count": 149,
     "metadata": {},
     "output_type": "execute_result"
    }
   ],
   "source": [
    "'798794'.isdigit()"
   ]
  },
  {
   "cell_type": "code",
   "execution_count": 150,
   "id": "97997586",
   "metadata": {},
   "outputs": [
    {
     "data": {
      "text/plain": [
       "True"
      ]
     },
     "execution_count": 150,
     "metadata": {},
     "output_type": "execute_result"
    }
   ],
   "source": [
    "'798789464131'.isdigit()"
   ]
  },
  {
   "cell_type": "code",
   "execution_count": 151,
   "id": "57749620",
   "metadata": {},
   "outputs": [
    {
     "data": {
      "text/plain": [
       "False"
      ]
     },
     "execution_count": 151,
     "metadata": {},
     "output_type": "execute_result"
    }
   ],
   "source": [
    "'-151515648246545641'.isdigit()"
   ]
  },
  {
   "cell_type": "code",
   "execution_count": 152,
   "id": "98382d29",
   "metadata": {},
   "outputs": [
    {
     "data": {
      "text/plain": [
       "False"
      ]
     },
     "execution_count": 152,
     "metadata": {},
     "output_type": "execute_result"
    }
   ],
   "source": [
    "'abc'.isdigit()"
   ]
  },
  {
   "cell_type": "markdown",
   "id": "309ba6b9",
   "metadata": {},
   "source": [
    "### Phương thức isspace\n",
    "- Cú pháp:\n",
    "        <chuỗi>.isspace()\n",
    "- Công dụng: Trả về True nếu tất cả các kí tự trong chuỗi đề là kí tự khoảng trắng"
   ]
  },
  {
   "cell_type": "code",
   "execution_count": 153,
   "id": "0a85b9ad",
   "metadata": {},
   "outputs": [
    {
     "data": {
      "text/plain": [
       "True"
      ]
     },
     "execution_count": 153,
     "metadata": {},
     "output_type": "execute_result"
    }
   ],
   "source": [
    "'          '.isspace()"
   ]
  },
  {
   "cell_type": "code",
   "execution_count": 154,
   "id": "0f644d62",
   "metadata": {},
   "outputs": [
    {
     "data": {
      "text/plain": [
       "False"
      ]
     },
     "execution_count": 154,
     "metadata": {},
     "output_type": "execute_result"
    }
   ],
   "source": [
    "'       d   '.isspace()"
   ]
  },
  {
   "cell_type": "code",
   "execution_count": 155,
   "id": "378db58c",
   "metadata": {},
   "outputs": [
    {
     "data": {
      "text/plain": [
       "False"
      ]
     },
     "execution_count": 155,
     "metadata": {},
     "output_type": "execute_result"
    }
   ],
   "source": [
    "'      %%%   '.isspace()"
   ]
  },
  {
   "cell_type": "markdown",
   "id": "cb2f1ed5",
   "metadata": {},
   "source": [
    "BT> Hãy dùng các phương thức để có được chuỗi: x = 'Neu Mot Ngay Nao Do'\n",
    "   - x = 'aaaAAaaaooaaneu mot Ngay naO Doaaaaaaa'"
   ]
  },
  {
   "cell_type": "code",
   "execution_count": 202,
   "id": "8831ed4a",
   "metadata": {},
   "outputs": [
    {
     "data": {
      "text/plain": [
       "'Neu Mot Ngay Nao Do'"
      ]
     },
     "execution_count": 202,
     "metadata": {},
     "output_type": "execute_result"
    }
   ],
   "source": [
    "x = 'aaaAAaaaooaaneu mot Ngay naO Doaaaaaaa'\n",
    "x.replace('aaaAAaaaooaaneu mot Ngay naO Doaaaaaaa', 'Neu mot ngay nao do'.title()) "
   ]
  }
 ],
 "metadata": {
  "kernelspec": {
   "display_name": "Python 3",
   "language": "python",
   "name": "python3"
  },
  "language_info": {
   "codemirror_mode": {
    "name": "ipython",
    "version": 3
   },
   "file_extension": ".py",
   "mimetype": "text/x-python",
   "name": "python",
   "nbconvert_exporter": "python",
   "pygments_lexer": "ipython3",
   "version": "3.8.8"
  }
 },
 "nbformat": 4,
 "nbformat_minor": 5
}
